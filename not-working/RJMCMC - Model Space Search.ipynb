{
 "cells": [
  {
   "cell_type": "markdown",
   "metadata": {},
   "source": [
    "RJMCMC For Searching Across Model Space\n",
    "===================\n",
    "\n",
    "This notebook is suppose to demontrate how to use RJMCMC for variable selection across a model state. \n",
    "\n",
    "Let $N_v$ be the number of selected variables, so then the positions (or indices) of selected variables are defined by to $l_1, l_2, ..., l_{N_v}$\n",
    "\n",
    "The model is updated by either proposing $N_v := N_v + 1$ or $N_v := N_v -1 $"
   ]
  },
  {
   "cell_type": "code",
   "execution_count": null,
   "metadata": {
    "collapsed": true
   },
   "outputs": [],
   "source": []
  }
 ],
 "metadata": {
  "kernelspec": {
   "display_name": "Python [conda root]",
   "language": "python",
   "name": "conda-root-py"
  },
  "language_info": {
   "codemirror_mode": {
    "name": "ipython",
    "version": 3
   },
   "file_extension": ".py",
   "mimetype": "text/x-python",
   "name": "python",
   "nbconvert_exporter": "python",
   "pygments_lexer": "ipython3",
   "version": "3.5.2"
  }
 },
 "nbformat": 4,
 "nbformat_minor": 2
}
