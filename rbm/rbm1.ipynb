{
 "cells": [
  {
   "cell_type": "code",
   "execution_count": 3,
   "metadata": {
    "collapsed": true
   },
   "outputs": [],
   "source": [
    "from rbm import BernoulliRBM\n",
    "import numpy as np\n",
    "import pandas as pd\n"
   ]
  },
  {
   "cell_type": "code",
   "execution_count": 4,
   "metadata": {},
   "outputs": [
    {
     "data": {
      "text/plain": [
       "array([[ 0.57221589,  0.57174234,  0.57122901, ...,  0.57167523,\n",
       "         0.57182721,  0.57138708],\n",
       "       [ 0.57221589,  0.57174234,  0.57122901, ...,  0.57167523,\n",
       "         0.57182721,  0.57138708],\n",
       "       [ 0.57221589,  0.57174234,  0.57122901, ...,  0.57167523,\n",
       "         0.57182721,  0.57138708],\n",
       "       ..., \n",
       "       [ 0.57221589,  0.57174234,  0.57122901, ...,  0.57167523,\n",
       "         0.57182721,  0.57138708],\n",
       "       [ 0.57221589,  0.57174234,  0.57122901, ...,  0.57167523,\n",
       "         0.57182721,  0.57138708],\n",
       "       [ 0.57221589,  0.57174234,  0.57122901, ...,  0.57167523,\n",
       "         0.57182721,  0.57138708]])"
      ]
     },
     "execution_count": 4,
     "metadata": {},
     "output_type": "execute_result"
    }
   ],
   "source": [
    "rbm = BernoulliRBM(100)\n",
    "X = np.random.randint(low=0, high=1, size=(100, 100))\n",
    "rbm.fit(X)\n",
    "rbm.transform(X)"
   ]
  },
  {
   "cell_type": "code",
   "execution_count": null,
   "metadata": {
    "collapsed": true
   },
   "outputs": [],
   "source": []
  }
 ],
 "metadata": {
  "kernelspec": {
   "display_name": "Python [default]",
   "language": "python",
   "name": "python3"
  },
  "language_info": {
   "codemirror_mode": {
    "name": "ipython",
    "version": 3
   },
   "file_extension": ".py",
   "mimetype": "text/x-python",
   "name": "python",
   "nbconvert_exporter": "python",
   "pygments_lexer": "ipython3",
   "version": "3.5.2"
  }
 },
 "nbformat": 4,
 "nbformat_minor": 2
}
