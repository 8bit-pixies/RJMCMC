{
 "cells": [
  {
   "cell_type": "markdown",
   "metadata": {},
   "source": [
    "Feature Generation\n",
    "==========\n",
    "\n",
    "We will define feature vector generation (FVG) to be a function $f$ where it takes in one or more vector(s) $x_1, x_2, ...$ all of the same length and can output one or more vectors of the same length. \n",
    "\n",
    "We will define feature matrix generation (FMG) to be a function $g$ where it takes in a matrix $X$, indices $d_1, d_2$ and a feature vector generation function $f$ which outputs:\n",
    "\n",
    "$g(X, f, d_1, d_2, ...) = \\left[ X \\mid f(X_{d_1}, X_{d_2}, ...) \\right]$\n",
    "\n",
    "To form a quasi-group, we will add the additional requirement that all feature matrix generation functions are\n",
    "\n",
    "1.  Idempotent: $g(g(x)) = g(x)$\n",
    "2.  Presence of an identity\n",
    "3.  Is invertible\n"
   ]
  },
  {
   "cell_type": "code",
   "execution_count": 47,
   "metadata": {
    "collapsed": true
   },
   "outputs": [],
   "source": [
    "from sklearn.base import BaseEstimator, TransformerMixin\n",
    "from sklearn import datasets\n",
    "\n",
    "import numpy as np\n",
    "import pandas as pd\n",
    "\n",
    "from sklearn.pipeline import Pipeline, FeatureUnion\n",
    "\n",
    "iris = datasets.load_iris()\n",
    "X = iris.data\n",
    "y = iris.target"
   ]
  },
  {
   "cell_type": "code",
   "execution_count": 43,
   "metadata": {
    "collapsed": true
   },
   "outputs": [],
   "source": [
    "class Identity(BaseEstimator, TransformerMixin):\n",
    "    \"\"\"\n",
    "    Parameters\n",
    "    ----------\n",
    "    \n",
    "    mask : the column indices you wish to keep    \n",
    "    \"\"\"\n",
    "    \n",
    "    def __init__(self):\n",
    "        pass\n",
    "    \n",
    "    def fit(self, x, y=None):\n",
    "        return self\n",
    "\n",
    "    def transform(self, x):\n",
    "        return x"
   ]
  },
  {
   "cell_type": "code",
   "execution_count": 42,
   "metadata": {
    "collapsed": true
   },
   "outputs": [],
   "source": [
    "class HingeCreate(BaseEstimator, TransformerMixin):\n",
    "    \"\"\"\n",
    "    this class is an example of \"feature vector generation\" function\n",
    "    \n",
    "    Parameters\n",
    "    ----------\n",
    "    \n",
    "    mask: the column index (singular) you wish to perform hinge transform\n",
    "    hinge: the value at which the hinge appears\n",
    "    \"\"\"\n",
    "    \n",
    "    def __init__(self, mask=0, hinge=0):\n",
    "        self.mask = mask\n",
    "        self.hinge = hinge\n",
    "    \n",
    "    def fit(self, x, y=None):\n",
    "        \"\"\"\n",
    "        Learn hinge? or not to learn hinge        \n",
    "        \"\"\"\n",
    "        # update hinge value, based on bayesian opt?\n",
    "        # self.hinge = updated_val\n",
    "        return self\n",
    "    \n",
    "    def transform(self, X_as_matrix):\n",
    "        x_col = X_as_matrix[:, [self.mask]]\n",
    "        \n",
    "        x_left = np.apply_along_axis(lambda x: np.max(x - self.hinge, 0), 1, x_col)[:, np.newaxis]\n",
    "        x_right = np.apply_along_axis(lambda x: np.max(self.hinge - x, 0), 1, x_col)[:, np.newaxis]\n",
    "        return np.hstack([x_left, x_right])"
   ]
  },
  {
   "cell_type": "code",
   "execution_count": 49,
   "metadata": {
    "collapsed": true
   },
   "outputs": [],
   "source": [
    "# this is our \"g\"\n",
    "def HingeTransform(mask=0, hinge=3):\n",
    "    hinge_transform = FeatureUnion([\n",
    "        ('identity', Identity()),\n",
    "        ('hinge', CreateHinge(mask, hinge))\n",
    "    ])\n",
    "    return hinge_transform"
   ]
  }
 ],
 "metadata": {
  "kernelspec": {
   "display_name": "Python [default]",
   "language": "python",
   "name": "python3"
  },
  "language_info": {
   "codemirror_mode": {
    "name": "ipython",
    "version": 3
   },
   "file_extension": ".py",
   "mimetype": "text/x-python",
   "name": "python",
   "nbconvert_exporter": "python",
   "pygments_lexer": "ipython3",
   "version": "3.5.2"
  }
 },
 "nbformat": 4,
 "nbformat_minor": 2
}
