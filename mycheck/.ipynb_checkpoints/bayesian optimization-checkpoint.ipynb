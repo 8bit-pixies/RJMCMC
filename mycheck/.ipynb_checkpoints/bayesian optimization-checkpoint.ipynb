{
 "cells": [
  {
   "cell_type": "code",
   "execution_count": 1,
   "metadata": {},
   "outputs": [],
   "source": [
    "\"\"\" gp.py\n",
    "\n",
    "https://github.com/thuijskens/bayesian-optimization/blob/master/python/gp.py\n",
    "\n",
    "Bayesian optimisation of loss functions.\n",
    "\"\"\"\n",
    "\n",
    "import numpy as np\n",
    "import sklearn.gaussian_process as gp\n",
    "\n",
    "from scipy.stats import norm\n",
    "from scipy.optimize import minimize\n",
    "\n",
    "def expected_improvement(x, gaussian_process, evaluated_loss, greater_is_better=False, n_params=1):\n",
    "    \"\"\" expected_improvement\n",
    "\n",
    "    Expected improvement acquisition function.\n",
    "\n",
    "    Arguments:\n",
    "    ----------\n",
    "        x: array-like, shape = [n_samples, n_hyperparams]\n",
    "            The point for which the expected improvement needs to be computed.\n",
    "        gaussian_process: GaussianProcessRegressor object.\n",
    "            Gaussian process trained on previously evaluated hyperparameters.\n",
    "        evaluated_loss: Numpy array.\n",
    "            Numpy array that contains the values off the loss function for the previously\n",
    "            evaluated hyperparameters.\n",
    "        greater_is_better: Boolean.\n",
    "            Boolean flag that indicates whether the loss function is to be maximised or minimised.\n",
    "        n_params: int.\n",
    "            Dimension of the hyperparameter space.\n",
    "\n",
    "    \"\"\"\n",
    "\n",
    "    x_to_predict = x.reshape(-1, n_params)\n",
    "\n",
    "    mu, sigma = gaussian_process.predict(x_to_predict, return_std=True)\n",
    "\n",
    "    if greater_is_better:\n",
    "        loss_optimum = np.max(evaluated_loss)\n",
    "    else:\n",
    "        loss_optimum = np.min(evaluated_loss)\n",
    "\n",
    "    if greater_is_better:\n",
    "        scaling_factor = (1)\n",
    "    else:\n",
    "        scaling_factor = -1\n",
    "\n",
    "    # In case sigma equals zero\n",
    "    with np.errstate(divide='ignore'):\n",
    "        Z = scaling_factor * (mu - loss_optimum) / sigma\n",
    "        expected_improvement = scaling_factor * (mu - loss_optimum) * norm.cdf(Z) + sigma * norm.pdf(Z)\n",
    "        expected_improvement[sigma == 0.0] == 0.0\n",
    "\n",
    "    return -1 * expected_improvement\n",
    "\n",
    "\n",
    "def sample_next_hyperparameter(acquisition_func, gaussian_process, evaluated_loss, greater_is_better=False,\n",
    "                               bounds=(0, 10), n_restarts=25):\n",
    "    \"\"\" sample_next_hyperparameter\n",
    "\n",
    "    Proposes the next hyperparameter to sample the loss function for.\n",
    "\n",
    "    Arguments:\n",
    "    ----------\n",
    "        acquisition_func: function.\n",
    "            Acquisition function to optimise.\n",
    "        gaussian_process: GaussianProcessRegressor object.\n",
    "            Gaussian process trained on previously evaluated hyperparameters.\n",
    "        evaluated_loss: array-like, shape = [n_obs,]\n",
    "            Numpy array that contains the values off the loss function for the previously\n",
    "            evaluated hyperparameters.\n",
    "        greater_is_better: Boolean.\n",
    "            Boolean flag that indicates whether the loss function is to be maximised or minimised.\n",
    "        bounds: Tuple.\n",
    "            Bounds for the L-BFGS optimiser.\n",
    "        n_restarts: integer.\n",
    "            Number of times to run the minimiser with different starting points.\n",
    "\n",
    "    \"\"\"\n",
    "    best_x = None\n",
    "    best_acquisition_value = 1\n",
    "    n_params = bounds.shape[0]\n",
    "\n",
    "    for starting_point in np.random.uniform(bounds[:, 0], bounds[:, 1], size=(n_restarts, n_params)):\n",
    "\n",
    "        res = minimize(fun=acquisition_func,\n",
    "                       x0=starting_point.reshape(1, -1),\n",
    "                       bounds=bounds,\n",
    "                       method='L-BFGS-B',\n",
    "                       args=(gaussian_process, evaluated_loss, greater_is_better, n_params))\n",
    "\n",
    "        if res.fun < best_acquisition_value:\n",
    "            best_acquisition_value = res.fun\n",
    "            best_x = res.x\n",
    "\n",
    "    return best_x\n",
    "\n",
    "\n",
    "def bayesian_optimisation(n_iters, sample_loss, bounds, x0=None, n_pre_samples=5,\n",
    "                          gp_params=None, random_search=False, alpha=1e-5, epsilon=1e-7):\n",
    "    \"\"\" bayesian_optimisation\n",
    "\n",
    "    Uses Gaussian Processes to optimise the loss function `sample_loss`.\n",
    "\n",
    "    Arguments:\n",
    "    ----------\n",
    "        n_iters: integer.\n",
    "            Number of iterations to run the search algorithm.\n",
    "        sample_loss: function.\n",
    "            Function to be optimised.\n",
    "        bounds: array-like, shape = [n_params, 2].\n",
    "            Lower and upper bounds on the parameters of the function `sample_loss`.\n",
    "        x0: array-like, shape = [n_pre_samples, n_params].\n",
    "            Array of initial points to sample the loss function for. If None, randomly\n",
    "            samples from the loss function.\n",
    "        n_pre_samples: integer.\n",
    "            If x0 is None, samples `n_pre_samples` initial points from the loss function.\n",
    "        gp_params: dictionary.\n",
    "            Dictionary of parameters to pass on to the underlying Gaussian Process.\n",
    "        random_search: integer.\n",
    "            Flag that indicates whether to perform random search or L-BFGS-B optimisation\n",
    "            over the acquisition function.\n",
    "        alpha: double.\n",
    "            Variance of the error term of the GP.\n",
    "        epsilon: double.\n",
    "            Precision tolerance for floats.\n",
    "    \"\"\"\n",
    "\n",
    "    x_list = []\n",
    "    y_list = []\n",
    "\n",
    "    n_params = bounds.shape[0]\n",
    "\n",
    "    if x0 is None:\n",
    "        for params in np.random.uniform(bounds[:, 0], bounds[:, 1], (n_pre_samples, bounds.shape[0])):\n",
    "            x_list.append(params)\n",
    "            y_list.append(sample_loss(params))\n",
    "    else:\n",
    "        for params in x0:\n",
    "            x_list.append(params)\n",
    "            y_list.append(sample_loss(params))\n",
    "\n",
    "    xp = np.array(x_list)\n",
    "    yp = np.array(y_list)\n",
    "\n",
    "    # Create the GP\n",
    "    if gp_params is not None:\n",
    "        model = gp.GaussianProcessRegressor(**gp_params)\n",
    "    else:\n",
    "        kernel = gp.kernels.Matern()\n",
    "        model = gp.GaussianProcessRegressor(kernel=kernel,\n",
    "                                            alpha=alpha,\n",
    "                                            n_restarts_optimizer=10,\n",
    "                                            normalize_y=True)\n",
    "\n",
    "    for n in range(n_iters):\n",
    "\n",
    "        model.fit(xp, yp)\n",
    "\n",
    "        # Sample next hyperparameter\n",
    "        if random_search:\n",
    "            x_random = np.random.uniform(bounds[:, 0], bounds[:, 1], size=(random_search, n_params))\n",
    "            ei = -1 * expected_improvement(x_random, model, yp, greater_is_better=True, n_params=n_params)\n",
    "            next_sample = x_random[np.argmax(ei), :]\n",
    "        else:\n",
    "            next_sample = sample_next_hyperparameter(expected_improvement, model, yp, greater_is_better=True, bounds=bounds, n_restarts=100)\n",
    "\n",
    "        # Duplicates will break the GP. In case of a duplicate, we will randomly sample a next query point.\n",
    "        if np.any(np.abs(next_sample - xp) <= epsilon):\n",
    "            next_sample = np.random.uniform(bounds[:, 0], bounds[:, 1], bounds.shape[0])\n",
    "\n",
    "        # Sample loss for new set of parameters\n",
    "        cv_score = sample_loss(next_sample)\n",
    "\n",
    "        # Update lists\n",
    "        x_list.append(next_sample)\n",
    "        y_list.append(cv_score)\n",
    "\n",
    "        # Update xp and yp\n",
    "        xp = np.array(x_list)\n",
    "        yp = np.array(y_list)\n",
    "\n",
    "    return xp, yp"
   ]
  },
  {
   "cell_type": "code",
   "execution_count": 2,
   "metadata": {
    "collapsed": true
   },
   "outputs": [],
   "source": [
    "from sklearn.datasets import make_classification\n",
    "from sklearn.model_selection import cross_val_score\n",
    "from sklearn.svm import SVC\n",
    "\n",
    "data, target = make_classification(n_samples=2500,\n",
    "                                   n_features=45,\n",
    "                                   n_informative=15,\n",
    "                                   n_redundant=5)\n",
    "\n",
    "def sample_loss(params):\n",
    "    return cross_val_score(SVC(C=10 ** params[0], gamma=10 ** params[1], random_state=12345),\n",
    "                           X=data, y=target, scoring='roc_auc', cv=3).mean()"
   ]
  },
  {
   "cell_type": "code",
   "execution_count": 3,
   "metadata": {},
   "outputs": [
    {
     "data": {
      "text/plain": [
       "array([ 0.375     , -2.15789474])"
      ]
     },
     "execution_count": 3,
     "metadata": {},
     "output_type": "execute_result"
    }
   ],
   "source": [
    "# set up grid\n",
    "\n",
    "lambdas = np.linspace(1, -4, 25)\n",
    "gammas = np.linspace(1, -4, 20)\n",
    "\n",
    "# We need the cartesian combination of these two vectors\n",
    "param_grid = np.array([[C, gamma] for gamma in gammas for C in lambdas])\n",
    "\n",
    "real_loss = [sample_loss(params) for params in param_grid]\n",
    "\n",
    "# The maximum is at:\n",
    "param_grid[np.array(real_loss).argmax(), :]"
   ]
  },
  {
   "cell_type": "code",
   "execution_count": 4,
   "metadata": {},
   "outputs": [
    {
     "data": {
      "image/png": "[encoded data removed]",
      "text/plain": [
       "<matplotlib.figure.Figure at 0x233f2a30c88>"
      ]
     },
     "metadata": {},
     "output_type": "display_data"
    }
   ],
   "source": [
    "%matplotlib inline\n",
    "import matplotlib.pyplot as plt\n",
    "from matplotlib import rc\n",
    "\n",
    "rc('text', usetex=False)\n",
    "\n",
    "C, G = np.meshgrid(lambdas, gammas)\n",
    "plt.figure()\n",
    "cp = plt.contourf(C, G, np.array(real_loss).reshape(C.shape))\n",
    "plt.colorbar(cp)\n",
    "plt.title('Filled contours plot of loss function $\\mathcal{L}$($\\gamma$, $C$)')\n",
    "plt.xlabel('$C$')\n",
    "plt.ylabel('$\\gamma')\n",
    "#plt.savefig('/Users/thomashuijskens/Personal/gp-optimisation/figures/real_loss_contour.png', bbox_inches='tight')\n",
    "plt.show()"
   ]
  },
  {
   "cell_type": "code",
   "execution_count": 5,
   "metadata": {},
   "outputs": [
    {
     "name": "stderr",
     "output_type": "stream",
     "text": [
      "c:\\users\\chapm\\anaconda3\\lib\\site-packages\\ipykernel\\__main__.py:160: VisibleDeprecationWarning: using a boolean instead of an integer will result in an error in the future\n",
      "c:\\users\\chapm\\anaconda3\\lib\\site-packages\\ipykernel\\__main__.py:160: VisibleDeprecationWarning: using a boolean instead of an integer will result in an error in the future\n",
      "c:\\users\\chapm\\anaconda3\\lib\\site-packages\\ipykernel\\__main__.py:160: VisibleDeprecationWarning: using a boolean instead of an integer will result in an error in the future\n",
      "c:\\users\\chapm\\anaconda3\\lib\\site-packages\\ipykernel\\__main__.py:160: VisibleDeprecationWarning: using a boolean instead of an integer will result in an error in the future\n",
      "c:\\users\\chapm\\anaconda3\\lib\\site-packages\\ipykernel\\__main__.py:160: VisibleDeprecationWarning: using a boolean instead of an integer will result in an error in the future\n",
      "c:\\users\\chapm\\anaconda3\\lib\\site-packages\\ipykernel\\__main__.py:160: VisibleDeprecationWarning: using a boolean instead of an integer will result in an error in the future\n",
      "c:\\users\\chapm\\anaconda3\\lib\\site-packages\\ipykernel\\__main__.py:160: VisibleDeprecationWarning: using a boolean instead of an integer will result in an error in the future\n",
      "c:\\users\\chapm\\anaconda3\\lib\\site-packages\\ipykernel\\__main__.py:160: VisibleDeprecationWarning: using a boolean instead of an integer will result in an error in the future\n",
      "c:\\users\\chapm\\anaconda3\\lib\\site-packages\\ipykernel\\__main__.py:160: VisibleDeprecationWarning: using a boolean instead of an integer will result in an error in the future\n",
      "c:\\users\\chapm\\anaconda3\\lib\\site-packages\\ipykernel\\__main__.py:160: VisibleDeprecationWarning: using a boolean instead of an integer will result in an error in the future\n",
      "c:\\users\\chapm\\anaconda3\\lib\\site-packages\\ipykernel\\__main__.py:160: VisibleDeprecationWarning: using a boolean instead of an integer will result in an error in the future\n",
      "c:\\users\\chapm\\anaconda3\\lib\\site-packages\\ipykernel\\__main__.py:160: VisibleDeprecationWarning: using a boolean instead of an integer will result in an error in the future\n",
      "c:\\users\\chapm\\anaconda3\\lib\\site-packages\\ipykernel\\__main__.py:160: VisibleDeprecationWarning: using a boolean instead of an integer will result in an error in the future\n",
      "c:\\users\\chapm\\anaconda3\\lib\\site-packages\\ipykernel\\__main__.py:160: VisibleDeprecationWarning: using a boolean instead of an integer will result in an error in the future\n",
      "c:\\users\\chapm\\anaconda3\\lib\\site-packages\\ipykernel\\__main__.py:160: VisibleDeprecationWarning: using a boolean instead of an integer will result in an error in the future\n",
      "c:\\users\\chapm\\anaconda3\\lib\\site-packages\\ipykernel\\__main__.py:160: VisibleDeprecationWarning: using a boolean instead of an integer will result in an error in the future\n",
      "c:\\users\\chapm\\anaconda3\\lib\\site-packages\\ipykernel\\__main__.py:160: VisibleDeprecationWarning: using a boolean instead of an integer will result in an error in the future\n",
      "c:\\users\\chapm\\anaconda3\\lib\\site-packages\\ipykernel\\__main__.py:160: VisibleDeprecationWarning: using a boolean instead of an integer will result in an error in the future\n",
      "c:\\users\\chapm\\anaconda3\\lib\\site-packages\\ipykernel\\__main__.py:160: VisibleDeprecationWarning: using a boolean instead of an integer will result in an error in the future\n",
      "c:\\users\\chapm\\anaconda3\\lib\\site-packages\\ipykernel\\__main__.py:160: VisibleDeprecationWarning: using a boolean instead of an integer will result in an error in the future\n",
      "c:\\users\\chapm\\anaconda3\\lib\\site-packages\\ipykernel\\__main__.py:160: VisibleDeprecationWarning: using a boolean instead of an integer will result in an error in the future\n",
      "c:\\users\\chapm\\anaconda3\\lib\\site-packages\\ipykernel\\__main__.py:160: VisibleDeprecationWarning: using a boolean instead of an integer will result in an error in the future\n",
      "c:\\users\\chapm\\anaconda3\\lib\\site-packages\\ipykernel\\__main__.py:160: VisibleDeprecationWarning: using a boolean instead of an integer will result in an error in the future\n",
      "c:\\users\\chapm\\anaconda3\\lib\\site-packages\\ipykernel\\__main__.py:160: VisibleDeprecationWarning: using a boolean instead of an integer will result in an error in the future\n",
      "c:\\users\\chapm\\anaconda3\\lib\\site-packages\\ipykernel\\__main__.py:160: VisibleDeprecationWarning: using a boolean instead of an integer will result in an error in the future\n",
      "c:\\users\\chapm\\anaconda3\\lib\\site-packages\\ipykernel\\__main__.py:160: VisibleDeprecationWarning: using a boolean instead of an integer will result in an error in the future\n",
      "c:\\users\\chapm\\anaconda3\\lib\\site-packages\\ipykernel\\__main__.py:160: VisibleDeprecationWarning: using a boolean instead of an integer will result in an error in the future\n",
      "c:\\users\\chapm\\anaconda3\\lib\\site-packages\\ipykernel\\__main__.py:160: VisibleDeprecationWarning: using a boolean instead of an integer will result in an error in the future\n",
      "c:\\users\\chapm\\anaconda3\\lib\\site-packages\\ipykernel\\__main__.py:160: VisibleDeprecationWarning: using a boolean instead of an integer will result in an error in the future\n",
      "c:\\users\\chapm\\anaconda3\\lib\\site-packages\\ipykernel\\__main__.py:160: VisibleDeprecationWarning: using a boolean instead of an integer will result in an error in the future\n"
     ]
    }
   ],
   "source": [
    "bounds = np.array([[-4, 1], [-4, 1]])\n",
    "\n",
    "xp, yp = bayesian_optimisation(n_iters=30, \n",
    "                               sample_loss=sample_loss, \n",
    "                               bounds=bounds,\n",
    "                               n_pre_samples=3,\n",
    "                               random_search=True)"
   ]
  },
  {
   "cell_type": "code",
   "execution_count": 7,
   "metadata": {},
   "outputs": [
    {
     "data": {
      "text/plain": [
       "[<matplotlib.lines.Line2D at 0x233f581e4a8>]"
      ]
     },
     "execution_count": 7,
     "metadata": {},
     "output_type": "execute_result"
    },
    {
     "data": {
      "image/png": "[encoded data removed]",
      "text/plain": [
       "<matplotlib.figure.Figure at 0x233f57571d0>"
      ]
     },
     "metadata": {},
     "output_type": "display_data"
    }
   ],
   "source": [
    "plt.plot(yp)"
   ]
  },
  {
   "cell_type": "code",
   "execution_count": null,
   "metadata": {
    "collapsed": true
   },
   "outputs": [],
   "source": []
  }
 ],
 "metadata": {
  "kernelspec": {
   "display_name": "Python [default]",
   "language": "python",
   "name": "python3"
  },
  "language_info": {
   "codemirror_mode": {
    "name": "ipython",
    "version": 3
   },
   "file_extension": ".py",
   "mimetype": "text/x-python",
   "name": "python",
   "nbconvert_exporter": "python",
   "pygments_lexer": "ipython3",
   "version": "3.5.2"
  }
 },
 "nbformat": 4,
 "nbformat_minor": 2
}
