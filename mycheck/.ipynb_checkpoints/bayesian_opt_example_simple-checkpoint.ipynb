{
 "cells": [
  {
   "cell_type": "code",
   "execution_count": 1,
   "metadata": {
    "collapsed": true
   },
   "outputs": [],
   "source": [
    "import numpy as np\n",
    "import sklearn.gaussian_process as gp\n",
    "from scipy.stats import norm\n",
    "from scipy.optimize import minimize\n",
    "\n",
    "from sklearn.datasets import make_classification\n",
    "from sklearn.model_selection import cross_val_score\n",
    "from sklearn.svm import SVC\n",
    "\n",
    "data, target = make_classification(n_samples=2500,\n",
    "                                   n_features=45,\n",
    "                                   n_informative=15,\n",
    "                                   n_redundant=5)\n",
    "\n",
    "def my_loss_func(params):\n",
    "    return -cross_val_score(SVC(C=10 ** params[0], gamma=10 ** params[1], random_state=12345),\n",
    "                           X=data, y=target, scoring='roc_auc', cv=3).mean()"
   ]
  },
  {
   "cell_type": "code",
   "execution_count": 2,
   "metadata": {
    "collapsed": true
   },
   "outputs": [],
   "source": [
    "\"\"\"\n",
    "Bayesian optimization\n",
    "\n",
    "Chapman's code for a simple bayesian optimization\n",
    "that works...(hopefully)\n",
    "\n",
    "This code should be self contained and runs simple example\n",
    "\n",
    "assumes we are minimizing...\n",
    "\"\"\"\n",
    "\n",
    "kernel = gp.kernels.Matern()\n",
    "model = gp.GaussianProcessRegressor(kernel) # can impose covariance structure?\n",
    "\n",
    "n_rand = 30\n",
    "n_iters = 20 # want a way to be by iterations or time - while loop?\n",
    "\n",
    "# obvious solution is x = 0\n",
    "# place bound on -10, 10\n",
    "x_dim = 2\n",
    "\n"
   ]
  },
  {
   "cell_type": "code",
   "execution_count": 3,
   "metadata": {},
   "outputs": [
    {
     "data": {
      "text/plain": [
       "array([-0.32258065, -0.47619048])"
      ]
     },
     "execution_count": 3,
     "metadata": {},
     "output_type": "execute_result"
    }
   ],
   "source": [
    "loss_function = lambda x: np.sum(np.atleast_2d(x)**2, 1)\n",
    "\n",
    "# use: my_loss_func\n",
    "#def loss_function(x):\n",
    "#    return np.apply_along_axis(my_loss_func, 1, x)\n",
    "\n",
    "# set up grid\n",
    "\n",
    "lambdas = np.linspace(-10, 10, 32)\n",
    "gammas = np.linspace(-10, 10, 22)\n",
    "\n",
    "def expand_grid(params):    \n",
    "    from itertools import product\n",
    "    return np.array(list(product(*params)))\n",
    "\n",
    "# We need the cartesian combination of these two vectors\n",
    "param_grid = expand_grid([lambdas, gammas])\n",
    "\n",
    "real_loss = loss_function(param_grid)\n",
    "# The maximum is at:\n",
    "param_grid[np.array(real_loss).argmin(), :]"
   ]
  },
  {
   "cell_type": "code",
   "execution_count": 4,
   "metadata": {
    "collapsed": true
   },
   "outputs": [],
   "source": [
    "x_start = np.random.uniform(-4.0, 1.0, (5, x_dim))\n",
    "y_start = loss_function(x_start) # should always assume the function is vectorise, like model.predict\n",
    "\n",
    "x_all = x_start.copy()\n",
    "y_all = y_start.copy()\n"
   ]
  },
  {
   "cell_type": "code",
   "execution_count": 75,
   "metadata": {},
   "outputs": [
    {
     "name": "stdout",
     "output_type": "stream",
     "text": [
      "0\n",
      "5\n",
      "10\n",
      "15\n",
      "19\n"
     ]
    }
   ],
   "source": [
    "\n",
    "\"\"\"\n",
    "single run...\n",
    "\n",
    "if x_start is less than 2d -> x_start[:,np.newaxis]\n",
    "\"\"\"\n",
    "\n",
    "for idx in range(n_iters):\n",
    "    if idx % 5 == 0 or idx == n_iters-1:\n",
    "        print(idx)\n",
    "        #print(y_all[-10:])\n",
    "    model = model.fit(x_all, y_all)\n",
    "    \n",
    "    # calculate expected improvement\n",
    "    # step 1 generate many many random points\n",
    "    \"\"\"\n",
    "    x_random = np.random.uniform(-10.0, 10.0, (n_rand, x_dim))\n",
    "    mu, sigma = model.predict(x_random, return_std=True)\n",
    "    \n",
    "    # enter some formulas\n",
    "    loss_optimum = np.min(y_start)\n",
    "    \n",
    "    # with np.errstate(divide='ignore')\n",
    "    gamma_x = (loss_optimum - mu)/sigma\n",
    "    expected_improvement = sigma*(gamma_x * (norm.cdf(gamma_x)) + norm.pdf(gamma_x))\n",
    "    \"\"\"\n",
    "    def ei(x, gp=model):\n",
    "        mu, sigma = model.predict(x.reshape(1, -1), return_std=True)\n",
    "        loss_optimum = np.min(y_start)\n",
    "        gamma_x = (loss_optimum - mu)/sigma\n",
    "        return -sigma*(gamma_x * (norm.cdf(gamma_x)) + norm.pdf(gamma_x))\n",
    "\n",
    "    def get_min(x):\n",
    "        x = x.reshape(1, -1)    \n",
    "        return minimize(ei, x0=x, bounds=[(-10.0, 10.0), (-10,10)])\n",
    "\n",
    "    x_random = np.random.uniform(-10.0, 10.0, (n_rand, x_dim))\n",
    "    optim_result = np.apply_along_axis(get_min, 1, x_random).flatten()\n",
    "    all_y = [x.fun[0] for x in optim_result]\n",
    "    all_x = [x.x for x in optim_result]\n",
    "\n",
    "    best_y = np.argmin(all_y)\n",
    "    x_next = all_x[best_y]\n",
    "    #y_next = all_y[best_y]\n",
    "    \n",
    "    # append this one!...\n",
    "    y_next = loss_function(np.atleast_2d(x_next))\n",
    "    \n",
    "    # ...output y_next, x_next\n",
    "    x_all = np.vstack([x_all, x_next])\n",
    "    y_all = np.concatenate([y_all, y_next])"
   ]
  },
  {
   "cell_type": "code",
   "execution_count": 76,
   "metadata": {
    "collapsed": true
   },
   "outputs": [],
   "source": [
    "best_point = np.argmin(y_all)\n",
    "best_x = x_all[best_point]\n",
    "best_y = y_all[best_point]"
   ]
  },
  {
   "cell_type": "code",
   "execution_count": 77,
   "metadata": {},
   "outputs": [
    {
     "data": {
      "text/plain": [
       "[<matplotlib.lines.Line2D at 0x2212c184be0>]"
      ]
     },
     "execution_count": 77,
     "metadata": {},
     "output_type": "execute_result"
    },
    {
     "data": {
      "image/png": "[encoded data removed]",
      "text/plain": [
       "<matplotlib.figure.Figure at 0x2212bfeff60>"
      ]
     },
     "metadata": {},
     "output_type": "display_data"
    }
   ],
   "source": [
    "%matplotlib inline\n",
    "import matplotlib\n",
    "import numpy as np\n",
    "import matplotlib.pyplot as plt\n",
    "\n",
    "plt.plot(y_all)"
   ]
  },
  {
   "cell_type": "code",
   "execution_count": 78,
   "metadata": {},
   "outputs": [
    {
     "data": {
      "text/plain": [
       "[<matplotlib.lines.Line2D at 0x2212c1eff60>]"
      ]
     },
     "execution_count": 78,
     "metadata": {},
     "output_type": "execute_result"
    },
    {
     "data": {
      "image/png": "[encoded data removed]",
      "text/plain": [
       "<matplotlib.figure.Figure at 0x2212c126400>"
      ]
     },
     "metadata": {},
     "output_type": "display_data"
    }
   ],
   "source": [
    "%matplotlib inline\n",
    "import matplotlib\n",
    "import numpy as np\n",
    "import matplotlib.pyplot as plt\n",
    "\n",
    "plt.plot(x_all[:, 0])"
   ]
  },
  {
   "cell_type": "code",
   "execution_count": 79,
   "metadata": {},
   "outputs": [
    {
     "data": {
      "text/plain": [
       "[<matplotlib.lines.Line2D at 0x2212c259f60>]"
      ]
     },
     "execution_count": 79,
     "metadata": {},
     "output_type": "execute_result"
    },
    {
     "data": {
      "image/png": "[encoded data removed]",
      "text/plain": [
       "<matplotlib.figure.Figure at 0x2212c063dd8>"
      ]
     },
     "metadata": {},
     "output_type": "display_data"
    }
   ],
   "source": [
    "%matplotlib inline\n",
    "import matplotlib\n",
    "import numpy as np\n",
    "import matplotlib.pyplot as plt\n",
    "\n",
    "plt.plot(x_all[:, 1])"
   ]
  },
  {
   "cell_type": "code",
   "execution_count": null,
   "metadata": {
    "collapsed": true
   },
   "outputs": [],
   "source": []
  }
 ],
 "metadata": {
  "kernelspec": {
   "display_name": "Python [default]",
   "language": "python",
   "name": "python3"
  },
  "language_info": {
   "codemirror_mode": {
    "name": "ipython",
    "version": 3
   },
   "file_extension": ".py",
   "mimetype": "text/x-python",
   "name": "python",
   "nbconvert_exporter": "python",
   "pygments_lexer": "ipython3",
   "version": "3.5.2"
  }
 },
 "nbformat": 4,
 "nbformat_minor": 2
}
