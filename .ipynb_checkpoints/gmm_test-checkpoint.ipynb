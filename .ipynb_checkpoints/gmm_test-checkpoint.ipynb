{
 "cells": [
  {
   "cell_type": "code",
   "execution_count": 1,
   "metadata": {
    "collapsed": true
   },
   "outputs": [],
   "source": [
    "%matplotlib inline"
   ]
  },
  {
   "cell_type": "code",
   "execution_count": 2,
   "metadata": {
    "collapsed": true
   },
   "outputs": [],
   "source": [
    "import numpy as np\n",
    "import matplotlib.pyplot as plt\n",
    "import matplotlib.mlab as mlab\n",
    "from scipy import stats"
   ]
  },
  {
   "cell_type": "code",
   "execution_count": 3,
   "metadata": {},
   "outputs": [
    {
     "data": {
      "image/png": "[encoded data removed]",
      "text/plain": [
       "<matplotlib.figure.Figure at 0x1ecdf70d5c0>"
      ]
     },
     "metadata": {},
     "output_type": "display_data"
    }
   ],
   "source": [
    "def pi_func(x):    \n",
    "    return stats.norm.pdf(x, -5, 2) + stats.norm.pdf(x, 7, 3)\n",
    "\n",
    "def q_func(x):\n",
    "    return np.random.normal(loc=x, scale=2, size=1)[0]\n",
    "\n",
    "## Metropolis Hastings\n",
    "N = 1000\n",
    "x = 0\n",
    "p = pi_func(x)\n",
    "samples = []\n",
    "for i in range(N):\n",
    "    xn = q_func(x) # random walk\n",
    "    pn = pi_func(xn)\n",
    "    u = np.random.rand()\n",
    "    if u <= min(1, float(pn)/p):\n",
    "        p = pn\n",
    "        x = xn    \n",
    "    samples.append(x)\n",
    "\n",
    "pp = plt.hist(samples, bins=100)"
   ]
  },
  {
   "cell_type": "code",
   "execution_count": null,
   "metadata": {
    "collapsed": true
   },
   "outputs": [],
   "source": []
  }
 ],
 "metadata": {
  "kernelspec": {
   "display_name": "Python [default]",
   "language": "python",
   "name": "python3"
  },
  "language_info": {
   "codemirror_mode": {
    "name": "ipython",
    "version": 3
   },
   "file_extension": ".py",
   "mimetype": "text/x-python",
   "name": "python",
   "nbconvert_exporter": "python",
   "pygments_lexer": "ipython3",
   "version": "3.5.2"
  }
 },
 "nbformat": 4,
 "nbformat_minor": 2
}
