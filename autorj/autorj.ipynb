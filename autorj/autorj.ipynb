{
 "cells": [
  {
   "cell_type": "code",
   "execution_count": 1,
   "metadata": {
    "collapsed": true
   },
   "outputs": [],
   "source": [
    "import numpy as np\n",
    "\n",
    "# using truncated multivariate normal\n",
    "# https://stackoverflow.com/questions/20115917/truncated-multivariate-normal-in-scipy\n",
    "import emcee"
   ]
  },
  {
   "cell_type": "code",
   "execution_count": 56,
   "metadata": {},
   "outputs": [
    {
     "data": {
      "text/plain": [
       "array([[ 0.85355339+0.14644661j,  0.35355339-0.35355339j],\n",
       "       [ 0.35355339+0.35355339j, -0.85355339+0.14644661j]])"
      ]
     },
     "execution_count": 56,
     "metadata": {},
     "output_type": "execute_result"
    }
   ],
   "source": [
    "a = np.array([[1, -2j], [-2j, 5]])\n",
    "w, v = eigh(a)\n",
    "\n",
    "v.dot(v)\n",
    "\n"
   ]
  },
  {
   "cell_type": "code",
   "execution_count": 63,
   "metadata": {
    "collapsed": true
   },
   "outputs": [],
   "source": [
    "from numpy.linalg import inv, cholesky\n",
    "from scipy.linalg import qr\n",
    "\n",
    "def lnprob_trunc_norm(x, mean, bounds, C):\n",
    "    if np.any(x < bounds[:,0]) or np.any(x > bounds[:,1]):\n",
    "        return -np.inf\n",
    "    else:\n",
    "        return -0.5*(x-mean).dot(inv(C)).dot(x-mean)"
   ]
  },
  {
   "cell_type": "code",
   "execution_count": 125,
   "metadata": {
    "collapsed": true
   },
   "outputs": [],
   "source": [
    "def multivariate_trunc_normal(mean, cov, bounds, size=1):\n",
    "    ndim = mean.shape[0]\n",
    "    nwalkers = max(10*ndim, size)\n",
    "    nsteps = 1000 + size\n",
    "    \n",
    "    S = emcee.EnsembleSampler(nwalkers, ndim, lnprob_trunc_norm, args = (mean, bounds, cov))\n",
    "    pos = emcee.utils.sample_ball(mean, np.sqrt(np.diag(C)), size=nwalkers)\n",
    "    pos, prob, state = S.run_mcmc(pos, nsteps)\n",
    "    \n",
    "    return pos[-size:].flatten()"
   ]
  },
  {
   "cell_type": "code",
   "execution_count": 126,
   "metadata": {},
   "outputs": [
    {
     "name": "stderr",
     "output_type": "stream",
     "text": [
      "c:\\users\\chapm\\anaconda3\\lib\\site-packages\\emcee\\ensemble.py:335: RuntimeWarning: invalid value encountered in subtract\n",
      "  lnpdiff = (self.dim - 1.) * np.log(zz) + newlnprob - lnprob0\n",
      "c:\\users\\chapm\\anaconda3\\lib\\site-packages\\emcee\\ensemble.py:336: RuntimeWarning: invalid value encountered in greater\n",
      "  accept = (lnpdiff > np.log(self._random.rand(len(lnpdiff))))\n"
     ]
    },
    {
     "data": {
      "text/plain": [
       "array([-1.22724161, -2.86914463, -1.65654342, -0.41049168, -1.48898967,\n",
       "       -2.15420681,  0.19776529, -1.54608222, -0.12784448, -1.19448813])"
      ]
     },
     "execution_count": 126,
     "metadata": {},
     "output_type": "execute_result"
    }
   ],
   "source": [
    "ndim = 10\n",
    "mean = (np.random.rand(ndim)-1)*3\n",
    "bounds=np.ones((ndim, 2))\n",
    "bounds[:, 0] = -3\n",
    "bounds[:, 1] = 3\n",
    "C = np.eye(ndim)\n",
    "theta = multivariate_trunc_normal(mean, C, bounds)\n",
    "theta"
   ]
  },
  {
   "cell_type": "markdown",
   "metadata": {},
   "source": [
    "Now we will have a look at RJMCMC techniques here.\n",
    "\n",
    "In this notebook, we will consider \"AutoRJ\" where the parameters can be assumed to follow some kind of random walk and the first and second moments are known. "
   ]
  },
  {
   "cell_type": "code",
   "execution_count": 127,
   "metadata": {
    "collapsed": true
   },
   "outputs": [],
   "source": [
    "mu1 = (np.random.rand(5)-1)*3\n",
    "C1 = C[:5, :5]\n",
    "\n",
    "B = cholesky(C)\n",
    "B1 = cholesky(C1)\n",
    "\n",
    "# now we sample u1 as standard normal.\n",
    "u1 = np.random.normal(size=5)"
   ]
  },
  {
   "cell_type": "code",
   "execution_count": 128,
   "metadata": {},
   "outputs": [
    {
     "data": {
      "text/plain": [
       "array([-2.92024446, -1.79184414, -1.32174186, -1.21175407,  1.01030361])"
      ]
     },
     "execution_count": 128,
     "metadata": {},
     "output_type": "execute_result"
    }
   ],
   "source": [
    "R, _ = qr(B)\n",
    "rank_part = R.dot(inv(B)).dot((theta - mean).flatten())\n",
    "theta1 = mu1 + B1.dot(rank_part[:B1.shape[0]])\n",
    "# this is our new parameters for our model\n",
    "theta1"
   ]
  },
  {
   "cell_type": "code",
   "execution_count": 130,
   "metadata": {
    "collapsed": true
   },
   "outputs": [],
   "source": [
    "# if we assume that we will grow to 15 dimensions instead\n",
    "mu1 = (np.random.rand(15)-1)*3\n",
    "C1 = np.eye(15)\n",
    "B1 = cholesky(C1)\n",
    "\n",
    "# now we sample u1 as standard normal\n",
    "u1 = np.random.normal(size=15)"
   ]
  },
  {
   "cell_type": "code",
   "execution_count": 131,
   "metadata": {},
   "outputs": [],
   "source": [
    "R, _ = qr(B1)\n",
    "\n",
    "inner_part = inv(B).dot((theta - mean).flatten())\n",
    "rank_part = R.dot(np.hstack([inner_part, mu1[-5:]]))"
   ]
  },
  {
   "cell_type": "code",
   "execution_count": 132,
   "metadata": {},
   "outputs": [
    {
     "data": {
      "text/plain": [
       "array([-2.31843724, -1.35249321, -1.56818934, -1.45872298,  0.45455409,\n",
       "        0.58780382,  0.04155598, -0.18231594, -0.47882022, -3.3333339 ,\n",
       "       -1.96595753, -0.01140445, -3.14393964, -2.54075202, -4.70696646])"
      ]
     },
     "execution_count": 132,
     "metadata": {},
     "output_type": "execute_result"
    }
   ],
   "source": [
    "theta1 = mu1 + B1.dot(rank_part[:B1.shape[0]])\n",
    "# this is our new parameters for our model\n",
    "theta1"
   ]
  }
 ],
 "metadata": {
  "kernelspec": {
   "display_name": "Python [default]",
   "language": "python",
   "name": "python3"
  },
  "language_info": {
   "codemirror_mode": {
    "name": "ipython",
    "version": 3
   },
   "file_extension": ".py",
   "mimetype": "text/x-python",
   "name": "python",
   "nbconvert_exporter": "python",
   "pygments_lexer": "ipython3",
   "version": "3.5.2"
  }
 },
 "nbformat": 4,
 "nbformat_minor": 2
}
