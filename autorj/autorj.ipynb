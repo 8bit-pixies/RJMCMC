{
 "cells": [
  {
   "cell_type": "code",
   "execution_count": 1,
   "metadata": {
    "collapsed": true
   },
   "outputs": [],
   "source": [
    "import numpy as np\n",
    "\n",
    "# using truncated multivariate normal\n",
    "# https://stackoverflow.com/questions/20115917/truncated-multivariate-normal-in-scipy\n",
    "import emcee"
   ]
  },
  {
   "cell_type": "code",
   "execution_count": null,
   "metadata": {
    "collapsed": true
   },
   "outputs": [],
   "source": [
    "from numpy.linalg import inv, cholesky\n",
    "from scipy.linalg import qr\n",
    "\n",
    "def lnprob_trunc_norm(x, mean, bounds, C):\n",
    "    if np.any(x < bounds[:,0]) or np.any(x > bounds[:,1]):\n",
    "        return -np.inf\n",
    "    else:\n",
    "        return -0.5*(x-mean).dot(inv(C)).dot(x-mean)"
   ]
  },
  {
   "cell_type": "code",
   "execution_count": null,
   "metadata": {
    "collapsed": true
   },
   "outputs": [],
   "source": [
    "def multivariate_trunc_normal(mean, cov, bounds, size=1):\n",
    "    ndim = mean.shape[0]\n",
    "    nwalkers = max(10*ndim, size)\n",
    "    nsteps = 1000 + size\n",
    "    \n",
    "    S = emcee.EnsembleSampler(nwalkers, ndim, lnprob_trunc_norm, args = (mean, bounds, cov))\n",
    "    pos = emcee.utils.sample_ball(mean, np.sqrt(np.diag(C)), size=nwalkers)\n",
    "    pos, prob, state = S.run_mcmc(pos, nsteps)\n",
    "    \n",
    "    return pos[-size:].flatten()"
   ]
  },
  {
   "cell_type": "code",
   "execution_count": null,
   "metadata": {},
   "outputs": [],
   "source": [
    "ndim = 10\n",
    "mean = (np.random.rand(ndim)-1)*3\n",
    "bounds=np.ones((ndim, 2))\n",
    "bounds[:, 0] = -3\n",
    "bounds[:, 1] = 3\n",
    "C = np.eye(ndim)\n",
    "theta = multivariate_trunc_normal(mean, C, bounds)\n",
    "theta"
   ]
  },
  {
   "cell_type": "markdown",
   "metadata": {},
   "source": [
    "Now we will have a look at RJMCMC techniques here.\n",
    "\n",
    "In this notebook, we will consider \"AutoRJ\" where the parameters can be assumed to follow some kind of random walk and the first and second moments are known. "
   ]
  },
  {
   "cell_type": "code",
   "execution_count": null,
   "metadata": {
    "collapsed": true
   },
   "outputs": [],
   "source": [
    "mu1 = (np.random.rand(5)-1)*3\n",
    "C1 = C[:5, :5]\n",
    "\n",
    "B = cholesky(C)\n",
    "B1 = cholesky(C1)\n",
    "\n",
    "# now we sample u1 as standard normal.\n",
    "u1 = np.random.normal(size=5)"
   ]
  },
  {
   "cell_type": "code",
   "execution_count": null,
   "metadata": {},
   "outputs": [],
   "source": [
    "R, _ = qr(B)\n",
    "rank_part = R.dot(inv(B)).dot((theta - mean).flatten())\n",
    "theta1 = mu1 + B1.dot(rank_part[:B1.shape[0]])\n",
    "# this is our new parameters for our model\n",
    "theta1"
   ]
  },
  {
   "cell_type": "code",
   "execution_count": null,
   "metadata": {
    "collapsed": true
   },
   "outputs": [],
   "source": [
    "# if we assume that we will grow to 15 dimensions instead\n",
    "mu1 = (np.random.rand(15)-1)*3\n",
    "C1 = np.eye(15)\n",
    "B1 = cholesky(C1)\n",
    "\n",
    "# now we sample u1 as standard normal\n",
    "u1 = np.random.normal(size=15)"
   ]
  },
  {
   "cell_type": "code",
   "execution_count": null,
   "metadata": {},
   "outputs": [],
   "source": [
    "R, _ = qr(B1)\n",
    "\n",
    "inner_part = inv(B).dot((theta - mean).flatten())\n",
    "rank_part = R.dot(np.hstack([inner_part, mu1[-5:]]))"
   ]
  },
  {
   "cell_type": "code",
   "execution_count": null,
   "metadata": {},
   "outputs": [],
   "source": [
    "theta1 = mu1 + B1.dot(rank_part[:B1.shape[0]])\n",
    "# this is our new parameters for our model\n",
    "theta1"
   ]
  }
 ],
 "metadata": {
  "kernelspec": {
   "display_name": "Python [default]",
   "language": "python",
   "name": "python3"
  },
  "language_info": {
   "codemirror_mode": {
    "name": "ipython",
    "version": 3
   },
   "file_extension": ".py",
   "mimetype": "text/x-python",
   "name": "python",
   "nbconvert_exporter": "python",
   "pygments_lexer": "ipython3",
   "version": "3.5.2"
  }
 },
 "nbformat": 4,
 "nbformat_minor": 2
}
