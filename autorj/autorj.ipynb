{
 "cells": [
  {
   "cell_type": "code",
   "execution_count": 1,
   "metadata": {
    "collapsed": true
   },
   "outputs": [],
   "source": [
    "import numpy as np\n",
    "\n",
    "# using truncated multivariate normal\n",
    "# https://stackoverflow.com/questions/20115917/truncated-multivariate-normal-in-scipy\n",
    "import emcee"
   ]
  },
  {
   "cell_type": "code",
   "execution_count": 2,
   "metadata": {
    "collapsed": true
   },
   "outputs": [],
   "source": [
    "from numpy.linalg import inv, cholesky\n",
    "from scipy.linalg import qr\n",
    "\n",
    "def lnprob_trunc_norm(x, mean, bounds, C):\n",
    "    if np.any(x < bounds[:,0]) or np.any(x > bounds[:,1]):\n",
    "        return -np.inf\n",
    "    else:\n",
    "        return -0.5*(x-mean).dot(inv(C)).dot(x-mean)"
   ]
  },
  {
   "cell_type": "code",
   "execution_count": 3,
   "metadata": {
    "collapsed": true
   },
   "outputs": [],
   "source": [
    "def multivariate_trunc_normal(mean, cov, bounds, size=1):\n",
    "    ndim = mean.shape[0]\n",
    "    nwalkers = max(10*ndim, size)\n",
    "    nsteps = 1000 + size\n",
    "    \n",
    "    S = emcee.EnsembleSampler(nwalkers, ndim, lnprob_trunc_norm, args = (mean, bounds, cov))\n",
    "    pos = emcee.utils.sample_ball(mean, np.sqrt(np.diag(C)), size=nwalkers)\n",
    "    pos, prob, state = S.run_mcmc(pos, nsteps)\n",
    "    \n",
    "    return pos[-size:].flatten()"
   ]
  },
  {
   "cell_type": "code",
   "execution_count": 4,
   "metadata": {},
   "outputs": [
    {
     "name": "stderr",
     "output_type": "stream",
     "text": [
      "c:\\users\\chapm\\anaconda3\\lib\\site-packages\\emcee\\ensemble.py:335: RuntimeWarning: invalid value encountered in subtract\n",
      "  lnpdiff = (self.dim - 1.) * np.log(zz) + newlnprob - lnprob0\n",
      "c:\\users\\chapm\\anaconda3\\lib\\site-packages\\emcee\\ensemble.py:336: RuntimeWarning: invalid value encountered in greater\n",
      "  accept = (lnpdiff > np.log(self._random.rand(len(lnpdiff))))\n"
     ]
    },
    {
     "data": {
      "text/plain": [
       "array([-0.47463216, -2.07098625, -2.24876379, -0.21556144, -0.36336838,\n",
       "       -1.03788551, -0.7309861 , -1.12364921, -0.93816597, -1.30960721])"
      ]
     },
     "execution_count": 4,
     "metadata": {},
     "output_type": "execute_result"
    }
   ],
   "source": [
    "ndim = 10\n",
    "mean = (np.random.rand(ndim)-1)*3\n",
    "bounds=np.ones((ndim, 2))\n",
    "bounds[:, 0] = -3\n",
    "bounds[:, 1] = 3\n",
    "C = np.eye(ndim)\n",
    "theta = multivariate_trunc_normal(mean, C, bounds)\n",
    "theta"
   ]
  },
  {
   "cell_type": "markdown",
   "metadata": {},
   "source": [
    "Now we will have a look at RJMCMC techniques here.\n",
    "\n",
    "In this notebook, we will consider \"AutoRJ\" where the parameters can be assumed to follow some kind of random walk and the first and second moments are known. "
   ]
  },
  {
   "cell_type": "code",
   "execution_count": 5,
   "metadata": {
    "collapsed": true
   },
   "outputs": [],
   "source": [
    "mu1 = (np.random.rand(5)-1)*3\n",
    "C1 = C[:5, :5]\n",
    "\n",
    "B = cholesky(C)\n",
    "B1 = cholesky(C1)\n",
    "\n",
    "# now we sample u1 as standard normal.\n",
    "u1 = np.random.normal(size=5)"
   ]
  },
  {
   "cell_type": "code",
   "execution_count": 6,
   "metadata": {},
   "outputs": [
    {
     "data": {
      "text/plain": [
       "array([-0.12329158, -1.03434802, -2.1483695 , -2.83467707, -0.85283769])"
      ]
     },
     "execution_count": 6,
     "metadata": {},
     "output_type": "execute_result"
    }
   ],
   "source": [
    "R, _ = qr(B)\n",
    "rank_part = R.dot(inv(B)).dot((theta - mean).flatten())\n",
    "theta1 = mu1 + B1.dot(rank_part[:B1.shape[0]])\n",
    "# this is our new parameters for our model\n",
    "theta1"
   ]
  },
  {
   "cell_type": "code",
   "execution_count": 7,
   "metadata": {
    "collapsed": true
   },
   "outputs": [],
   "source": [
    "# if we assume that we will grow to 15 dimensions instead\n",
    "mu1 = (np.random.rand(15)-1)*3\n",
    "C1 = np.eye(15)\n",
    "B1 = cholesky(C1)\n",
    "\n",
    "# now we sample u1 as standard normal\n",
    "u1 = np.random.normal(size=15)"
   ]
  },
  {
   "cell_type": "code",
   "execution_count": 8,
   "metadata": {},
   "outputs": [],
   "source": [
    "R, _ = qr(B1)\n",
    "\n",
    "inner_part = inv(B).dot((theta - mean).flatten())\n",
    "rank_part = R.dot(np.hstack([inner_part, mu1[-5:]]))"
   ]
  },
  {
   "cell_type": "code",
   "execution_count": 9,
   "metadata": {},
   "outputs": [
    {
     "data": {
      "text/plain": [
       "array([ -3.09866123e-01,  -2.47523416e+00,  -2.50988153e+00,\n",
       "        -2.62094056e+00,  -1.05753724e+00,   3.47758642e-03,\n",
       "        -2.37487040e+00,  -2.19841656e+00,  -1.06932378e+00,\n",
       "         4.54446945e-01,  -5.80812946e+00,  -1.27213118e+00,\n",
       "        -5.49820464e-01,  -9.68925120e-01,  -5.60013656e+00])"
      ]
     },
     "execution_count": 9,
     "metadata": {},
     "output_type": "execute_result"
    }
   ],
   "source": [
    "theta1 = mu1 + B1.dot(rank_part[:B1.shape[0]])\n",
    "# this is our new parameters for our model\n",
    "theta1"
   ]
  }
 ],
 "metadata": {
  "kernelspec": {
   "display_name": "Python [default]",
   "language": "python",
   "name": "python3"
  },
  "language_info": {
   "codemirror_mode": {
    "name": "ipython",
    "version": 3
   },
   "file_extension": ".py",
   "mimetype": "text/x-python",
   "name": "python",
   "nbconvert_exporter": "python",
   "pygments_lexer": "ipython3",
   "version": "3.5.2"
  }
 },
 "nbformat": 4,
 "nbformat_minor": 2
}
