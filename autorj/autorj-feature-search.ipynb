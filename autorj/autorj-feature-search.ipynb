{
 "cells": [
  {
   "cell_type": "markdown",
   "metadata": {},
   "source": [
    "What is in scope:\n",
    "\n",
    "Following something similar to bayesian cart to search over features. \n",
    "\n",
    "We will use linear svm accuracy over randomly generated data to determine whether our representation is an improvement or not"
   ]
  },
  {
   "cell_type": "markdown",
   "metadata": {},
   "source": [
    "The goal of this topic is to determine the ideal projection when the dimensions of the input may vary (in columns). The dimensions of the columns are determined by feature generation/embeddings. \n",
    "\n",
    "Let:\n",
    "\n",
    "*  $W$ be the projection matrix\n",
    "*  $X$ to be the matrix representing input data which may vary in dimension from iteration to iteration\n",
    "*  $Y$ be the result of the projection, i.e. $WX = Y$\n",
    "\n",
    "WLOG fix the size of $Y$, (let's call this $d$). Then we have $W \\in \\mathbb{R}^{d \\times n}$.\n",
    "\n",
    "In this setting within the RJMCMC framework, the number of parameters we are estimating is:\n",
    "\n",
    "*  all entries in $W$ ($d \\times n$)  \n",
    "*  all relevant combination of feature generation functions and their respective parameters \n",
    "                                             \n",
    "\n",
    "### Examples of feature vector generation functions\n",
    "\n",
    "As an example of an algorithm which we should compare is the multivariate adaptive regression splines (MARS)\n",
    "\n",
    "**Hinge Function**\n",
    "\n",
    "The hinge function ($f_\\text{hinge}$) is similiar to ReLu), can be defined as a feature generation function, (_probably not the right way to write this out_)\n",
    "\n",
    "$$ f_{\\text{hinge}^+} (X_{j}, \\theta) = (X_j-\\theta \\mathbf{1})_{+}$$\n",
    "\n",
    "Where $X_j$ represents the $j$th column, without loss of generality we can likewise define $f_{\\text{hinge}^-} (X_{j}, \\theta) = (\\theta \\mathbf{1} - X_j)_{+}$\n",
    "\n",
    "**Interaction**\n",
    "\n",
    "Interaction term will be defined the dot product of two feature vectors (which can be the same feature vector), (_probably not the right way to write this out_)\n",
    "\n",
    "$$ f_\\text{interaction} (X_1, X_2) = X_1  \\cdot X_2 $$\n",
    "\n",
    "Replicating MARS in RJMCMC\n",
    "--------------------------\n",
    "\n",
    "[MARS](https://en.wikipedia.org/wiki/Multivariate_adaptive_regression_splines) is a prime candidate for exploring this problem. \n",
    "\n",
    "In the RJMCMC space we have the following decisions:\n",
    "\n",
    "1. GROW - we can grow the state by Proposing a new feature vector generation transformation and respective parameter, e.g. hinge, interaction, or more complex function transforms which could be a composition of function generation...\n",
    "2. DESTROY - we can also delete a created feature\n",
    "\n",
    "This would be represent moving from one state to another.                                  "
   ]
  },
  {
   "cell_type": "code",
   "execution_count": 1,
   "metadata": {
    "collapsed": true
   },
   "outputs": [],
   "source": [
    "import numpy as np\n",
    "import pandas as pd\n",
    "\n",
    "from hinge import Hinge, error_on_split\n",
    "from interaction import Interaction\n",
    "\n",
    "from sklearn import datasets\n",
    "from sklearn import preprocessing\n",
    "from sklearn.pipeline import Pipeline\n",
    "from sklearn import preprocessing\n",
    "\n",
    "# using svm as per scikit-feature repo\n",
    "from sklearn.decomposition import FactorAnalysis # we shall use factor analysis to fix the size of final modelling ds.\n",
    "from sklearn.svm import LinearSVC\n",
    "from sklearn.model_selection import KFold\n",
    "from sklearn.model_selection import cross_val_score\n",
    "\n",
    "# for sampling\n",
    "import random # use random.choice? and random.sample for interactions\n",
    "\n",
    "# use networkx to keep track of changes to our data, so we can recreate things...\n",
    "import networkx as nx\n",
    "import matplotlib.pyplot as plt\n",
    "%matplotlib inline"
   ]
  },
  {
   "cell_type": "code",
   "execution_count": 2,
   "metadata": {
    "collapsed": true
   },
   "outputs": [],
   "source": [
    "from sklearn.datasets import make_classification\n",
    "\n",
    "problem_setup = {\n",
    "    'n_samples': 300, \n",
    "    'n_features': 50, \n",
    "    'n_informative': 10, \n",
    "    'n_redundant': 10, \n",
    "    'n_classes': 3, \n",
    "    'random_state': 0    \n",
    "}\n",
    "\n",
    "X, y = make_classification(**problem_setup)\n",
    "X = X.astype(float)\n",
    "n_samples, n_features = X.shape    # number of samples and number of features\n",
    "\n"
   ]
  },
  {
   "cell_type": "code",
   "execution_count": 3,
   "metadata": {},
   "outputs": [
    {
     "data": {
      "text/html": [
       "<div>\n",
       "<table border=\"1\" class=\"dataframe\">\n",
       "  <thead>\n",
       "    <tr style=\"text-align: right;\">\n",
       "      <th></th>\n",
       "      <th>base_0</th>\n",
       "      <th>base_1</th>\n",
       "      <th>base_2</th>\n",
       "      <th>base_3</th>\n",
       "      <th>base_4</th>\n",
       "      <th>base_5</th>\n",
       "      <th>base_6</th>\n",
       "      <th>base_7</th>\n",
       "      <th>base_8</th>\n",
       "      <th>base_9</th>\n",
       "      <th>...</th>\n",
       "      <th>base_40</th>\n",
       "      <th>base_41</th>\n",
       "      <th>base_42</th>\n",
       "      <th>base_43</th>\n",
       "      <th>base_44</th>\n",
       "      <th>base_45</th>\n",
       "      <th>base_46</th>\n",
       "      <th>base_47</th>\n",
       "      <th>base_48</th>\n",
       "      <th>base_49</th>\n",
       "    </tr>\n",
       "  </thead>\n",
       "  <tbody>\n",
       "    <tr>\n",
       "      <th>0</th>\n",
       "      <td>0.140673</td>\n",
       "      <td>-1.056507</td>\n",
       "      <td>0.211336</td>\n",
       "      <td>-0.051245</td>\n",
       "      <td>-1.707436</td>\n",
       "      <td>0.812612</td>\n",
       "      <td>0.529927</td>\n",
       "      <td>0.337739</td>\n",
       "      <td>-0.010239</td>\n",
       "      <td>5.082635</td>\n",
       "      <td>...</td>\n",
       "      <td>-2.159166</td>\n",
       "      <td>-0.505031</td>\n",
       "      <td>-0.290300</td>\n",
       "      <td>-1.423013</td>\n",
       "      <td>-3.531133</td>\n",
       "      <td>-0.074873</td>\n",
       "      <td>-2.908971</td>\n",
       "      <td>-0.533449</td>\n",
       "      <td>0.512048</td>\n",
       "      <td>-1.315979</td>\n",
       "    </tr>\n",
       "    <tr>\n",
       "      <th>1</th>\n",
       "      <td>1.734870</td>\n",
       "      <td>1.749369</td>\n",
       "      <td>0.393464</td>\n",
       "      <td>0.148533</td>\n",
       "      <td>-1.712113</td>\n",
       "      <td>-0.199287</td>\n",
       "      <td>-0.667767</td>\n",
       "      <td>-0.943495</td>\n",
       "      <td>0.681635</td>\n",
       "      <td>10.447742</td>\n",
       "      <td>...</td>\n",
       "      <td>-0.558268</td>\n",
       "      <td>-7.479695</td>\n",
       "      <td>-1.706696</td>\n",
       "      <td>-1.395395</td>\n",
       "      <td>0.973802</td>\n",
       "      <td>-1.041347</td>\n",
       "      <td>-6.201191</td>\n",
       "      <td>-1.176442</td>\n",
       "      <td>0.944423</td>\n",
       "      <td>0.898251</td>\n",
       "    </tr>\n",
       "    <tr>\n",
       "      <th>2</th>\n",
       "      <td>-5.493219</td>\n",
       "      <td>-2.420378</td>\n",
       "      <td>1.699525</td>\n",
       "      <td>0.362889</td>\n",
       "      <td>2.864180</td>\n",
       "      <td>-0.716517</td>\n",
       "      <td>0.473016</td>\n",
       "      <td>-2.715607</td>\n",
       "      <td>-1.177175</td>\n",
       "      <td>1.574229</td>\n",
       "      <td>...</td>\n",
       "      <td>-1.303525</td>\n",
       "      <td>1.311686</td>\n",
       "      <td>-0.583548</td>\n",
       "      <td>-0.007803</td>\n",
       "      <td>-0.151316</td>\n",
       "      <td>-0.385398</td>\n",
       "      <td>-3.257219</td>\n",
       "      <td>1.409357</td>\n",
       "      <td>-2.276589</td>\n",
       "      <td>-0.894274</td>\n",
       "    </tr>\n",
       "    <tr>\n",
       "      <th>3</th>\n",
       "      <td>2.791666</td>\n",
       "      <td>-0.639234</td>\n",
       "      <td>-0.763891</td>\n",
       "      <td>1.370567</td>\n",
       "      <td>-5.788661</td>\n",
       "      <td>-0.260745</td>\n",
       "      <td>1.800210</td>\n",
       "      <td>-1.234377</td>\n",
       "      <td>-1.453207</td>\n",
       "      <td>-1.568038</td>\n",
       "      <td>...</td>\n",
       "      <td>2.405260</td>\n",
       "      <td>-1.256116</td>\n",
       "      <td>-0.726343</td>\n",
       "      <td>-0.655469</td>\n",
       "      <td>4.565850</td>\n",
       "      <td>-0.863371</td>\n",
       "      <td>0.646507</td>\n",
       "      <td>1.113179</td>\n",
       "      <td>3.217174</td>\n",
       "      <td>-1.646719</td>\n",
       "    </tr>\n",
       "    <tr>\n",
       "      <th>4</th>\n",
       "      <td>3.785220</td>\n",
       "      <td>-0.750653</td>\n",
       "      <td>1.519439</td>\n",
       "      <td>-0.643260</td>\n",
       "      <td>-11.617471</td>\n",
       "      <td>0.649915</td>\n",
       "      <td>-2.345340</td>\n",
       "      <td>2.838290</td>\n",
       "      <td>-0.866542</td>\n",
       "      <td>-0.351528</td>\n",
       "      <td>...</td>\n",
       "      <td>1.227032</td>\n",
       "      <td>-0.983323</td>\n",
       "      <td>-1.639763</td>\n",
       "      <td>0.144169</td>\n",
       "      <td>0.267208</td>\n",
       "      <td>1.068478</td>\n",
       "      <td>-4.026710</td>\n",
       "      <td>-2.084032</td>\n",
       "      <td>4.185424</td>\n",
       "      <td>-0.085756</td>\n",
       "    </tr>\n",
       "  </tbody>\n",
       "</table>\n",
       "<p>5 rows × 50 columns</p>\n",
       "</div>"
      ],
      "text/plain": [
       "     base_0    base_1    base_2    base_3     base_4    base_5    base_6  \\\n",
       "0  0.140673 -1.056507  0.211336 -0.051245  -1.707436  0.812612  0.529927   \n",
       "1  1.734870  1.749369  0.393464  0.148533  -1.712113 -0.199287 -0.667767   \n",
       "2 -5.493219 -2.420378  1.699525  0.362889   2.864180 -0.716517  0.473016   \n",
       "3  2.791666 -0.639234 -0.763891  1.370567  -5.788661 -0.260745  1.800210   \n",
       "4  3.785220 -0.750653  1.519439 -0.643260 -11.617471  0.649915 -2.345340   \n",
       "\n",
       "     base_7    base_8     base_9    ...      base_40   base_41   base_42  \\\n",
       "0  0.337739 -0.010239   5.082635    ...    -2.159166 -0.505031 -0.290300   \n",
       "1 -0.943495  0.681635  10.447742    ...    -0.558268 -7.479695 -1.706696   \n",
       "2 -2.715607 -1.177175   1.574229    ...    -1.303525  1.311686 -0.583548   \n",
       "3 -1.234377 -1.453207  -1.568038    ...     2.405260 -1.256116 -0.726343   \n",
       "4  2.838290 -0.866542  -0.351528    ...     1.227032 -0.983323 -1.639763   \n",
       "\n",
       "    base_43   base_44   base_45   base_46   base_47   base_48   base_49  \n",
       "0 -1.423013 -3.531133 -0.074873 -2.908971 -0.533449  0.512048 -1.315979  \n",
       "1 -1.395395  0.973802 -1.041347 -6.201191 -1.176442  0.944423  0.898251  \n",
       "2 -0.007803 -0.151316 -0.385398 -3.257219  1.409357 -2.276589 -0.894274  \n",
       "3 -0.655469  4.565850 -0.863371  0.646507  1.113179  3.217174 -1.646719  \n",
       "4  0.144169  0.267208  1.068478 -4.026710 -2.084032  4.185424 -0.085756  \n",
       "\n",
       "[5 rows x 50 columns]"
      ]
     },
     "execution_count": 3,
     "metadata": {},
     "output_type": "execute_result"
    }
   ],
   "source": [
    "import pandas as pd # for making sure and exploring created datasets...\n",
    "X_df = pd.DataFrame(X)\n",
    "base_names = [\"base_{}\".format(x) for x in range(n_features)]\n",
    "X_df.columns = base_names[:]\n",
    "X_df.head()"
   ]
  },
  {
   "cell_type": "code",
   "execution_count": 4,
   "metadata": {
    "collapsed": true
   },
   "outputs": [],
   "source": [
    "def eval_pipeline(additional_feats=[], X=X_df, y=y, verbose=True):\n",
    "    pipeline = additional_feats[:]\n",
    "    pipeline.append(('factor analysis', FactorAnalysis(20)))\n",
    "    pipeline.append(('linear svm', LinearSVC()))\n",
    "    model = Pipeline(pipeline[:])\n",
    "\n",
    "    # split data into 10 folds\n",
    "    kfold = KFold(n_splits=3, shuffle=True)\n",
    "    results = cross_val_score(model, X, y, cv=kfold)\n",
    "    if verbose:\n",
    "        print(\"Accuracy: {}\".format(results.mean()))\n",
    "    return results.mean()"
   ]
  },
  {
   "cell_type": "code",
   "execution_count": 5,
   "metadata": {},
   "outputs": [
    {
     "name": "stdout",
     "output_type": "stream",
     "text": [
      "Accuracy: 0.7033333333333335\n"
     ]
    },
    {
     "data": {
      "text/plain": [
       "0.70333333333333348"
      ]
     },
     "execution_count": 5,
     "metadata": {},
     "output_type": "execute_result"
    }
   ],
   "source": [
    "# baseline solution - vanilla pipeline\n",
    "eval_pipeline(X=X_df)"
   ]
  },
  {
   "cell_type": "markdown",
   "metadata": {},
   "source": [
    "Feature Search\n",
    "=======\n",
    "\n",
    "We have 4 possible situations:\n",
    "\n",
    "1. Grow - split : assumption is we always grow 2\n",
    "2. Grow - interaction\n",
    "3. Remove - split : assumption is we always destroy both\n",
    "4. Remove - interaction\n",
    "\n",
    "Proposal Distributions\n",
    "------------------------\n",
    "\n",
    "Assume each action has equal probability and is uniform\n",
    "\n",
    "### Splits\n",
    "\n",
    "**Grow (Split) | Base (Remove) **\n",
    "\n",
    "We will use the same probability of split as given in Bayesian cart: $p_{\\text{split}}(X_i) = \\alpha(1+\\text{total_splits})^{-\\beta}$\n",
    "where $\\text{total_splits}$ represents the total number of times a node has been created for column $X_i$. Then\n",
    "\n",
    "$$P(\\text{ Grow (Split) } | \\text{ Base (Remove }) = \\frac{1}{4} \\alpha(1+\\text{total_splits})^{-\\beta} $$ \n",
    "\n",
    "----\n",
    "\n",
    "For now we will make it simple, and say if it is chosen it will always split.\n",
    "\n",
    "This would be...\n",
    "\n",
    "$$P(\\text{ Grow (Split) } | \\text{ Base (Remove }) = \\frac{1}{4} \\frac{1}{\\text{candidate children nodes}} $$ "
   ]
  },
  {
   "cell_type": "markdown",
   "metadata": {},
   "source": [
    "**Base (Remove) | Grow (Split)**\n",
    "\n",
    "This should be the same as drawing based on number of additional features created (call this $n$). \n",
    "\n",
    "$$P(\\text{ Base (Remove) } | \\text{ Grow (Split) }) = (\\frac{1}{4}  \\frac{2}{n}) \\times (\\frac{1}{4}  \\frac{1}{n-1}) = \\frac{1}{8}  \\frac{1}{n(n-1)}$$\n",
    "\n",
    "----\n",
    "\n",
    "\n",
    "For now we will make it simple, and say if it is chosen it will always split.\n",
    "\n",
    "This would be...\n",
    "\n",
    "$$P(\\text{ Grow (Split) } | \\text{ Base (Remove }) = \\frac{1}{4} \\frac{1}{\\text{candidate parent nodes}} $$ \n",
    "\n",
    "Note that the parent nodes chosen here can only be one level up from the terminal node...."
   ]
  },
  {
   "cell_type": "markdown",
   "metadata": {},
   "source": [
    "### Interaction\n",
    "\n",
    "**Grow (Interaction) | Base (Interaction)**\n",
    "\n",
    "This again is your binomial draws, this one is based on total number of features, which we will denote by $d + n$, i.e. original size of your dataset and the total number of generated features. \n",
    "\n",
    "$$P(\\text{ Grow (Interaction) } | \\text{ Base (Interaction) }) = \\frac{1}{4} \\frac{2}{(d+n)(d+n-1)} = \\frac{1}{2} \\frac{1}{(d+n)(d+n-1)}$$\n",
    "\n",
    "Note that anything can have interaction! So we can't presume as above - we should somehow also exclude previously created interactions!\n",
    "\n",
    "Can be more simply\n",
    "\n",
    "$$P(\\text{ Grow (Interaction) } | \\text{ Base (Interaction) }) = \\frac{1}{4} \\frac{1}{\\text{candidate interaction pairs}}$$"
   ]
  },
  {
   "cell_type": "markdown",
   "metadata": {},
   "source": [
    "**Base (Interaction) | Grow (Interaction)**\n",
    "\n",
    "This is just choosing one particular feature that is created.\n",
    "\n",
    "$$P(\\text{ Base (Interaction) } | \\text{ Grow (Interaction) }) = \\frac{1}{4} \\frac{1}{\\text{candidate interaction parents}}$$\n"
   ]
  },
  {
   "cell_type": "markdown",
   "metadata": {},
   "source": [
    "------\n",
    "\n",
    "In this setting there is no need for RJMCMC (yet) as the transformations are parameter free.\n",
    "\n",
    "What this means is we can do a straight MH"
   ]
  },
  {
   "cell_type": "code",
   "execution_count": 6,
   "metadata": {
    "collapsed": true
   },
   "outputs": [],
   "source": [
    "# our proposal distributions\n",
    "\n",
    "def split_given_remove(num_splits):\n",
    "    # make this simplier for now...\n",
    "    #return 0.25 * alpha * ((1.0+num_splits)^(-beta))\n",
    "    return 0.25 * num_splits\n",
    "    \n",
    "\n",
    "def remove_given_split(num_created):\n",
    "    # num created is the number of base spllits, we can possibly \n",
    "    # remove!\n",
    "    #return 0.125 * (1.0/(num_created*(num_created-1)))\n",
    "    return 0.25 * num_created\n",
    "\n",
    "def interact_given_remove(base_dim, num_created):\n",
    "    from scipy.misc import comb\n",
    "    total_dim = base_dim + num_created\n",
    "    return 0.5 * (1.0/(total_dim * (total_dim - 1)))\n",
    "\n",
    "def remove_given_interact(num_created):\n",
    "    return 0.25*num_created"
   ]
  },
  {
   "cell_type": "code",
   "execution_count": 7,
   "metadata": {
    "collapsed": true
   },
   "outputs": [],
   "source": [
    "\"\"\"\n",
    "each model proposal can be represented by a dictionary\n",
    "so the markov chain will be a list of dictionaries\n",
    "\n",
    "Sample usage:\n",
    "\n",
    "ds_pipeline = [\n",
    "    ('hinge', Hinge()), \n",
    "    ('interaction', Interaction([1,2]))\n",
    "    ]\n",
    "\n",
    "eval_pipeline(ds_pipeline)\n",
    "\"\"\"\n",
    "\n",
    "def get_name(name):    \n",
    "    clean_name = name.split(\"_\")\n",
    "    return clean_name\n",
    "\n",
    "\n"
   ]
  },
  {
   "cell_type": "code",
   "execution_count": 8,
   "metadata": {
    "collapsed": true
   },
   "outputs": [],
   "source": [
    "def graph_to_dict(G):\n",
    "    return dict(nodes=[[n, G.node[n]] for n in G.nodes()],\n",
    "                   edges=[[u, v, G.edge[u][v]] for u,v in G.edges()])\n",
    "\n",
    "def dict_to_graph(dict_obj):\n",
    "    G = nx.DiGraph()\n",
    "    G.add_nodes_from(dict_obj['nodes'])\n",
    "    G.add_edges_from(dict_obj['edges'])\n",
    "    return G\n",
    "\n",
    "def print_graph_from_dict(dict_obj):\n",
    "    G = dict_to_graph(dict_obj)\n",
    "    nx.draw_random(G)\n",
    "    "
   ]
  },
  {
   "cell_type": "code",
   "execution_count": 9,
   "metadata": {
    "collapsed": true
   },
   "outputs": [],
   "source": [
    "# generate the base graph, where we have a the root node and all the base features...\n",
    "G=nx.DiGraph()\n",
    "G.add_node(\"root\")\n",
    "\n",
    "for col in base_names:\n",
    "    # we can add node attributes, eg\n",
    "    #G.add_node(col, attribute='here')\n",
    "    G.add_node(col, node_type='base')\n",
    "    G.add_edge(\"root\", col)\n",
    "\n",
    "simulations = []\n",
    "simulations.append(graph_to_dict(G))"
   ]
  },
  {
   "cell_type": "code",
   "execution_count": 10,
   "metadata": {},
   "outputs": [
    {
     "name": "stderr",
     "output_type": "stream",
     "text": [
      "c:\\users\\chapm\\anaconda3\\lib\\site-packages\\networkx\\drawing\\nx_pylab.py:126: MatplotlibDeprecationWarning: pyplot.hold is deprecated.\n",
      "    Future behavior will be consistent with the long-time default:\n",
      "    plot commands add elements without first clearing the\n",
      "    Axes and/or Figure.\n",
      "  b = plt.ishold()\n",
      "c:\\users\\chapm\\anaconda3\\lib\\site-packages\\networkx\\drawing\\nx_pylab.py:138: MatplotlibDeprecationWarning: pyplot.hold is deprecated.\n",
      "    Future behavior will be consistent with the long-time default:\n",
      "    plot commands add elements without first clearing the\n",
      "    Axes and/or Figure.\n",
      "  plt.hold(b)\n",
      "c:\\users\\chapm\\anaconda3\\lib\\site-packages\\matplotlib\\__init__.py:917: UserWarning: axes.hold is deprecated. Please remove it from your matplotlibrc and/or style files.\n",
      "  warnings.warn(self.msg_depr_set % key)\n",
      "c:\\users\\chapm\\anaconda3\\lib\\site-packages\\matplotlib\\rcsetup.py:152: UserWarning: axes.hold is deprecated, will be removed in 3.0\n",
      "  warnings.warn(\"axes.hold is deprecated, will be removed in 3.0\")\n"
     ]
    },
    {
     "data": {
      "image/png": "[encoded data removed]",
      "text/plain": [
       "<matplotlib.figure.Figure at 0x17c2b3be940>"
      ]
     },
     "metadata": {},
     "output_type": "display_data"
    }
   ],
   "source": [
    "print_graph_from_dict(simulations[0])"
   ]
  },
  {
   "cell_type": "code",
   "execution_count": 11,
   "metadata": {
    "collapsed": true
   },
   "outputs": [],
   "source": [
    "def get_all_hinge_candidates(G):\n",
    "    \"\"\"\n",
    "    Get all nodes which have \n",
    "    - no successors\n",
    "    - (bonus) or successors do not have property \"hinge\" (exclude root)    \n",
    "    \n",
    "    Format of the graph G will be:\n",
    "    \n",
    "    G.add_node(col, hinge=split_point_as_float, hinge_parent=[parent_node])\n",
    "    \"\"\"\n",
    "    candidates = []\n",
    "    for node in G.nodes():\n",
    "        if node == \"root\": \n",
    "            continue\n",
    "        if len(G.successors(node)) == 0:\n",
    "            candidates.append(node)\n",
    "        else:\n",
    "            # traverse through each one and check for attributes...\n",
    "            check_hinge = [successor for successor in G.successors(node)\n",
    "                           if 'hinge' in list(G.node[successor].keys())]\n",
    "            if len(check_hinge) > 0:\n",
    "                # add this node to candidate\n",
    "                candidates.append(node)\n",
    "    return candidates\n",
    "\n",
    "def get_all_interaction_candidates(G):\n",
    "    \"\"\"\n",
    "    \n",
    "    Format of graph G will be\n",
    "    \n",
    "    G.add_node(colname, interaction=[colname1, colname2])\n",
    "    \"\"\"\n",
    "    def check_valid_candidates(G, n1, n2):\n",
    "        \"\"\"\n",
    "        Checks if a proposed interaction has already been created\n",
    "        \"\"\"\n",
    "        check_set = set([n1, n2])\n",
    "        for node_name in G.nodes():\n",
    "            res = G.node[node_name].get(\"interaction\", [])\n",
    "            if set(res) == check_set:\n",
    "                return False\n",
    "        return True                \n",
    "    \n",
    "    candidates = []\n",
    "    for node1 in G.nodes():\n",
    "        if node1 == \"root\": \n",
    "            continue\n",
    "        \n",
    "        # propose a new candidate...this list is at most d*(d-1) in size.\n",
    "        # generally smaller for reasons\n",
    "        for node2 in G.nodes():\n",
    "            if node2 == \"root\":\n",
    "                continue\n",
    "                \n",
    "            # propose node1, node2 as a candidate\n",
    "            # check if valid...\n",
    "            if check_valid_candidates(G, node1, node2):\n",
    "                candidates.append([node1, node2])\n",
    "    \n",
    "    return candidates"
   ]
  },
  {
   "cell_type": "code",
   "execution_count": 12,
   "metadata": {
    "collapsed": true
   },
   "outputs": [],
   "source": [
    "def get_all_hinge_parent(G):\n",
    "    \"\"\"\n",
    "    Get all parents which are one level about possible candidates    \n",
    "    \n",
    "    this is used to spawn the equivalent remove call\n",
    "    \"\"\"\n",
    "    # 1. get all possible hinge parents\n",
    "    # 2. remove all hinge parents which have multiple children\n",
    "    \n",
    "    def check_valid_pair(child, all_hinge_parents):\n",
    "        # filter out all children which are also a parent.\n",
    "        all_parent = [parent for parent, child in all_hinge_parents]\n",
    "        return False if child in all_parent else True\n",
    "    \n",
    "    all_hinge_parents = []\n",
    "    for node in G.nodes():\n",
    "        if 'hinge' in list(G.node[node].keys()):\n",
    "            all_hinge_parents.append((G.node[node]['hinge_parent'], node))\n",
    "    \n",
    "    # filter out any candidates, where the proposed (parent, child) pair, has a child which is also a parent\n",
    "    check = all_hinge_parents[:]\n",
    "    all_hinge_parents = [(parent, child) for\n",
    "                        parent, child in check if check_valid_pair(child, check)]\n",
    "    return all_hinge_parents\n",
    "    \n",
    "\n",
    "def get_all_interaction_parents(G):\n",
    "    \"\"\"\n",
    "    Get all parents of interactions in the graph\n",
    "    \n",
    "    this is used to spawn the equivalent remove call\n",
    "    \"\"\"\n",
    "    def check_valid_pair(child, candidates):\n",
    "        # filter out all children which are also a parent.\n",
    "        all_parent = [d['interaction'] for d in candidates]\n",
    "        flat_parents = [item for parent in all_parent for item in parent]\n",
    "        return False if child in flat_parents else True\n",
    "    \n",
    "    candidates = []\n",
    "    for node in G.nodes():\n",
    "        if 'interaction' in list(G.node[node].keys()):\n",
    "            candidates.append({'interaction': G.node[node]['interaction'], 'child':node})\n",
    "    \n",
    "    # sim to above, filter anything, where (parent, child) has a child, which is also a parent.\n",
    "    check = candidates[:]\n",
    "    all_candidates = [d for d in candidates if check_valid_pair(d['child'], check)]\n",
    "    return all_candidates"
   ]
  },
  {
   "cell_type": "code",
   "execution_count": 13,
   "metadata": {},
   "outputs": [
    {
     "name": "stdout",
     "output_type": "stream",
     "text": [
      "There are no interaction parents: True\n",
      "There are no hinge parents: True\n",
      "There are linearly many hinge candidates: 50\n",
      "There are exponential many interaction candidates: 2500\n"
     ]
    }
   ],
   "source": [
    "# sense check....\n",
    "# generate the base graph, where we have a the root node and all the base features...\n",
    "G=nx.DiGraph()\n",
    "G.add_node(\"root\")\n",
    "\n",
    "for col in base_names:\n",
    "    # we can add node attributes, eg\n",
    "    #G.add_node(col, attribute='here')\n",
    "    G.add_node(col, node_type='base')\n",
    "    G.add_edge(\"root\", col)\n",
    "\n",
    "print(\"There are no interaction parents: {}\".format(len(get_all_interaction_parents(G)) == 0))\n",
    "print(\"There are no hinge parents: {}\".format(len(get_all_hinge_parent(G)) == 0))\n",
    "print(\"There are linearly many hinge candidates: {}\".format(len(get_all_hinge_candidates(G))))\n",
    "print(\"There are exponential many interaction candidates: {}\".format(len(get_all_interaction_candidates(G))))"
   ]
  },
  {
   "cell_type": "code",
   "execution_count": 14,
   "metadata": {},
   "outputs": [
    {
     "data": {
      "text/plain": [
       "[('grow', 'hinge'), ('grow', 'interact')]"
      ]
     },
     "execution_count": 14,
     "metadata": {},
     "output_type": "execute_result"
    }
   ],
   "source": [
    "# start simulations!\n",
    "def spawn_possible_actions(G):\n",
    "    actions = []\n",
    "    if get_all_interaction_parents(G):\n",
    "        actions.append((\"remove\", \"interact\"))\n",
    "    if get_all_hinge_parent(G):\n",
    "        actions.append((\"remove\", \"hinge\"))\n",
    "    if get_all_hinge_candidates(G):\n",
    "        actions.append((\"grow\", \"hinge\"))\n",
    "    if get_all_interaction_candidates(G):\n",
    "        actions.append((\"grow\", \"interact\"))\n",
    "    return actions\n",
    "\n",
    "spawn_possible_actions(G)"
   ]
  },
  {
   "cell_type": "code",
   "execution_count": 15,
   "metadata": {
    "collapsed": true
   },
   "outputs": [],
   "source": [
    "def spawn_action_candidates(G, action, transform):\n",
    "    if action == 'grow':\n",
    "        if transform == 'hinge':\n",
    "            return get_all_hinge_candidates(G)\n",
    "        elif transform == 'interact':\n",
    "            return get_all_interaction_candidates(G)\n",
    "        else:\n",
    "            raise Exception(\"invalid transform function\")\n",
    "    if action == 'remove':\n",
    "        if transform == 'hinge':\n",
    "            return get_all_hinge_parent(G)\n",
    "        elif transform == 'interact':\n",
    "            return get_all_interaction_parents(G)\n",
    "        else:\n",
    "            raise Exception(\"invalid transform function\")\n",
    "    else:\n",
    "        raise Exception(\"invalid grow function\")"
   ]
  },
  {
   "cell_type": "code",
   "execution_count": 16,
   "metadata": {},
   "outputs": [],
   "source": [
    "def spawn_new_model(G):\n",
    "    # to spawn a model, spawn possible actions:\n",
    "    \n",
    "    all_actions = spawn_possible_actions(G)\n",
    "    action, transform = random.choice(all_actions)\n",
    "    # this just returns the function that is randomly chosen.\n",
    "    candidates = spawn_action_candidates(G, action, transform)\n",
    "    selected_node = random.choice(candidates)\n",
    "    \n",
    "    G_prime = G.copy()        \n",
    "    \n",
    "    return {'action': action, \n",
    "            'transform': transform,\n",
    "            'selected_node': selected_node}\n",
    "    "
   ]
  },
  {
   "cell_type": "code",
   "execution_count": 17,
   "metadata": {
    "collapsed": true
   },
   "outputs": [],
   "source": [
    "# construct new model...\n",
    "def spawn_new_pipeline(list_of_transforms):\n",
    "    \"\"\"\n",
    "    list_of_transforms is a list of dictionaries    \n",
    "    \"\"\"\n",
    "    pipeline = []    \n",
    "    # we can add to pipeline and pop it off afterwards...\n",
    "    # rather than overloading the graph!    \n",
    "    for transform in list_of_transforms:\n",
    "        # check of empty dictionary which is the first one\n",
    "        if len(transform) == 0:\n",
    "            continue\n",
    "        \n",
    "        if transform['action'] == 'grow':\n",
    "            pipeline_name = \"{}-{}-{}\".format(\n",
    "                transform['action'], transform['transform'], \n",
    "                \":\".join(list(transform['selected_node']))\n",
    "            )\n",
    "            if transform['transform'] == 'hinge':\n",
    "                pipeline_action = Hinge(mask=transform['selected_node'])\n",
    "            elif transform['transform'] == 'interact':\n",
    "                pipeline_action = Interaction(transform['selected_node'])\n",
    "            pipeline.append((pipeline_name, pipeline_action))\n",
    "        elif transform['action'] == 'remove':\n",
    "            remove_pipeline_name = \"{}-{}-{}\".format(\n",
    "                'grow', transform['transform'], \n",
    "                \":\".join(list(transform['selected_node']))\n",
    "            )\n",
    "            pipeline = [(name, action) for name, action in pipeline if name != remove_pipeline_name]\n",
    "    return pipeline\n"
   ]
  },
  {
   "cell_type": "code",
   "execution_count": 26,
   "metadata": {},
   "outputs": [
    {
     "name": "stdout",
     "output_type": "stream",
     "text": [
      "Chosen action/transform: grow hinge\n",
      "selected node(s): base_13\n"
     ]
    }
   ],
   "source": [
    "### spawn one pass...\n",
    "new_model = spawn_new_model(G)\n",
    "print(\"Chosen action/transform: {} {}\".format(new_model['action'], new_model['transform']))\n",
    "print(\"selected node(s): {}\".format(new_model['selected_node']))"
   ]
  },
  {
   "cell_type": "code",
   "execution_count": 27,
   "metadata": {
    "collapsed": true
   },
   "outputs": [],
   "source": [
    "graph_list = [G]\n",
    "transform_list = [new_model]"
   ]
  },
  {
   "cell_type": "code",
   "execution_count": 28,
   "metadata": {},
   "outputs": [
    {
     "data": {
      "text/plain": [
       "[('grow-hinge-b:a:s:e:_:1:3', Hinge(hinge=None, mask='base_13',\n",
       "     psplit=<function error_on_split at 0x0000017C28BD79D8>, search_min=True))]"
      ]
     },
     "execution_count": 28,
     "metadata": {},
     "output_type": "execute_result"
    }
   ],
   "source": [
    "new_pipeline = spawn_new_pipeline(transform_list)\n",
    "new_pipeline"
   ]
  },
  {
   "cell_type": "code",
   "execution_count": 29,
   "metadata": {},
   "outputs": [
    {
     "name": "stdout",
     "output_type": "stream",
     "text": [
      "Accuracy: 0.71\n"
     ]
    },
    {
     "data": {
      "text/plain": [
       "0.70999999999999996"
      ]
     },
     "execution_count": 29,
     "metadata": {},
     "output_type": "execute_result"
    }
   ],
   "source": [
    "# baseline solution - vanilla pipeline\n",
    "eval_pipeline(X=X_df)"
   ]
  },
  {
   "cell_type": "code",
   "execution_count": 30,
   "metadata": {},
   "outputs": [
    {
     "name": "stdout",
     "output_type": "stream",
     "text": [
      "Accuracy: 0.73\n"
     ]
    },
    {
     "data": {
      "text/plain": [
       "0.72999999999999998"
      ]
     },
     "execution_count": 30,
     "metadata": {},
     "output_type": "execute_result"
    }
   ],
   "source": [
    "# baseline solution - vanilla pipeline\n",
    "eval_pipeline(additional_feats=new_pipeline, X=X_df)"
   ]
  },
  {
   "cell_type": "markdown",
   "metadata": {},
   "source": [
    "Now we can perform MH, as long as we calculate the acceptance probabilities etc..."
   ]
  },
  {
   "cell_type": "code",
   "execution_count": null,
   "metadata": {
    "collapsed": true
   },
   "outputs": [],
   "source": []
  }
 ],
 "metadata": {
  "kernelspec": {
   "display_name": "Python [default]",
   "language": "python",
   "name": "python3"
  },
  "language_info": {
   "codemirror_mode": {
    "name": "ipython",
    "version": 3
   },
   "file_extension": ".py",
   "mimetype": "text/x-python",
   "name": "python",
   "nbconvert_exporter": "python",
   "pygments_lexer": "ipython3",
   "version": "3.5.2"
  }
 },
 "nbformat": 4,
 "nbformat_minor": 2
}
