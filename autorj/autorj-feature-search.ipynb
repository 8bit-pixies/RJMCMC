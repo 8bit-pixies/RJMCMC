{
 "cells": [
  {
   "cell_type": "markdown",
   "metadata": {},
   "source": [
    "What is in scope:\n",
    "\n",
    "Following something similar to bayesian cart to search over features. \n",
    "\n",
    "We will use linear svm accuracy over randomly generated data to determine whether our representation is an improvement or not"
   ]
  },
  {
   "cell_type": "markdown",
   "metadata": {},
   "source": [
    "The goal of this topic is to determine the ideal projection when the dimensions of the input may vary (in columns). The dimensions of the columns are determined by feature generation/embeddings. \n",
    "\n",
    "Let:\n",
    "\n",
    "*  $W$ be the projection matrix\n",
    "*  $X$ to be the matrix representing input data which may vary in dimension from iteration to iteration\n",
    "*  $Y$ be the result of the projection, i.e. $WX = Y$\n",
    "\n",
    "WLOG fix the size of $Y$, (let's call this $d$). Then we have $W \\in \\mathbb{R}^{d \\times n}$.\n",
    "\n",
    "In this setting within the RJMCMC framework, the number of parameters we are estimating is:\n",
    "\n",
    "*  all entries in $W$ ($d \\times n$)  \n",
    "*  all relevant combination of feature generation functions and their respective parameters \n",
    "                                             \n",
    "\n",
    "### Examples of feature vector generation functions\n",
    "\n",
    "As an example of an algorithm which we should compare is the multivariate adaptive regression splines (MARS)\n",
    "\n",
    "**Hinge Function**\n",
    "\n",
    "The hinge function ($f_\\text{hinge}$) is similiar to ReLu), can be defined as a feature generation function, (_probably not the right way to write this out_)\n",
    "\n",
    "$$ f_{\\text{hinge}^+} (X_{j}, \\theta) = (X_j-\\theta \\mathbf{1})_{+}$$\n",
    "\n",
    "Where $X_j$ represents the $j$th column, without loss of generality we can likewise define $f_{\\text{hinge}^-} (X_{j}, \\theta) = (\\theta \\mathbf{1} - X_j)_{+}$\n",
    "\n",
    "**Interaction**\n",
    "\n",
    "Interaction term will be defined the dot product of two feature vectors (which can be the same feature vector), (_probably not the right way to write this out_)\n",
    "\n",
    "$$ f_\\text{interaction} (X_1, X_2) = X_1  \\cdot X_2 $$\n",
    "\n",
    "Replicating MARS in RJMCMC\n",
    "--------------------------\n",
    "\n",
    "[MARS](https://en.wikipedia.org/wiki/Multivariate_adaptive_regression_splines) is a prime candidate for exploring this problem. \n",
    "\n",
    "In the RJMCMC space we have the following decisions:\n",
    "\n",
    "1. GROW - we can grow the state by Proposing a new feature vector generation transformation and respective parameter, e.g. hinge, interaction, or more complex function transforms which could be a composition of function generation...\n",
    "2. DESTROY - we can also delete a created feature\n",
    "\n",
    "This would be represent moving from one state to another.                                  "
   ]
  },
  {
   "cell_type": "code",
   "execution_count": 1,
   "metadata": {
    "collapsed": true
   },
   "outputs": [],
   "source": [
    "import numpy as np\n",
    "import pandas as pd\n",
    "\n",
    "from hinge import Hinge, error_on_split\n",
    "from interaction import Interaction\n",
    "\n",
    "from sklearn import datasets\n",
    "from sklearn import preprocessing\n",
    "from sklearn.pipeline import Pipeline\n",
    "from sklearn import preprocessing\n",
    "\n",
    "# using svm as per scikit-feature repo\n",
    "from sklearn.decomposition import FactorAnalysis # we shall use factor analysis to fix the size of final modelling ds.\n",
    "from sklearn.svm import LinearSVC\n",
    "from sklearn.model_selection import KFold\n",
    "from sklearn.model_selection import cross_val_score\n",
    "\n",
    "# for sampling\n",
    "import random # use random.choice? and random.sample for interactions\n",
    "\n",
    "# use networkx to keep track of changes to our data, so we can recreate things...\n",
    "import networkx as nx\n",
    "import matplotlib.pyplot as plt\n",
    "%matplotlib inline"
   ]
  },
  {
   "cell_type": "code",
   "execution_count": 2,
   "metadata": {
    "collapsed": true
   },
   "outputs": [],
   "source": [
    "from sklearn.datasets import make_classification\n",
    "\n",
    "problem_setup = {\n",
    "    'n_samples': 300, \n",
    "    'n_features': 50, \n",
    "    'n_informative': 10, \n",
    "    'n_redundant': 10, \n",
    "    'n_classes': 3, \n",
    "    'random_state': 0    \n",
    "}\n",
    "\n",
    "X, y = make_classification(**problem_setup)\n",
    "X = X.astype(float)\n",
    "n_samples, n_features = X.shape    # number of samples and number of features\n",
    "\n"
   ]
  },
  {
   "cell_type": "code",
   "execution_count": 3,
   "metadata": {},
   "outputs": [
    {
     "data": {
      "text/html": [
       "<div>\n",
       "<table border=\"1\" class=\"dataframe\">\n",
       "  <thead>\n",
       "    <tr style=\"text-align: right;\">\n",
       "      <th></th>\n",
       "      <th>base_0</th>\n",
       "      <th>base_1</th>\n",
       "      <th>base_2</th>\n",
       "      <th>base_3</th>\n",
       "      <th>base_4</th>\n",
       "      <th>base_5</th>\n",
       "      <th>base_6</th>\n",
       "      <th>base_7</th>\n",
       "      <th>base_8</th>\n",
       "      <th>base_9</th>\n",
       "      <th>...</th>\n",
       "      <th>base_40</th>\n",
       "      <th>base_41</th>\n",
       "      <th>base_42</th>\n",
       "      <th>base_43</th>\n",
       "      <th>base_44</th>\n",
       "      <th>base_45</th>\n",
       "      <th>base_46</th>\n",
       "      <th>base_47</th>\n",
       "      <th>base_48</th>\n",
       "      <th>base_49</th>\n",
       "    </tr>\n",
       "  </thead>\n",
       "  <tbody>\n",
       "    <tr>\n",
       "      <th>0</th>\n",
       "      <td>0.140673</td>\n",
       "      <td>-1.056507</td>\n",
       "      <td>0.211336</td>\n",
       "      <td>-0.051245</td>\n",
       "      <td>-1.707436</td>\n",
       "      <td>0.812612</td>\n",
       "      <td>0.529927</td>\n",
       "      <td>0.337739</td>\n",
       "      <td>-0.010239</td>\n",
       "      <td>5.082635</td>\n",
       "      <td>...</td>\n",
       "      <td>-2.159166</td>\n",
       "      <td>-0.505031</td>\n",
       "      <td>-0.290300</td>\n",
       "      <td>-1.423013</td>\n",
       "      <td>-3.531133</td>\n",
       "      <td>-0.074873</td>\n",
       "      <td>-2.908971</td>\n",
       "      <td>-0.533449</td>\n",
       "      <td>0.512048</td>\n",
       "      <td>-1.315979</td>\n",
       "    </tr>\n",
       "    <tr>\n",
       "      <th>1</th>\n",
       "      <td>1.734870</td>\n",
       "      <td>1.749369</td>\n",
       "      <td>0.393464</td>\n",
       "      <td>0.148533</td>\n",
       "      <td>-1.712113</td>\n",
       "      <td>-0.199287</td>\n",
       "      <td>-0.667767</td>\n",
       "      <td>-0.943495</td>\n",
       "      <td>0.681635</td>\n",
       "      <td>10.447742</td>\n",
       "      <td>...</td>\n",
       "      <td>-0.558268</td>\n",
       "      <td>-7.479695</td>\n",
       "      <td>-1.706696</td>\n",
       "      <td>-1.395395</td>\n",
       "      <td>0.973802</td>\n",
       "      <td>-1.041347</td>\n",
       "      <td>-6.201191</td>\n",
       "      <td>-1.176442</td>\n",
       "      <td>0.944423</td>\n",
       "      <td>0.898251</td>\n",
       "    </tr>\n",
       "    <tr>\n",
       "      <th>2</th>\n",
       "      <td>-5.493219</td>\n",
       "      <td>-2.420378</td>\n",
       "      <td>1.699525</td>\n",
       "      <td>0.362889</td>\n",
       "      <td>2.864180</td>\n",
       "      <td>-0.716517</td>\n",
       "      <td>0.473016</td>\n",
       "      <td>-2.715607</td>\n",
       "      <td>-1.177175</td>\n",
       "      <td>1.574229</td>\n",
       "      <td>...</td>\n",
       "      <td>-1.303525</td>\n",
       "      <td>1.311686</td>\n",
       "      <td>-0.583548</td>\n",
       "      <td>-0.007803</td>\n",
       "      <td>-0.151316</td>\n",
       "      <td>-0.385398</td>\n",
       "      <td>-3.257219</td>\n",
       "      <td>1.409357</td>\n",
       "      <td>-2.276589</td>\n",
       "      <td>-0.894274</td>\n",
       "    </tr>\n",
       "    <tr>\n",
       "      <th>3</th>\n",
       "      <td>2.791666</td>\n",
       "      <td>-0.639234</td>\n",
       "      <td>-0.763891</td>\n",
       "      <td>1.370567</td>\n",
       "      <td>-5.788661</td>\n",
       "      <td>-0.260745</td>\n",
       "      <td>1.800210</td>\n",
       "      <td>-1.234377</td>\n",
       "      <td>-1.453207</td>\n",
       "      <td>-1.568038</td>\n",
       "      <td>...</td>\n",
       "      <td>2.405260</td>\n",
       "      <td>-1.256116</td>\n",
       "      <td>-0.726343</td>\n",
       "      <td>-0.655469</td>\n",
       "      <td>4.565850</td>\n",
       "      <td>-0.863371</td>\n",
       "      <td>0.646507</td>\n",
       "      <td>1.113179</td>\n",
       "      <td>3.217174</td>\n",
       "      <td>-1.646719</td>\n",
       "    </tr>\n",
       "    <tr>\n",
       "      <th>4</th>\n",
       "      <td>3.785220</td>\n",
       "      <td>-0.750653</td>\n",
       "      <td>1.519439</td>\n",
       "      <td>-0.643260</td>\n",
       "      <td>-11.617471</td>\n",
       "      <td>0.649915</td>\n",
       "      <td>-2.345340</td>\n",
       "      <td>2.838290</td>\n",
       "      <td>-0.866542</td>\n",
       "      <td>-0.351528</td>\n",
       "      <td>...</td>\n",
       "      <td>1.227032</td>\n",
       "      <td>-0.983323</td>\n",
       "      <td>-1.639763</td>\n",
       "      <td>0.144169</td>\n",
       "      <td>0.267208</td>\n",
       "      <td>1.068478</td>\n",
       "      <td>-4.026710</td>\n",
       "      <td>-2.084032</td>\n",
       "      <td>4.185424</td>\n",
       "      <td>-0.085756</td>\n",
       "    </tr>\n",
       "  </tbody>\n",
       "</table>\n",
       "<p>5 rows × 50 columns</p>\n",
       "</div>"
      ],
      "text/plain": [
       "     base_0    base_1    base_2    base_3     base_4    base_5    base_6  \\\n",
       "0  0.140673 -1.056507  0.211336 -0.051245  -1.707436  0.812612  0.529927   \n",
       "1  1.734870  1.749369  0.393464  0.148533  -1.712113 -0.199287 -0.667767   \n",
       "2 -5.493219 -2.420378  1.699525  0.362889   2.864180 -0.716517  0.473016   \n",
       "3  2.791666 -0.639234 -0.763891  1.370567  -5.788661 -0.260745  1.800210   \n",
       "4  3.785220 -0.750653  1.519439 -0.643260 -11.617471  0.649915 -2.345340   \n",
       "\n",
       "     base_7    base_8     base_9    ...      base_40   base_41   base_42  \\\n",
       "0  0.337739 -0.010239   5.082635    ...    -2.159166 -0.505031 -0.290300   \n",
       "1 -0.943495  0.681635  10.447742    ...    -0.558268 -7.479695 -1.706696   \n",
       "2 -2.715607 -1.177175   1.574229    ...    -1.303525  1.311686 -0.583548   \n",
       "3 -1.234377 -1.453207  -1.568038    ...     2.405260 -1.256116 -0.726343   \n",
       "4  2.838290 -0.866542  -0.351528    ...     1.227032 -0.983323 -1.639763   \n",
       "\n",
       "    base_43   base_44   base_45   base_46   base_47   base_48   base_49  \n",
       "0 -1.423013 -3.531133 -0.074873 -2.908971 -0.533449  0.512048 -1.315979  \n",
       "1 -1.395395  0.973802 -1.041347 -6.201191 -1.176442  0.944423  0.898251  \n",
       "2 -0.007803 -0.151316 -0.385398 -3.257219  1.409357 -2.276589 -0.894274  \n",
       "3 -0.655469  4.565850 -0.863371  0.646507  1.113179  3.217174 -1.646719  \n",
       "4  0.144169  0.267208  1.068478 -4.026710 -2.084032  4.185424 -0.085756  \n",
       "\n",
       "[5 rows x 50 columns]"
      ]
     },
     "execution_count": 3,
     "metadata": {},
     "output_type": "execute_result"
    }
   ],
   "source": [
    "import pandas as pd # for making sure and exploring created datasets...\n",
    "X_df = pd.DataFrame(X)\n",
    "base_names = [\"base_{}\".format(x) for x in range(n_features)]\n",
    "X_df.columns = base_names[:]\n",
    "X_df.head()"
   ]
  },
  {
   "cell_type": "code",
   "execution_count": 4,
   "metadata": {
    "collapsed": true
   },
   "outputs": [],
   "source": [
    "def eval_pipeline(additional_feats=[], X=X_df, y=y, verbose=True):\n",
    "    pipeline = additional_feats[:]\n",
    "    pipeline.append(('factor analysis', FactorAnalysis(20)))\n",
    "    pipeline.append(('linear svm', LinearSVC()))\n",
    "    model = Pipeline(pipeline[:])\n",
    "\n",
    "    # split data into 10 folds\n",
    "    kfold = KFold(n_splits=3, shuffle=True)\n",
    "    results = cross_val_score(model, X, y, cv=kfold)\n",
    "    if verbose:\n",
    "        print(\"Accuracy: {}\".format(results.mean()))\n",
    "    return results.mean()"
   ]
  },
  {
   "cell_type": "code",
   "execution_count": 5,
   "metadata": {},
   "outputs": [
    {
     "name": "stdout",
     "output_type": "stream",
     "text": [
      "Accuracy: 0.7366666666666667\n"
     ]
    },
    {
     "data": {
      "text/plain": [
       "0.73666666666666669"
      ]
     },
     "execution_count": 5,
     "metadata": {},
     "output_type": "execute_result"
    }
   ],
   "source": [
    "# baseline solution - vanilla pipeline\n",
    "eval_pipeline(X=X_df)"
   ]
  },
  {
   "cell_type": "markdown",
   "metadata": {},
   "source": [
    "Feature Search\n",
    "=======\n",
    "\n",
    "We have 4 possible situations:\n",
    "\n",
    "1. Grow - split : assumption is we always grow 2\n",
    "2. Grow - interaction\n",
    "3. Remove - split : assumption is we always destroy both\n",
    "4. Remove - interaction\n",
    "\n",
    "Proposal Distributions\n",
    "------------------------\n",
    "\n",
    "Assume each action has equal probability and is uniform\n",
    "\n",
    "### Splits\n",
    "\n",
    "**Grow (Split) | Base (Remove) **\n",
    "\n",
    "We will use the same probability of split as given in Bayesian cart: $p_{\\text{split}}(X_i) = \\alpha(1+\\text{total_splits})^{-\\beta}$\n",
    "where $\\text{total_splits}$ represents the total number of times a node has been created for column $X_i$. Then\n",
    "\n",
    "$$P(\\text{ Grow (Split) } | \\text{ Base (Remove }) = \\frac{1}{4} \\alpha(1+\\text{total_splits})^{-\\beta} $$ \n",
    "\n",
    "----\n",
    "\n",
    "For now we will make it simple, and say if it is chosen it will always split.\n",
    "\n",
    "This would be...\n",
    "\n",
    "$$P(\\text{ Grow (Split) } | \\text{ Base (Remove }) = \\frac{1}{4} \\frac{1}{\\text{candidate children nodes}} $$ "
   ]
  },
  {
   "cell_type": "markdown",
   "metadata": {},
   "source": [
    "**Base (Remove) | Grow (Split)**\n",
    "\n",
    "This should be the same as drawing based on number of additional features created (call this $n$). \n",
    "\n",
    "$$P(\\text{ Base (Remove) } | \\text{ Grow (Split) }) = (\\frac{1}{4}  \\frac{2}{n}) \\times (\\frac{1}{4}  \\frac{1}{n-1}) = \\frac{1}{8}  \\frac{1}{n(n-1)}$$\n",
    "\n",
    "----\n",
    "\n",
    "\n",
    "For now we will make it simple, and say if it is chosen it will always split.\n",
    "\n",
    "This would be...\n",
    "\n",
    "$$P(\\text{ Grow (Split) } | \\text{ Base (Remove }) = \\frac{1}{4} \\frac{1}{\\text{candidate parent nodes}} $$ \n",
    "\n",
    "Note that the parent nodes chosen here can only be one level up from the terminal node...."
   ]
  },
  {
   "cell_type": "markdown",
   "metadata": {},
   "source": [
    "### Interaction\n",
    "\n",
    "**Grow (Interaction) | Base (Interaction)**\n",
    "\n",
    "This again is your binomial draws, this one is based on total number of features, which we will denote by $d + n$, i.e. original size of your dataset and the total number of generated features. \n",
    "\n",
    "$$P(\\text{ Grow (Interaction) } | \\text{ Base (Interaction) }) = \\frac{1}{4} \\frac{2}{(d+n)(d+n-1)} = \\frac{1}{2} \\frac{1}{(d+n)(d+n-1)}$$\n",
    "\n",
    "Note that anything can have interaction! So we can't presume as above."
   ]
  },
  {
   "cell_type": "markdown",
   "metadata": {},
   "source": [
    "**Base (Interaction) | Grow (Interaction)**\n",
    "\n",
    "This is just choosing one particular feature that is created.\n",
    "\n",
    "$$P(\\text{ Base (Interaction) } | \\text{ Grow (Interaction) }) = \\frac{1}{4} \\frac{1}{\\text{candidate interaction parents}}$$\n"
   ]
  },
  {
   "cell_type": "code",
   "execution_count": 6,
   "metadata": {
    "collapsed": true
   },
   "outputs": [],
   "source": [
    "# our proposal distributions\n",
    "\n",
    "def split_given_remove(num_splits):\n",
    "    # make this simplier for now...\n",
    "    #return 0.25 * alpha * ((1.0+num_splits)^(-beta))\n",
    "    return 0.25 * \n",
    "    \n",
    "\n",
    "def remove_given_split(num_created):\n",
    "    # num created is the number of base spllits, we can possibly \n",
    "    # remove!\n",
    "    return 0.125 * (1.0/(num_created*(num_created-1)))\n",
    "\n",
    "def interact_given_remove(base_dim, num_created):\n",
    "    from scipy.misc import comb\n",
    "    total_dim = base_dim + num_created\n",
    "    return 0.5 * (1.0/(total_dim * (total_dim - 1)))\n",
    "\n",
    "def remove_given_interact(num_created):\n",
    "    return 1/(4.0*num_created) "
   ]
  },
  {
   "cell_type": "code",
   "execution_count": 7,
   "metadata": {},
   "outputs": [],
   "source": [
    "\"\"\"\n",
    "each model proposal can be represented by a dictionary\n",
    "so the markov chain will be a list of dictionaries\n",
    "\n",
    "Sample usage:\n",
    "\n",
    "ds_pipeline = [\n",
    "    ('hinge', Hinge()), \n",
    "    ('interaction', Interaction([1,2]))\n",
    "    ]\n",
    "\n",
    "eval_pipeline(ds_pipeline)\n",
    "\"\"\"\n",
    "\n",
    "def get_name(name):    \n",
    "    clean_name = name.split(\"_\")\n",
    "    return clean_name\n",
    "\n",
    "\n",
    "def spawn_split(X=X_df):\n",
    "    \"\"\"Assuming split is chosen, generate a new split\"\"\"\n",
    "    # choose a random column\n",
    "    # grab things like this...X_df.iloc[:, 3].name\n",
    "    chosen_col = random.choice(range(X.shape[1]))\n",
    "    return chosen_col\n",
    "\n",
    "def spawn_interact(X=X_df):\n",
    "    \"\"\"assuming interaction was chosen, generate a new interaction between two columns\"\"\"\n",
    "    chosen_columns = random.sample(range(X.shape[1]), 2)\n",
    "    return chosen_columns"
   ]
  },
  {
   "cell_type": "code",
   "execution_count": 8,
   "metadata": {
    "collapsed": true
   },
   "outputs": [],
   "source": [
    "def graph_to_dict(G):\n",
    "    return dict(nodes=[[n, G.node[n]] for n in G.nodes()],\n",
    "                   edges=[[u, v, G.edge[u][v]] for u,v in G.edges()])\n",
    "\n",
    "def dict_to_graph(dict_obj):\n",
    "    G = nx.DiGraph()\n",
    "    G.add_nodes_from(dict_obj['nodes'])\n",
    "    G.add_edges_from(dict_obj['edges'])\n",
    "    return G\n",
    "\n",
    "def print_graph_from_dict(dict_obj):\n",
    "    G = dict_to_graph(dict_obj)\n",
    "    nx.draw_random(G)\n",
    "    "
   ]
  },
  {
   "cell_type": "code",
   "execution_count": 19,
   "metadata": {
    "collapsed": true
   },
   "outputs": [],
   "source": [
    "# generate the base graph, where we have a the root node and all the base features...\n",
    "G=nx.DiGraph()\n",
    "G.add_node(\"root\")\n",
    "\n",
    "for col in base_names:\n",
    "    # we can add node attributes, eg\n",
    "    #G.add_node(col, attribute='here')\n",
    "    G.add_node(col)\n",
    "    G.add_edge(\"root\", col)\n",
    "\n",
    "simulations = []\n",
    "simulations.append(graph_to_dict(G))"
   ]
  },
  {
   "cell_type": "code",
   "execution_count": 20,
   "metadata": {},
   "outputs": [
    {
     "name": "stderr",
     "output_type": "stream",
     "text": [
      "c:\\users\\chapm\\anaconda3\\lib\\site-packages\\networkx\\drawing\\nx_pylab.py:126: MatplotlibDeprecationWarning: pyplot.hold is deprecated.\n",
      "    Future behavior will be consistent with the long-time default:\n",
      "    plot commands add elements without first clearing the\n",
      "    Axes and/or Figure.\n",
      "  b = plt.ishold()\n",
      "c:\\users\\chapm\\anaconda3\\lib\\site-packages\\networkx\\drawing\\nx_pylab.py:138: MatplotlibDeprecationWarning: pyplot.hold is deprecated.\n",
      "    Future behavior will be consistent with the long-time default:\n",
      "    plot commands add elements without first clearing the\n",
      "    Axes and/or Figure.\n",
      "  plt.hold(b)\n",
      "c:\\users\\chapm\\anaconda3\\lib\\site-packages\\matplotlib\\__init__.py:917: UserWarning: axes.hold is deprecated. Please remove it from your matplotlibrc and/or style files.\n",
      "  warnings.warn(self.msg_depr_set % key)\n",
      "c:\\users\\chapm\\anaconda3\\lib\\site-packages\\matplotlib\\rcsetup.py:152: UserWarning: axes.hold is deprecated, will be removed in 3.0\n",
      "  warnings.warn(\"axes.hold is deprecated, will be removed in 3.0\")\n"
     ]
    },
    {
     "data": {
      "image/png": "[encoded data removed]",
      "text/plain": [
       "<matplotlib.figure.Figure at 0x259f8867f98>"
      ]
     },
     "metadata": {},
     "output_type": "display_data"
    }
   ],
   "source": [
    "print_graph_from_dict(simulations[0])"
   ]
  },
  {
   "cell_type": "code",
   "execution_count": null,
   "metadata": {
    "collapsed": true
   },
   "outputs": [],
   "source": [
    "def get_all_hinge_candidates():\n",
    "    pass\n",
    "\n",
    "def get_all_interaction_candidates():\n",
    "    pass\n",
    "\n"
   ]
  },
  {
   "cell_type": "code",
   "execution_count": 12,
   "metadata": {},
   "outputs": [
    {
     "ename": "SyntaxError",
     "evalue": "invalid syntax (<ipython-input-12-2f30243bdc02>, line 23)",
     "output_type": "error",
     "traceback": [
      "\u001b[1;36m  File \u001b[1;32m\"<ipython-input-12-2f30243bdc02>\"\u001b[1;36m, line \u001b[1;32m23\u001b[0m\n\u001b[1;33m    proposed_pipeline =\u001b[0m\n\u001b[1;37m                        ^\u001b[0m\n\u001b[1;31mSyntaxError\u001b[0m\u001b[1;31m:\u001b[0m invalid syntax\n"
     ]
    }
   ],
   "source": [
    "# from \n",
    "def dict_to_pipeline(dict_obj):\n",
    "    \"\"\"\n",
    "    converts a dictionary to a pipeline object.\n",
    "    \n",
    "    \n",
    "    parameters:\n",
    "    d is a dictionary    \n",
    "    \n",
    "    return:\n",
    "    pipeline object, which is a list of tuples\n",
    "    \n",
    "    we can add attributes to nodes - how will this be reflected?\n",
    "    \"\"\"\n",
    "    pipeline = []\n",
    "    G = dict_to_graph(dict_obj)\n",
    "    \n",
    "    for parent, child in G.edges():\n",
    "        if parent == 'root': \n",
    "            continue\n",
    "        \n",
    "        # now process everything else...\n",
    "        if \"hinge\" in child:\n",
    "            # do something assume, we have neg, pos \n",
    "            proposed_pipeline = []\n",
    "        \n",
    "        if \"interact\" in child:\n",
    "            # find the two parents...\n",
    "            pass\n",
    "            \n",
    "        \n",
    "    \n",
    "    return []\n",
    "    \n",
    "\n",
    "\n"
   ]
  },
  {
   "cell_type": "code",
   "execution_count": null,
   "metadata": {
    "collapsed": true
   },
   "outputs": [],
   "source": []
  }
 ],
 "metadata": {
  "kernelspec": {
   "display_name": "Python [default]",
   "language": "python",
   "name": "python3"
  },
  "language_info": {
   "codemirror_mode": {
    "name": "ipython",
    "version": 3
   },
   "file_extension": ".py",
   "mimetype": "text/x-python",
   "name": "python",
   "nbconvert_exporter": "python",
   "pygments_lexer": "ipython3",
   "version": "3.5.2"
  }
 },
 "nbformat": 4,
 "nbformat_minor": 2
}
