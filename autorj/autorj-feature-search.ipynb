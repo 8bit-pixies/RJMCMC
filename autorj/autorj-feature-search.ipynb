{
 "cells": [
  {
   "cell_type": "markdown",
   "metadata": {},
   "source": [
    "What is in scope:\n",
    "\n",
    "Following something similar to bayesian cart to search over features. \n",
    "\n",
    "We will use linear svm accuracy over randomly generated data to determine whether our representation is an improvement or not"
   ]
  },
  {
   "cell_type": "markdown",
   "metadata": {},
   "source": [
    "The goal of this topic is to determine the ideal projection when the dimensions of the input may vary (in columns). The dimensions of the columns are determined by feature generation/embeddings. \n",
    "\n",
    "Let:\n",
    "\n",
    "*  $W$ be the projection matrix\n",
    "*  $X$ to be the matrix representing input data which may vary in dimension from iteration to iteration\n",
    "*  $Y$ be the result of the projection, i.e. $WX = Y$\n",
    "\n",
    "WLOG fix the size of $Y$, (let's call this $d$). Then we have $W \\in \\mathbb{R}^{d \\times n}$.\n",
    "\n",
    "In this setting within the RJMCMC framework, the number of parameters we are estimating is:\n",
    "\n",
    "*  all entries in $W$ ($d \\times n$)  \n",
    "*  all relevant combination of feature generation functions and their respective parameters \n",
    "                                             \n",
    "\n",
    "### Examples of feature vector generation functions\n",
    "\n",
    "As an example of an algorithm which we should compare is the multivariate adaptive regression splines (MARS)\n",
    "\n",
    "**Hinge Function**\n",
    "\n",
    "The hinge function ($f_\\text{hinge}$) is similiar to ReLu), can be defined as a feature generation function, (_probably not the right way to write this out_)\n",
    "\n",
    "$$ f_{\\text{hinge}^+} (X_{j}, \\theta) = (X_j-\\theta \\mathbf{1})_{+}$$\n",
    "\n",
    "Where $X_j$ represents the $j$th column, without loss of generality we can likewise define $f_{\\text{hinge}^-} (X_{j}, \\theta) = (\\theta \\mathbf{1} - X_j)_{+}$\n",
    "\n",
    "**Interaction**\n",
    "\n",
    "Interaction term will be defined the dot product of two feature vectors (which can be the same feature vector), (_probably not the right way to write this out_)\n",
    "\n",
    "$$ f_\\text{interaction} (X_1, X_2) = X_1  \\cdot X_2 $$\n",
    "\n",
    "Replicating MARS in RJMCMC\n",
    "--------------------------\n",
    "\n",
    "[MARS](https://en.wikipedia.org/wiki/Multivariate_adaptive_regression_splines) is a prime candidate for exploring this problem. \n",
    "\n",
    "In the RJMCMC space we have the following decisions:\n",
    "\n",
    "1. GROW - we can grow the state by Proposing a new feature vector generation transformation and respective parameter, e.g. hinge, interaction, or more complex function transforms which could be a composition of function generation...\n",
    "2. DESTROY - we can also delete a created feature\n",
    "\n",
    "This would be represent moving from one state to another.                                  "
   ]
  },
  {
   "cell_type": "code",
   "execution_count": 1,
   "metadata": {
    "collapsed": true
   },
   "outputs": [],
   "source": [
    "import numpy as np\n",
    "import pandas as pd\n",
    "\n",
    "from hinge import Hinge, error_on_split\n",
    "from interaction import Interaction\n",
    "\n",
    "from sklearn import datasets\n",
    "from sklearn import preprocessing\n",
    "from sklearn.pipeline import Pipeline\n",
    "from sklearn import preprocessing\n",
    "\n",
    "# using svm as per scikit-feature repo\n",
    "from sklearn.decomposition import FactorAnalysis # we shall use factor analysis to fix the size of final modelling ds.\n",
    "from sklearn.svm import LinearSVC\n",
    "from sklearn.model_selection import KFold\n",
    "from sklearn.model_selection import cross_val_score\n",
    "\n",
    "# for sampling\n",
    "import random # use random.choice? and random.sample for interactions\n",
    "\n",
    "# use networkx to keep track of changes to our data, so we can recreate things...\n",
    "import networkx as nx\n",
    "import matplotlib.pyplot as plt\n",
    "%matplotlib inline"
   ]
  },
  {
   "cell_type": "code",
   "execution_count": 2,
   "metadata": {
    "collapsed": true
   },
   "outputs": [],
   "source": [
    "from sklearn.datasets import make_classification\n",
    "\n",
    "problem_setup = {\n",
    "    'n_samples': 1000, \n",
    "    'n_features': 20, \n",
    "    'n_informative': 8, \n",
    "    'n_redundant': 8, \n",
    "    'n_classes': 3, \n",
    "    'random_state': 0    \n",
    "}\n",
    "\n",
    "X, y = make_classification(**problem_setup)\n",
    "X = X.astype(float)\n",
    "n_samples, n_features = X.shape    # number of samples and number of features\n",
    "\n"
   ]
  },
  {
   "cell_type": "code",
   "execution_count": 3,
   "metadata": {},
   "outputs": [
    {
     "data": {
      "text/html": [
       "<div>\n",
       "<table border=\"1\" class=\"dataframe\">\n",
       "  <thead>\n",
       "    <tr style=\"text-align: right;\">\n",
       "      <th></th>\n",
       "      <th>base_0</th>\n",
       "      <th>base_1</th>\n",
       "      <th>base_2</th>\n",
       "      <th>base_3</th>\n",
       "      <th>base_4</th>\n",
       "      <th>base_5</th>\n",
       "      <th>base_6</th>\n",
       "      <th>base_7</th>\n",
       "      <th>base_8</th>\n",
       "      <th>base_9</th>\n",
       "      <th>base_10</th>\n",
       "      <th>base_11</th>\n",
       "      <th>base_12</th>\n",
       "      <th>base_13</th>\n",
       "      <th>base_14</th>\n",
       "      <th>base_15</th>\n",
       "      <th>base_16</th>\n",
       "      <th>base_17</th>\n",
       "      <th>base_18</th>\n",
       "      <th>base_19</th>\n",
       "    </tr>\n",
       "  </thead>\n",
       "  <tbody>\n",
       "    <tr>\n",
       "      <th>0</th>\n",
       "      <td>-1.561416</td>\n",
       "      <td>-0.302123</td>\n",
       "      <td>-1.626526</td>\n",
       "      <td>-0.808229</td>\n",
       "      <td>0.415516</td>\n",
       "      <td>1.606080</td>\n",
       "      <td>1.471883</td>\n",
       "      <td>-1.677559</td>\n",
       "      <td>5.249528</td>\n",
       "      <td>1.048403</td>\n",
       "      <td>-2.459287</td>\n",
       "      <td>-2.809152</td>\n",
       "      <td>-1.315362</td>\n",
       "      <td>-2.930697</td>\n",
       "      <td>0.120546</td>\n",
       "      <td>-0.759469</td>\n",
       "      <td>-2.690498</td>\n",
       "      <td>1.952268</td>\n",
       "      <td>6.930261</td>\n",
       "      <td>0.428036</td>\n",
       "    </tr>\n",
       "    <tr>\n",
       "      <th>1</th>\n",
       "      <td>-0.745867</td>\n",
       "      <td>-1.085664</td>\n",
       "      <td>-1.424702</td>\n",
       "      <td>1.785155</td>\n",
       "      <td>0.155847</td>\n",
       "      <td>-2.346231</td>\n",
       "      <td>-0.789581</td>\n",
       "      <td>2.918363</td>\n",
       "      <td>0.139034</td>\n",
       "      <td>-1.310294</td>\n",
       "      <td>0.028390</td>\n",
       "      <td>3.175972</td>\n",
       "      <td>-1.645095</td>\n",
       "      <td>1.452931</td>\n",
       "      <td>1.912759</td>\n",
       "      <td>-2.638561</td>\n",
       "      <td>-0.175355</td>\n",
       "      <td>1.094468</td>\n",
       "      <td>-3.710453</td>\n",
       "      <td>-1.011041</td>\n",
       "    </tr>\n",
       "    <tr>\n",
       "      <th>2</th>\n",
       "      <td>2.209442</td>\n",
       "      <td>-0.210728</td>\n",
       "      <td>0.237275</td>\n",
       "      <td>0.908409</td>\n",
       "      <td>0.039540</td>\n",
       "      <td>1.349943</td>\n",
       "      <td>2.685406</td>\n",
       "      <td>-3.007716</td>\n",
       "      <td>-3.675619</td>\n",
       "      <td>1.099558</td>\n",
       "      <td>-1.161589</td>\n",
       "      <td>-2.289721</td>\n",
       "      <td>2.003953</td>\n",
       "      <td>0.206058</td>\n",
       "      <td>-3.070732</td>\n",
       "      <td>1.392493</td>\n",
       "      <td>0.658975</td>\n",
       "      <td>-2.729099</td>\n",
       "      <td>1.860675</td>\n",
       "      <td>-1.611407</td>\n",
       "    </tr>\n",
       "    <tr>\n",
       "      <th>3</th>\n",
       "      <td>-0.390274</td>\n",
       "      <td>-1.501618</td>\n",
       "      <td>0.562233</td>\n",
       "      <td>-0.601030</td>\n",
       "      <td>-5.216131</td>\n",
       "      <td>-0.682441</td>\n",
       "      <td>-4.833625</td>\n",
       "      <td>10.759309</td>\n",
       "      <td>-2.810490</td>\n",
       "      <td>0.824669</td>\n",
       "      <td>4.931424</td>\n",
       "      <td>6.417655</td>\n",
       "      <td>-0.189940</td>\n",
       "      <td>1.523022</td>\n",
       "      <td>2.051892</td>\n",
       "      <td>-7.072514</td>\n",
       "      <td>2.589547</td>\n",
       "      <td>-2.276084</td>\n",
       "      <td>-10.504724</td>\n",
       "      <td>-0.750008</td>\n",
       "    </tr>\n",
       "    <tr>\n",
       "      <th>4</th>\n",
       "      <td>-1.523687</td>\n",
       "      <td>-2.822780</td>\n",
       "      <td>-0.941431</td>\n",
       "      <td>-3.189133</td>\n",
       "      <td>0.479385</td>\n",
       "      <td>1.655941</td>\n",
       "      <td>-0.655178</td>\n",
       "      <td>5.341404</td>\n",
       "      <td>4.316366</td>\n",
       "      <td>1.353170</td>\n",
       "      <td>0.343184</td>\n",
       "      <td>2.012068</td>\n",
       "      <td>0.962280</td>\n",
       "      <td>-1.108046</td>\n",
       "      <td>4.737343</td>\n",
       "      <td>-2.803268</td>\n",
       "      <td>1.014875</td>\n",
       "      <td>3.380321</td>\n",
       "      <td>1.554379</td>\n",
       "      <td>1.937787</td>\n",
       "    </tr>\n",
       "  </tbody>\n",
       "</table>\n",
       "</div>"
      ],
      "text/plain": [
       "     base_0    base_1    base_2    base_3    base_4    base_5    base_6  \\\n",
       "0 -1.561416 -0.302123 -1.626526 -0.808229  0.415516  1.606080  1.471883   \n",
       "1 -0.745867 -1.085664 -1.424702  1.785155  0.155847 -2.346231 -0.789581   \n",
       "2  2.209442 -0.210728  0.237275  0.908409  0.039540  1.349943  2.685406   \n",
       "3 -0.390274 -1.501618  0.562233 -0.601030 -5.216131 -0.682441 -4.833625   \n",
       "4 -1.523687 -2.822780 -0.941431 -3.189133  0.479385  1.655941 -0.655178   \n",
       "\n",
       "      base_7    base_8    base_9   base_10   base_11   base_12   base_13  \\\n",
       "0  -1.677559  5.249528  1.048403 -2.459287 -2.809152 -1.315362 -2.930697   \n",
       "1   2.918363  0.139034 -1.310294  0.028390  3.175972 -1.645095  1.452931   \n",
       "2  -3.007716 -3.675619  1.099558 -1.161589 -2.289721  2.003953  0.206058   \n",
       "3  10.759309 -2.810490  0.824669  4.931424  6.417655 -0.189940  1.523022   \n",
       "4   5.341404  4.316366  1.353170  0.343184  2.012068  0.962280 -1.108046   \n",
       "\n",
       "    base_14   base_15   base_16   base_17    base_18   base_19  \n",
       "0  0.120546 -0.759469 -2.690498  1.952268   6.930261  0.428036  \n",
       "1  1.912759 -2.638561 -0.175355  1.094468  -3.710453 -1.011041  \n",
       "2 -3.070732  1.392493  0.658975 -2.729099   1.860675 -1.611407  \n",
       "3  2.051892 -7.072514  2.589547 -2.276084 -10.504724 -0.750008  \n",
       "4  4.737343 -2.803268  1.014875  3.380321   1.554379  1.937787  "
      ]
     },
     "execution_count": 3,
     "metadata": {},
     "output_type": "execute_result"
    }
   ],
   "source": [
    "import pandas as pd # for making sure and exploring created datasets...\n",
    "X_df = pd.DataFrame(X)\n",
    "base_names = [\"base_{}\".format(x) for x in range(n_features)]\n",
    "X_df.columns = base_names[:]\n",
    "X_df.head()"
   ]
  },
  {
   "cell_type": "code",
   "execution_count": 4,
   "metadata": {
    "collapsed": true
   },
   "outputs": [],
   "source": [
    "def eval_pipeline(additional_feats=[], X=X_df, y=y, verbose=True):\n",
    "    pipeline = additional_feats[:]\n",
    "    pipeline.append(('factor analysis', FactorAnalysis(20)))\n",
    "    pipeline.append(('linear svm', LinearSVC()))\n",
    "    model = Pipeline(pipeline[:])\n",
    "\n",
    "    # split data into 10 folds\n",
    "    kfold = KFold(n_splits=10, shuffle=True)\n",
    "    results = cross_val_score(model, X, y, cv=kfold)\n",
    "    if verbose:\n",
    "        print(\"Accuracy: {}\".format(results.mean()))\n",
    "    return results.mean()"
   ]
  },
  {
   "cell_type": "code",
   "execution_count": 5,
   "metadata": {},
   "outputs": [
    {
     "name": "stdout",
     "output_type": "stream",
     "text": [
      "Accuracy: 0.6769999999999999\n"
     ]
    },
    {
     "data": {
      "text/plain": [
       "0.67699999999999994"
      ]
     },
     "execution_count": 5,
     "metadata": {},
     "output_type": "execute_result"
    }
   ],
   "source": [
    "# baseline solution - vanilla pipeline\n",
    "eval_pipeline(X=X_df)"
   ]
  },
  {
   "cell_type": "markdown",
   "metadata": {},
   "source": [
    "Feature Search\n",
    "=======\n",
    "\n",
    "We have 4 possible situations:\n",
    "\n",
    "1. Grow - split : assumption is we always grow 2\n",
    "2. Grow - interaction\n",
    "3. Remove - split : assumption is we always destroy both\n",
    "4. Remove - interaction\n",
    "\n",
    "Proposal Distributions\n",
    "------------------------\n",
    "\n",
    "Assume each action has equal probability and is uniform\n",
    "\n",
    "### Splits\n",
    "\n",
    "**Grow (Split) | Base (Remove) **\n",
    "\n",
    "We will use the same probability of split as given in Bayesian cart: $p_{\\text{split}}(X_i) = \\alpha(1+\\text{total_splits})^{-\\beta}$\n",
    "where $\\text{total_splits}$ represents the total number of times a node has been created for column $X_i$. Then\n",
    "\n",
    "$$P(\\text{ Grow (Split) } | \\text{ Base (Remove }) = \\frac{1}{4} \\alpha(1+\\text{total_splits})^{-\\beta} $$ \n",
    "\n",
    "----\n",
    "\n",
    "For now we will make it simple, and say if it is chosen it will always split.\n",
    "\n",
    "This would be...\n",
    "\n",
    "$$P(\\text{ Grow (Split) } | \\text{ Base (Remove }) = \\frac{1}{4} \\frac{1}{\\text{candidate children nodes}} $$ "
   ]
  },
  {
   "cell_type": "markdown",
   "metadata": {},
   "source": [
    "**Base (Remove) | Grow (Split)**\n",
    "\n",
    "This should be the same as drawing based on number of additional features created (call this $n$). \n",
    "\n",
    "$$P(\\text{ Base (Remove) } | \\text{ Grow (Split) }) = (\\frac{1}{4}  \\frac{2}{n}) \\times (\\frac{1}{4}  \\frac{1}{n-1}) = \\frac{1}{8}  \\frac{1}{n(n-1)}$$\n",
    "\n",
    "----\n",
    "\n",
    "\n",
    "For now we will make it simple, and say if it is chosen it will always split.\n",
    "\n",
    "This would be...\n",
    "\n",
    "$$P(\\text{ Grow (Split) } | \\text{ Base (Remove }) = \\frac{1}{4} \\frac{1}{\\text{candidate parent nodes}} $$ \n",
    "\n",
    "Note that the parent nodes chosen here can only be one level up from the terminal node...."
   ]
  },
  {
   "cell_type": "markdown",
   "metadata": {},
   "source": [
    "### Interaction\n",
    "\n",
    "**Grow (Interaction) | Base (Interaction)**\n",
    "\n",
    "This again is your binomial draws, this one is based on total number of features, which we will denote by $d + n$, i.e. original size of your dataset and the total number of generated features. \n",
    "\n",
    "$$P(\\text{ Grow (Interaction) } | \\text{ Base (Interaction) }) = \\frac{1}{4} \\frac{2}{(d+n)(d+n-1)} = \\frac{1}{2} \\frac{1}{(d+n)(d+n-1)}$$\n",
    "\n",
    "Note that anything can have interaction! So we can't presume as above - we should somehow also exclude previously created interactions!\n",
    "\n",
    "Can be more simply\n",
    "\n",
    "$$P(\\text{ Grow (Interaction) } | \\text{ Base (Interaction) }) = \\frac{1}{4} \\frac{1}{\\text{candidate interaction pairs}}$$"
   ]
  },
  {
   "cell_type": "markdown",
   "metadata": {},
   "source": [
    "**Base (Interaction) | Grow (Interaction)**\n",
    "\n",
    "This is just choosing one particular feature that is created.\n",
    "\n",
    "$$P(\\text{ Base (Interaction) } | \\text{ Grow (Interaction) }) = \\frac{1}{4} \\frac{1}{\\text{candidate interaction parents}}$$\n"
   ]
  },
  {
   "cell_type": "markdown",
   "metadata": {},
   "source": [
    "------\n",
    "\n",
    "In this setting there is no need for RJMCMC (yet) as the transformations are parameter free.\n",
    "\n",
    "What this means is we can do a straight MH"
   ]
  },
  {
   "cell_type": "code",
   "execution_count": 6,
   "metadata": {
    "collapsed": true
   },
   "outputs": [],
   "source": [
    "# our proposal distributions\n",
    "\n",
    "def split_given_remove(num_splits):\n",
    "    # make this simplier for now...\n",
    "    #return 0.25 * alpha * ((1.0+num_splits)^(-beta))\n",
    "    return 0.25 * num_splits\n",
    "    \n",
    "\n",
    "def remove_given_split(num_created):\n",
    "    # num created is the number of base spllits, we can possibly \n",
    "    # remove!\n",
    "    #return 0.125 * (1.0/(num_created*(num_created-1)))\n",
    "    return 0.25 * num_created\n",
    "\n",
    "def interact_given_remove(base_dim, num_created):\n",
    "    from scipy.misc import comb\n",
    "    total_dim = base_dim + num_created\n",
    "    return 0.5 * (1.0/(total_dim * (total_dim - 1)))\n",
    "\n",
    "def remove_given_interact(num_created):\n",
    "    return 0.25*num_created"
   ]
  },
  {
   "cell_type": "code",
   "execution_count": 7,
   "metadata": {
    "collapsed": true
   },
   "outputs": [],
   "source": [
    "\"\"\"\n",
    "each model proposal can be represented by a dictionary\n",
    "so the markov chain will be a list of dictionaries\n",
    "\n",
    "Sample usage:\n",
    "\n",
    "ds_pipeline = [\n",
    "    ('hinge', Hinge()), \n",
    "    ('interaction', Interaction([1,2]))\n",
    "    ]\n",
    "\n",
    "eval_pipeline(ds_pipeline)\n",
    "\"\"\"\n",
    "\n",
    "def get_name(name):    \n",
    "    clean_name = name.split(\"_\")\n",
    "    return clean_name\n",
    "\n",
    "\n"
   ]
  },
  {
   "cell_type": "code",
   "execution_count": 8,
   "metadata": {
    "collapsed": true
   },
   "outputs": [],
   "source": [
    "def graph_to_dict(G):\n",
    "    return dict(nodes=[[n, G.node[n]] for n in G.nodes()],\n",
    "                   edges=[[u, v, G.edge[u][v]] for u,v in G.edges()])\n",
    "\n",
    "def dict_to_graph(dict_obj):\n",
    "    G = nx.DiGraph()\n",
    "    G.add_nodes_from(dict_obj['nodes'])\n",
    "    G.add_edges_from(dict_obj['edges'])\n",
    "    return G\n",
    "\n",
    "def print_graph_from_dict(dict_obj, kwargs={}):\n",
    "    G = dict_to_graph(dict_obj)\n",
    "    nx.draw_networkx(G, **kwargs)\n",
    "    "
   ]
  },
  {
   "cell_type": "code",
   "execution_count": 9,
   "metadata": {
    "collapsed": true
   },
   "outputs": [],
   "source": [
    "# generate the base graph, where we have a the root node and all the base features...\n",
    "G=nx.DiGraph()\n",
    "G.add_node(\"root\")\n",
    "\n",
    "for col in base_names:\n",
    "    # we can add node attributes, eg\n",
    "    #G.add_node(col, attribute='here')\n",
    "    G.add_node(col, node_type='base')\n",
    "    G.add_edge(\"root\", col)\n",
    "\n",
    "simulations = []\n",
    "simulations.append(graph_to_dict(G))"
   ]
  },
  {
   "cell_type": "code",
   "execution_count": 10,
   "metadata": {},
   "outputs": [
    {
     "data": {
      "image/png": "[encoded data removed]",
      "text/plain": [
       "<matplotlib.figure.Figure at 0x2839d44aeb8>"
      ]
     },
     "metadata": {},
     "output_type": "display_data"
    }
   ],
   "source": [
    "print_graph_from_dict(simulations[0])"
   ]
  },
  {
   "cell_type": "code",
   "execution_count": 11,
   "metadata": {
    "collapsed": true
   },
   "outputs": [],
   "source": [
    "def get_all_hinge_candidates(G):\n",
    "    \"\"\"\n",
    "    Get all nodes which have \n",
    "    - no successors\n",
    "    - (bonus) or successors do not have property \"hinge\" (exclude root)    \n",
    "    \n",
    "    Format of the graph G will be:\n",
    "    \n",
    "    G.add_node(col, hinge=split_point_as_float, hinge_parent=[parent_node])\n",
    "    \"\"\"\n",
    "    candidates = []\n",
    "    for node in G.nodes():\n",
    "        if node == \"root\": \n",
    "            continue\n",
    "        if len(G.successors(node)) == 0:\n",
    "            candidates.append(node)\n",
    "        else:\n",
    "            # traverse through each one and check for attributes...\n",
    "            check_hinge = [successor for successor in G.successors(node)\n",
    "                           if 'hinge' in list(G.node[successor].keys())]\n",
    "            if len(check_hinge) > 0:\n",
    "                # add this node to candidate\n",
    "                candidates.append(node)\n",
    "    return candidates\n",
    "\n",
    "def get_all_interaction_candidates(G):\n",
    "    \"\"\"\n",
    "    \n",
    "    Format of graph G will be\n",
    "    \n",
    "    G.add_node(colname, interaction=[colname1, colname2])\n",
    "    \"\"\"\n",
    "    def check_valid_candidates(G, n1, n2):\n",
    "        \"\"\"\n",
    "        Checks if a proposed interaction has already been created\n",
    "        \"\"\"\n",
    "        check_set = set([n1, n2])\n",
    "        for node_name in G.nodes():\n",
    "            res = G.node[node_name].get(\"interaction\", [])\n",
    "            if set(res) == check_set:\n",
    "                return False\n",
    "            \n",
    "        return True                \n",
    "    \n",
    "    candidates = []\n",
    "    for node1 in G.nodes():\n",
    "        if node1 == \"root\": \n",
    "            continue\n",
    "        \n",
    "        # propose a new candidate...this list is at most d*(d-1) in size.\n",
    "        # generally smaller for reasons\n",
    "        for node2 in G.nodes():\n",
    "            if node2 == \"root\":\n",
    "                continue\n",
    "                \n",
    "            # propose node1, node2 as a candidate\n",
    "            # check if valid...\n",
    "            if check_valid_candidates(G, node1, node2):\n",
    "                candidates.append([node1, node2])\n",
    "    \n",
    "\n",
    "    return candidates"
   ]
  },
  {
   "cell_type": "code",
   "execution_count": 12,
   "metadata": {
    "collapsed": true
   },
   "outputs": [],
   "source": [
    "def get_all_hinge_parent(G):\n",
    "    \"\"\"\n",
    "    Get all parents which are one level about possible candidates    \n",
    "    \n",
    "    this is used to spawn the equivalent remove call\n",
    "    \"\"\"\n",
    "    # 1. get all possible hinge parents\n",
    "    # 2. remove all hinge parents which have multiple children\n",
    "    \n",
    "    def check_valid_pair(child, all_hinge_parents):\n",
    "        # filter out all children which are also a parent.\n",
    "        all_parent = [parent for parent, child in all_hinge_parents]\n",
    "        return False if child in all_parent else True\n",
    "    \n",
    "    all_hinge_parents = []\n",
    "    for node in G.nodes():\n",
    "        if 'hinge' in list(G.node[node].keys()):\n",
    "            all_hinge_parents.append((G.node[node]['hinge_parent'], node))\n",
    "    \n",
    "    # filter out any candidates, where the proposed (parent, child) pair, has a child which is also a parent\n",
    "    check = all_hinge_parents[:]\n",
    "    all_hinge_parents = [parent for\n",
    "                        parent, child in check if check_valid_pair(child, check)]\n",
    "    \n",
    "    return list(set(all_hinge_parents))\n",
    "    \n",
    "\n",
    "def get_all_interaction_parents(G):\n",
    "    \"\"\"\n",
    "    Get all parents of interactions in the graph\n",
    "    \n",
    "    this is used to spawn the equivalent remove call\n",
    "    \"\"\"\n",
    "    def check_valid_pair(child, candidates):\n",
    "        # filter out all children which are also a parent.\n",
    "        all_parent = [d['interaction'] for d in candidates]\n",
    "        flat_parents = [item for parent in all_parent for item in parent]\n",
    "        return False if child in flat_parents else True\n",
    "    \n",
    "    candidates = []\n",
    "    for node in G.nodes():\n",
    "        if 'interaction' in list(G.node[node].keys()):\n",
    "            candidates.append({'interaction': G.node[node]['interaction'], 'child':node})\n",
    "    \n",
    "    # sim to above, filter anything, where (parent, child) has a child, which is also a parent.\n",
    "    check = candidates[:]\n",
    "    all_candidates = [d for d in candidates if check_valid_pair(d['child'], check)]\n",
    "    return all_candidates"
   ]
  },
  {
   "cell_type": "code",
   "execution_count": 13,
   "metadata": {},
   "outputs": [
    {
     "name": "stdout",
     "output_type": "stream",
     "text": [
      "There are no interaction parents: True\n",
      "There are no hinge parents: True\n",
      "There are linearly many hinge candidates: 20\n",
      "There are exponential many interaction candidates: 400\n"
     ]
    }
   ],
   "source": [
    "# sense check....\n",
    "# generate the base graph, where we have a the root node and all the base features...\n",
    "G=nx.DiGraph()\n",
    "G.add_node(\"root\")\n",
    "\n",
    "for col in base_names:\n",
    "    # we can add node attributes, eg\n",
    "    #G.add_node(col, attribute='here')\n",
    "    G.add_node(col, node_type='base')\n",
    "    G.add_edge(\"root\", col)\n",
    "\n",
    "print(\"There are no interaction parents: {}\".format(len(get_all_interaction_parents(G)) == 0))\n",
    "print(\"There are no hinge parents: {}\".format(len(get_all_hinge_parent(G)) == 0))\n",
    "print(\"There are linearly many hinge candidates: {}\".format(len(get_all_hinge_candidates(G))))\n",
    "print(\"There are exponential many interaction candidates: {}\".format(len(get_all_interaction_candidates(G))))"
   ]
  },
  {
   "cell_type": "code",
   "execution_count": 14,
   "metadata": {},
   "outputs": [
    {
     "data": {
      "text/plain": [
       "[('grow', 'hinge'), ('grow', 'interact')]"
      ]
     },
     "execution_count": 14,
     "metadata": {},
     "output_type": "execute_result"
    }
   ],
   "source": [
    "# start simulations!\n",
    "def spawn_possible_actions(G):\n",
    "    actions = []\n",
    "    if get_all_interaction_parents(G):\n",
    "        actions.append((\"remove\", \"interact\"))\n",
    "    if get_all_hinge_parent(G):\n",
    "        actions.append((\"remove\", \"hinge\"))\n",
    "    if get_all_hinge_candidates(G):\n",
    "        actions.append((\"grow\", \"hinge\"))\n",
    "    if get_all_interaction_candidates(G):\n",
    "        actions.append((\"grow\", \"interact\"))\n",
    "    return actions\n",
    "\n",
    "spawn_possible_actions(G)"
   ]
  },
  {
   "cell_type": "code",
   "execution_count": 15,
   "metadata": {
    "collapsed": true
   },
   "outputs": [],
   "source": [
    "def spawn_action_candidates(G, action, transform):\n",
    "    if action == 'grow':\n",
    "        if transform == 'hinge':\n",
    "            return get_all_hinge_candidates(G)\n",
    "        elif transform == 'interact':\n",
    "            return get_all_interaction_candidates(G)\n",
    "        else:\n",
    "            raise Exception(\"invalid transform function\")\n",
    "    if action == 'remove':\n",
    "        if transform == 'hinge':\n",
    "            return get_all_hinge_parent(G)\n",
    "        elif transform == 'interact':\n",
    "            return get_all_interaction_parents(G)\n",
    "        else:\n",
    "            raise Exception(\"invalid transform function\")\n",
    "    else:\n",
    "        raise Exception(\"invalid grow function\")"
   ]
  },
  {
   "cell_type": "code",
   "execution_count": 16,
   "metadata": {},
   "outputs": [],
   "source": [
    "def spawn_new_model(G):\n",
    "    # to spawn a model, spawn possible actions:\n",
    "    \n",
    "    all_actions = spawn_possible_actions(G)\n",
    "    action, transform = random.choice(all_actions)\n",
    "    # this just returns the function that is randomly chosen.\n",
    "    candidates = spawn_action_candidates(G, action, transform)\n",
    "    selected_node = random.choice(candidates)\n",
    "    \n",
    "    G_prime = G.copy()        \n",
    "    \n",
    "    return {'action': action, \n",
    "            'transform': transform,\n",
    "            'selected_node': selected_node}\n",
    "    "
   ]
  },
  {
   "cell_type": "code",
   "execution_count": 17,
   "metadata": {
    "collapsed": true
   },
   "outputs": [],
   "source": [
    "# construct new model...\n",
    "def spawn_new_pipeline(list_of_transforms):\n",
    "    \"\"\"\n",
    "    list_of_transforms is a list of dictionaries    \n",
    "    \"\"\"\n",
    "    pipeline = []    \n",
    "    # we can add to pipeline and pop it off afterwards...\n",
    "    # rather than overloading the graph!    \n",
    "    for transform in list_of_transforms:\n",
    "        # check of empty dictionary which is the first one\n",
    "        if len(transform) == 0:\n",
    "            continue\n",
    "        \n",
    "        if transform['action'] == 'grow':\n",
    "            \n",
    "            name_list = transform['selected_node'] if type(transform['selected_node']) is str else \":\".join(list(transform['selected_node']))\n",
    "            \n",
    "            pipeline_name = \"{}-{}-{}\".format(\n",
    "                transform['action'], transform['transform'], \n",
    "                name_list\n",
    "            )\n",
    "            if transform['transform'] == 'hinge':\n",
    "                pipeline_action = Hinge(mask=transform['selected_node'])\n",
    "            elif transform['transform'] == 'interact':\n",
    "                pipeline_action = Interaction(transform['selected_node'])\n",
    "            pipeline.append((pipeline_name, pipeline_action))\n",
    "        elif transform['action'] == 'remove':\n",
    "            name_list = transform['selected_node'] if type(transform['selected_node']) is str else \":\".join(list(transform['selected_node']))\n",
    "            remove_pipeline_name = \"{}-{}-{}\".format(\n",
    "                'grow', transform['transform'], \n",
    "                name_list\n",
    "            )\n",
    "            pipeline = [(name, action) for name, action in pipeline if name != remove_pipeline_name]\n",
    "    return pipeline\n"
   ]
  },
  {
   "cell_type": "code",
   "execution_count": 18,
   "metadata": {},
   "outputs": [
    {
     "name": "stdout",
     "output_type": "stream",
     "text": [
      "Chosen action/transform: grow hinge\n",
      "selected node(s): base_3\n"
     ]
    }
   ],
   "source": [
    "### spawn one pass...\n",
    "new_model = spawn_new_model(G)\n",
    "print(\"Chosen action/transform: {} {}\".format(new_model['action'], new_model['transform']))\n",
    "print(\"selected node(s): {}\".format(new_model['selected_node']))"
   ]
  },
  {
   "cell_type": "code",
   "execution_count": 19,
   "metadata": {
    "collapsed": true
   },
   "outputs": [],
   "source": [
    "graph_list = [G]\n",
    "transform_list = [new_model]"
   ]
  },
  {
   "cell_type": "code",
   "execution_count": 20,
   "metadata": {},
   "outputs": [
    {
     "data": {
      "text/plain": [
       "[('grow-hinge-base_3', Hinge(hinge=None, mask='base_3',\n",
       "     psplit=<function error_on_split at 0x000002839AAF69D8>, search_min=True))]"
      ]
     },
     "execution_count": 20,
     "metadata": {},
     "output_type": "execute_result"
    }
   ],
   "source": [
    "new_pipeline = spawn_new_pipeline(transform_list)\n",
    "new_pipeline"
   ]
  },
  {
   "cell_type": "code",
   "execution_count": 21,
   "metadata": {},
   "outputs": [
    {
     "data": {
      "text/plain": [
       "0.67999999999999994"
      ]
     },
     "execution_count": 21,
     "metadata": {},
     "output_type": "execute_result"
    }
   ],
   "source": [
    "# baseline solution - vanilla pipeline\n",
    "eval_pipeline(X=X_df, verbose=False)"
   ]
  },
  {
   "cell_type": "code",
   "execution_count": 22,
   "metadata": {},
   "outputs": [
    {
     "data": {
      "text/plain": [
       "[('grow-hinge-base_3', Hinge(hinge=None, mask='base_3',\n",
       "     psplit=<function error_on_split at 0x000002839AAF69D8>, search_min=True))]"
      ]
     },
     "execution_count": 22,
     "metadata": {},
     "output_type": "execute_result"
    }
   ],
   "source": [
    "new_pipeline"
   ]
  },
  {
   "cell_type": "code",
   "execution_count": 23,
   "metadata": {},
   "outputs": [
    {
     "data": {
      "text/plain": [
       "0.68300000000000005"
      ]
     },
     "execution_count": 23,
     "metadata": {},
     "output_type": "execute_result"
    }
   ],
   "source": [
    "# baseline solution - vanilla pipeline\n",
    "eval_pipeline(additional_feats=new_pipeline, X=X_df, verbose=False)"
   ]
  },
  {
   "cell_type": "markdown",
   "metadata": {},
   "source": [
    "Now we can perform MH, as long as we calculate the acceptance probabilities etc..."
   ]
  },
  {
   "cell_type": "code",
   "execution_count": 24,
   "metadata": {
    "collapsed": true
   },
   "outputs": [],
   "source": [
    "def _proposal(G, action, transform):\n",
    "    \"\"\"\n",
    "    G is current graph of model.\n",
    "    \n",
    "    return proportional probabilities related to proposal distributions,\n",
    "    both the current proposal and the \"proposed\" proposal\n",
    "    \n",
    "    x*|xt is proposal prime\n",
    "    xt|x* is proposal cur\n",
    "    \"\"\"\n",
    "    if action == \"remove\" and transform == \"interact\":\n",
    "        all_pos_parents = get_all_interaction_parents(G)\n",
    "        proposal_prime = 1.0/len(all_pos_parents)\n",
    "        \n",
    "        # simulate removing a pair...\n",
    "        G_prime = G.copy()\n",
    "        remove_node_name = \"{}_{}\".format(all_pos_parents[0]['interaction'][0], all_pos_parents[0]['interaction'][1])\n",
    "        G_prime.remove_node(remove_node_name)        \n",
    "        # proposal_cur is, given proposal prime, how to go back..\n",
    "        # if we remove an interaction pair, then...\n",
    "        proposal_cur = 1.0/len(get_all_interaction_candidates(G_prime))\n",
    "        \n",
    "    if action == \"remove\" and transform == \"hinge\":\n",
    "        all_pos_parents = get_all_hinge_parent(G)\n",
    "        proposal_prime = 1.0/len(all_pos_parents)\n",
    "        \n",
    "        # simulate removing a pair\n",
    "        G_prime = G.copy()\n",
    "        remove_node_name = all_pos_parents[0]\n",
    "        pos_name = \"{}_poshinge\".format(remove_node_name)\n",
    "        neg_name = \"{}_neghinge\".format(remove_node_name)\n",
    "        G_prime.remove_node(pos_name)\n",
    "        G_prime.remove_node(neg_name)\n",
    "        proposal_cur = 1.0/len(get_all_hinge_candidates(G_prime))\n",
    "        \n",
    "                \n",
    "    if action == \"grow\" and transform == \"hinge\":\n",
    "        all_pos_candidates = get_all_hinge_candidates(G)\n",
    "        proposal_prime = 1.0/len(all_pos_candidates)\n",
    "        \n",
    "        # simulate adding a random proposal\n",
    "        G_prime = G.copy()\n",
    "        add_node_name = all_pos_candidates[0]\n",
    "        pos_name = \"{}_poshinge\".format(add_node_name)\n",
    "        neg_name = \"{}_neghinge\".format(add_node_name)\n",
    "        \n",
    "        # add...\n",
    "        G_prime.add_node(pos_name, hinge='', hinge_parent=add_node_name)\n",
    "        G_prime.add_node(neg_name, hinge='', hinge_parent=add_node_name)\n",
    "        G_prime.add_edge(add_node_name, pos_name)\n",
    "        G_prime.add_edge(add_node_name, neg_name)\n",
    "        \n",
    "        proposal_cur = 1.0/len(get_all_hinge_parent(G_prime))\n",
    "        \n",
    "    if action == \"grow\" and transform == \"interact\":\n",
    "        all_pos_candidates = get_all_interaction_candidates(G)\n",
    "        proposal_prime = 1.0/len(all_pos_candidates)\n",
    "\n",
    "        # simulate adding a random proposal\n",
    "        G_prime = G.copy()\n",
    "        \n",
    "        # interaction\n",
    "        G_prime = G.copy()\n",
    "        add_node_name = all_pos_candidates[0]\n",
    "        interact_name = \"{}_{}\".format(add_node_name[0], add_node_name[1])\n",
    "        \n",
    "        # add...\n",
    "        G_prime.add_node(interact_name, interaction=[add_node_name[0], add_node_name[1]])\n",
    "        G_prime.add_edge(add_node_name[0], interact_name)\n",
    "        G_prime.add_edge(add_node_name[1], interact_name)\n",
    "        \n",
    "        proposal_cur = 1.0/len(get_all_interaction_parents(G_prime))\n",
    "    \n",
    "    # add fudge scaling factor\n",
    "    proposal_cur = min(proposal_cur, 0.25)\n",
    "    proposal_prime = min(proposal_prime, 0.25)\n",
    "    \n",
    "    return proposal_cur, proposal_prime\n",
    "    \n",
    "def proposal(G, action, transform):\n",
    "    try: \n",
    "        proposal_cur, proposal_prime = _proposal(G, action, transform)\n",
    "        return proposal_cur, proposal_prime\n",
    "    except ZeroDivisionError as err:\n",
    "        print(\"Warning: Move appears to be invalid\")\n",
    "        return 1.0, 1.0"
   ]
  },
  {
   "cell_type": "code",
   "execution_count": 25,
   "metadata": {},
   "outputs": [
    {
     "data": {
      "text/plain": [
       "(0.25, 0.0025)"
      ]
     },
     "execution_count": 25,
     "metadata": {},
     "output_type": "execute_result"
    }
   ],
   "source": [
    "proposal(G, 'grow', 'interact')"
   ]
  },
  {
   "cell_type": "code",
   "execution_count": 26,
   "metadata": {},
   "outputs": [
    {
     "data": {
      "text/plain": [
       "(0.25, 0.05)"
      ]
     },
     "execution_count": 26,
     "metadata": {},
     "output_type": "execute_result"
    }
   ],
   "source": [
    "proposal(G, 'grow', 'hinge')"
   ]
  },
  {
   "cell_type": "code",
   "execution_count": 27,
   "metadata": {},
   "outputs": [
    {
     "name": "stdout",
     "output_type": "stream",
     "text": [
      "Warning: Move appears to be invalid\n"
     ]
    },
    {
     "data": {
      "text/plain": [
       "(1.0, 1.0)"
      ]
     },
     "execution_count": 27,
     "metadata": {},
     "output_type": "execute_result"
    }
   ],
   "source": [
    "proposal(G, 'remove', 'interact')"
   ]
  },
  {
   "cell_type": "code",
   "execution_count": 28,
   "metadata": {
    "collapsed": true
   },
   "outputs": [],
   "source": [
    "def _acceptance(proba_cur, proba_prime, proposal_cur, proposal_prime):\n",
    "    accept = (proba_prime/proba_cur) * (proposal_cur/proposal_prime)\n",
    "    return min(1.0, accept)\n",
    "\n",
    "def propose_iter(curr_G, curr_transform_list):\n",
    "    propose_model = spawn_new_model(curr_G)\n",
    "    propose_transform_list = curr_transform_list[:] + [propose_model]\n",
    "    curr_pipeline = spawn_new_pipeline(curr_transform_list)\n",
    "    propose_pipeline = spawn_new_pipeline(propose_transform_list)\n",
    "    \n",
    "    proba_cur = eval_pipeline(additional_feats=curr_pipeline, X=X_df, verbose=False)\n",
    "    proba_prime = eval_pipeline(additional_feats=propose_pipeline, X=X_df, verbose=False)\n",
    "    \n",
    "    proposal_cur, proposal_prime = proposal(curr_G, propose_model['action'], propose_model['transform'])\n",
    "    \n",
    "    result = {'acceptance_proba': _acceptance(proba_cur, proba_prime, proposal_cur, proposal_prime)}\n",
    "    \n",
    "    result_new = result.copy()\n",
    "    result_new.update(propose_model)\n",
    "    result['proposed_graph'] = curr_G.copy\n",
    "    return result_new\n",
    "\n",
    "# if proposal is accepted...update G and transform list here..."
   ]
  },
  {
   "cell_type": "code",
   "execution_count": 35,
   "metadata": {
    "collapsed": true
   },
   "outputs": [],
   "source": [
    "def create_iter(G_list, transform_list, proposed):\n",
    "    new_transform_list = transform_list[:] + [proposed]\n",
    "    G_new = dict_to_graph(G_list[-1].copy())\n",
    "    G_dict = G_list[-1].copy()\n",
    "    \n",
    "    # now in G, we add or remove as needed...\n",
    "    if proposed['action'] == 'grow':\n",
    "        if proposed['transform'] == 'hinge':\n",
    "            pos_name = \"{}_poshinge\".format(proposed['selected_node'])\n",
    "            neg_name = \"{}_neghinge\".format(proposed['selected_node'])\n",
    "            G_new.add_node(pos_name, hinge='', hinge_parent=proposed['selected_node'])\n",
    "            G_new.add_node(neg_name, hinge='', hinge_parent=proposed['selected_node'])\n",
    "            G_new.add_edge(proposed['selected_node'], pos_name)\n",
    "            G_new.add_edge(proposed['selected_node'], neg_name)\n",
    "        elif proposed['transform'] == 'interact':\n",
    "            interact_name = \"{}_{}\".format(proposed['selected_node'][0], proposed['selected_node'][1])\n",
    "            G_new.add_node(interact_name, interaction=[proposed['selected_node'][0], proposed['selected_node'][1]])\n",
    "            G_new.add_edge(proposed['selected_node'][0], interact_name)\n",
    "            G_new.add_edge(proposed['selected_node'][1], interact_name)\n",
    "        else:\n",
    "            raise Exception(\"action/transform pair: {} {} appears to be invalid\".format(proposed['action'], proposed['transform']))\n",
    "    elif proposed['action'] == 'remove':        \n",
    "        if proposed['transform'] == 'hinge':\n",
    "            print(\"remove hinge node {}\".format(proposed['selected_node']))\n",
    "            pos_name = \"{}_poshinge\".format(proposed['selected_node'])\n",
    "            neg_name = \"{}_neghinge\".format(proposed['selected_node'])\n",
    "            G_new.remove_node(pos_name)\n",
    "            G_new.remove_node(neg_name)\n",
    "        elif proposed['transform'] == 'interact':\n",
    "            print(\"remove interact node {}\".format(proposed['selected_node']))\n",
    "            interact_name = \"{}_{}\".format(proposed['selected_node'][0], proposed['selected_node'][1])            \n",
    "            G_new.remove_node(interact_name)\n",
    "        else:\n",
    "            raise Exception(\"action/transform pair: {} {} appears to be invalid\".format(proposed['action'], proposed['transform']))    \n",
    "    else:\n",
    "        raise Exception(\"action/transform pair: {} {} appears to be invalid\".format(proposed['action'], proposed['transform']))\n",
    "    \n",
    "    # add things...\n",
    "    G_new_list = G_list[:]\n",
    "    G_new_list.append(graph_to_dict(G_new))\n",
    "    return G_new_list, new_transform_list\n",
    "\n",
    "def single_iter(G, transform_list):\n",
    "    proposed = propose_iter(G, transform_list)\n",
    "    return proposed\n",
    "\n",
    "def mh_iter(G_list, transform_list):\n",
    "    u = np.random.uniform()    \n",
    "    proposed = single_iter(dict_to_graph(G_list[-1]), transform_list[:])\n",
    "    print(proposed)\n",
    "    if u < proposed['acceptance_proba']:\n",
    "        return create_iter(G_list, transform_list, proposed)\n",
    "    else:\n",
    "        # repeat the previous one...\n",
    "        return G_list[:], transform_list[:]\n"
   ]
  },
  {
   "cell_type": "code",
   "execution_count": 36,
   "metadata": {
    "scrolled": true
   },
   "outputs": [
    {
     "name": "stdout",
     "output_type": "stream",
     "text": [
      "0\n",
      "{'transform': 'interact', 'acceptance_proba': 1.0, 'action': 'grow', 'selected_node': ['base_3', 'base_10']}\n",
      "1\n",
      "{'transform': 'hinge', 'acceptance_proba': 1.0, 'action': 'grow', 'selected_node': 'base_5'}\n",
      "2\n",
      "{'transform': 'hinge', 'acceptance_proba': 1.0, 'action': 'grow', 'selected_node': 'base_19'}\n",
      "3\n",
      "{'transform': 'interact', 'acceptance_proba': 1.0, 'action': 'grow', 'selected_node': ['base_0', 'base_19_poshinge']}\n",
      "4\n"
     ]
    },
    {
     "ename": "KeyError",
     "evalue": "\"['base_19_poshinge'] not in index\"",
     "output_type": "error",
     "traceback": [
      "\u001b[1;31m---------------------------------------------------------------------------\u001b[0m",
      "\u001b[1;31mKeyError\u001b[0m                                  Traceback (most recent call last)",
      "\u001b[1;32m<ipython-input-36-ae584497e131>\u001b[0m in \u001b[0;36m<module>\u001b[1;34m()\u001b[0m\n\u001b[0;32m      6\u001b[0m \u001b[1;32mfor\u001b[0m \u001b[0mi\u001b[0m \u001b[1;32min\u001b[0m \u001b[0mrange\u001b[0m\u001b[1;33m(\u001b[0m\u001b[0miters\u001b[0m\u001b[1;33m)\u001b[0m\u001b[1;33m:\u001b[0m\u001b[1;33m\u001b[0m\u001b[0m\n\u001b[0;32m      7\u001b[0m     \u001b[0mprint\u001b[0m\u001b[1;33m(\u001b[0m\u001b[0mi\u001b[0m\u001b[1;33m)\u001b[0m\u001b[1;33m\u001b[0m\u001b[0m\n\u001b[1;32m----> 8\u001b[1;33m     \u001b[0mG_list_temp\u001b[0m\u001b[1;33m,\u001b[0m \u001b[0mtransform_list_temp\u001b[0m \u001b[1;33m=\u001b[0m \u001b[0mmh_iter\u001b[0m\u001b[1;33m(\u001b[0m\u001b[0mG_list\u001b[0m\u001b[1;33m[\u001b[0m\u001b[1;33m:\u001b[0m\u001b[1;33m]\u001b[0m\u001b[1;33m,\u001b[0m \u001b[0mtransform_list\u001b[0m\u001b[1;33m[\u001b[0m\u001b[1;33m:\u001b[0m\u001b[1;33m]\u001b[0m\u001b[1;33m)\u001b[0m\u001b[1;33m\u001b[0m\u001b[0m\n\u001b[0m\u001b[0;32m      9\u001b[0m     \u001b[0mG_list\u001b[0m \u001b[1;33m=\u001b[0m \u001b[0mG_list_temp\u001b[0m\u001b[1;33m[\u001b[0m\u001b[1;33m:\u001b[0m\u001b[1;33m]\u001b[0m\u001b[1;33m\u001b[0m\u001b[0m\n\u001b[0;32m     10\u001b[0m     \u001b[0mtransform_list\u001b[0m \u001b[1;33m=\u001b[0m \u001b[0mtransform_list_temp\u001b[0m\u001b[1;33m[\u001b[0m\u001b[1;33m:\u001b[0m\u001b[1;33m]\u001b[0m\u001b[1;33m\u001b[0m\u001b[0m\n",
      "\u001b[1;32m<ipython-input-35-0b2ea375b9dc>\u001b[0m in \u001b[0;36mmh_iter\u001b[1;34m(G_list, transform_list)\u001b[0m\n\u001b[0;32m     47\u001b[0m \u001b[1;32mdef\u001b[0m \u001b[0mmh_iter\u001b[0m\u001b[1;33m(\u001b[0m\u001b[0mG_list\u001b[0m\u001b[1;33m,\u001b[0m \u001b[0mtransform_list\u001b[0m\u001b[1;33m)\u001b[0m\u001b[1;33m:\u001b[0m\u001b[1;33m\u001b[0m\u001b[0m\n\u001b[0;32m     48\u001b[0m     \u001b[0mu\u001b[0m \u001b[1;33m=\u001b[0m \u001b[0mnp\u001b[0m\u001b[1;33m.\u001b[0m\u001b[0mrandom\u001b[0m\u001b[1;33m.\u001b[0m\u001b[0muniform\u001b[0m\u001b[1;33m(\u001b[0m\u001b[1;33m)\u001b[0m\u001b[1;33m\u001b[0m\u001b[0m\n\u001b[1;32m---> 49\u001b[1;33m     \u001b[0mproposed\u001b[0m \u001b[1;33m=\u001b[0m \u001b[0msingle_iter\u001b[0m\u001b[1;33m(\u001b[0m\u001b[0mdict_to_graph\u001b[0m\u001b[1;33m(\u001b[0m\u001b[0mG_list\u001b[0m\u001b[1;33m[\u001b[0m\u001b[1;33m-\u001b[0m\u001b[1;36m1\u001b[0m\u001b[1;33m]\u001b[0m\u001b[1;33m)\u001b[0m\u001b[1;33m,\u001b[0m \u001b[0mtransform_list\u001b[0m\u001b[1;33m[\u001b[0m\u001b[1;33m:\u001b[0m\u001b[1;33m]\u001b[0m\u001b[1;33m)\u001b[0m\u001b[1;33m\u001b[0m\u001b[0m\n\u001b[0m\u001b[0;32m     50\u001b[0m     \u001b[0mprint\u001b[0m\u001b[1;33m(\u001b[0m\u001b[0mproposed\u001b[0m\u001b[1;33m)\u001b[0m\u001b[1;33m\u001b[0m\u001b[0m\n\u001b[0;32m     51\u001b[0m     \u001b[1;32mif\u001b[0m \u001b[0mu\u001b[0m \u001b[1;33m<\u001b[0m \u001b[0mproposed\u001b[0m\u001b[1;33m[\u001b[0m\u001b[1;34m'acceptance_proba'\u001b[0m\u001b[1;33m]\u001b[0m\u001b[1;33m:\u001b[0m\u001b[1;33m\u001b[0m\u001b[0m\n",
      "\u001b[1;32m<ipython-input-35-0b2ea375b9dc>\u001b[0m in \u001b[0;36msingle_iter\u001b[1;34m(G, transform_list)\u001b[0m\n\u001b[0;32m     42\u001b[0m \u001b[1;33m\u001b[0m\u001b[0m\n\u001b[0;32m     43\u001b[0m \u001b[1;32mdef\u001b[0m \u001b[0msingle_iter\u001b[0m\u001b[1;33m(\u001b[0m\u001b[0mG\u001b[0m\u001b[1;33m,\u001b[0m \u001b[0mtransform_list\u001b[0m\u001b[1;33m)\u001b[0m\u001b[1;33m:\u001b[0m\u001b[1;33m\u001b[0m\u001b[0m\n\u001b[1;32m---> 44\u001b[1;33m     \u001b[0mproposed\u001b[0m \u001b[1;33m=\u001b[0m \u001b[0mpropose_iter\u001b[0m\u001b[1;33m(\u001b[0m\u001b[0mG\u001b[0m\u001b[1;33m,\u001b[0m \u001b[0mtransform_list\u001b[0m\u001b[1;33m)\u001b[0m\u001b[1;33m\u001b[0m\u001b[0m\n\u001b[0m\u001b[0;32m     45\u001b[0m     \u001b[1;32mreturn\u001b[0m \u001b[0mproposed\u001b[0m\u001b[1;33m\u001b[0m\u001b[0m\n\u001b[0;32m     46\u001b[0m \u001b[1;33m\u001b[0m\u001b[0m\n",
      "\u001b[1;32m<ipython-input-28-605197bd0aa2>\u001b[0m in \u001b[0;36mpropose_iter\u001b[1;34m(curr_G, curr_transform_list)\u001b[0m\n\u001b[0;32m     10\u001b[0m \u001b[1;33m\u001b[0m\u001b[0m\n\u001b[0;32m     11\u001b[0m     \u001b[0mproba_cur\u001b[0m \u001b[1;33m=\u001b[0m \u001b[0meval_pipeline\u001b[0m\u001b[1;33m(\u001b[0m\u001b[0madditional_feats\u001b[0m\u001b[1;33m=\u001b[0m\u001b[0mcurr_pipeline\u001b[0m\u001b[1;33m,\u001b[0m \u001b[0mX\u001b[0m\u001b[1;33m=\u001b[0m\u001b[0mX_df\u001b[0m\u001b[1;33m,\u001b[0m \u001b[0mverbose\u001b[0m\u001b[1;33m=\u001b[0m\u001b[1;32mFalse\u001b[0m\u001b[1;33m)\u001b[0m\u001b[1;33m\u001b[0m\u001b[0m\n\u001b[1;32m---> 12\u001b[1;33m     \u001b[0mproba_prime\u001b[0m \u001b[1;33m=\u001b[0m \u001b[0meval_pipeline\u001b[0m\u001b[1;33m(\u001b[0m\u001b[0madditional_feats\u001b[0m\u001b[1;33m=\u001b[0m\u001b[0mpropose_pipeline\u001b[0m\u001b[1;33m,\u001b[0m \u001b[0mX\u001b[0m\u001b[1;33m=\u001b[0m\u001b[0mX_df\u001b[0m\u001b[1;33m,\u001b[0m \u001b[0mverbose\u001b[0m\u001b[1;33m=\u001b[0m\u001b[1;32mFalse\u001b[0m\u001b[1;33m)\u001b[0m\u001b[1;33m\u001b[0m\u001b[0m\n\u001b[0m\u001b[0;32m     13\u001b[0m \u001b[1;33m\u001b[0m\u001b[0m\n\u001b[0;32m     14\u001b[0m     \u001b[0mproposal_cur\u001b[0m\u001b[1;33m,\u001b[0m \u001b[0mproposal_prime\u001b[0m \u001b[1;33m=\u001b[0m \u001b[0mproposal\u001b[0m\u001b[1;33m(\u001b[0m\u001b[0mcurr_G\u001b[0m\u001b[1;33m,\u001b[0m \u001b[0mpropose_model\u001b[0m\u001b[1;33m[\u001b[0m\u001b[1;34m'action'\u001b[0m\u001b[1;33m]\u001b[0m\u001b[1;33m,\u001b[0m \u001b[0mpropose_model\u001b[0m\u001b[1;33m[\u001b[0m\u001b[1;34m'transform'\u001b[0m\u001b[1;33m]\u001b[0m\u001b[1;33m)\u001b[0m\u001b[1;33m\u001b[0m\u001b[0m\n",
      "\u001b[1;32m<ipython-input-4-95bef71093dc>\u001b[0m in \u001b[0;36meval_pipeline\u001b[1;34m(additional_feats, X, y, verbose)\u001b[0m\n\u001b[0;32m      7\u001b[0m     \u001b[1;31m# split data into 10 folds\u001b[0m\u001b[1;33m\u001b[0m\u001b[1;33m\u001b[0m\u001b[0m\n\u001b[0;32m      8\u001b[0m     \u001b[0mkfold\u001b[0m \u001b[1;33m=\u001b[0m \u001b[0mKFold\u001b[0m\u001b[1;33m(\u001b[0m\u001b[0mn_splits\u001b[0m\u001b[1;33m=\u001b[0m\u001b[1;36m10\u001b[0m\u001b[1;33m,\u001b[0m \u001b[0mshuffle\u001b[0m\u001b[1;33m=\u001b[0m\u001b[1;32mTrue\u001b[0m\u001b[1;33m)\u001b[0m\u001b[1;33m\u001b[0m\u001b[0m\n\u001b[1;32m----> 9\u001b[1;33m     \u001b[0mresults\u001b[0m \u001b[1;33m=\u001b[0m \u001b[0mcross_val_score\u001b[0m\u001b[1;33m(\u001b[0m\u001b[0mmodel\u001b[0m\u001b[1;33m,\u001b[0m \u001b[0mX\u001b[0m\u001b[1;33m,\u001b[0m \u001b[0my\u001b[0m\u001b[1;33m,\u001b[0m \u001b[0mcv\u001b[0m\u001b[1;33m=\u001b[0m\u001b[0mkfold\u001b[0m\u001b[1;33m)\u001b[0m\u001b[1;33m\u001b[0m\u001b[0m\n\u001b[0m\u001b[0;32m     10\u001b[0m     \u001b[1;32mif\u001b[0m \u001b[0mverbose\u001b[0m\u001b[1;33m:\u001b[0m\u001b[1;33m\u001b[0m\u001b[0m\n\u001b[0;32m     11\u001b[0m         \u001b[0mprint\u001b[0m\u001b[1;33m(\u001b[0m\u001b[1;34m\"Accuracy: {}\"\u001b[0m\u001b[1;33m.\u001b[0m\u001b[0mformat\u001b[0m\u001b[1;33m(\u001b[0m\u001b[0mresults\u001b[0m\u001b[1;33m.\u001b[0m\u001b[0mmean\u001b[0m\u001b[1;33m(\u001b[0m\u001b[1;33m)\u001b[0m\u001b[1;33m)\u001b[0m\u001b[1;33m)\u001b[0m\u001b[1;33m\u001b[0m\u001b[0m\n",
      "\u001b[1;32mc:\\users\\chapm\\anaconda3\\lib\\site-packages\\sklearn\\model_selection\\_validation.py\u001b[0m in \u001b[0;36mcross_val_score\u001b[1;34m(estimator, X, y, groups, scoring, cv, n_jobs, verbose, fit_params, pre_dispatch)\u001b[0m\n\u001b[0;32m    138\u001b[0m                                               \u001b[0mtrain\u001b[0m\u001b[1;33m,\u001b[0m \u001b[0mtest\u001b[0m\u001b[1;33m,\u001b[0m \u001b[0mverbose\u001b[0m\u001b[1;33m,\u001b[0m \u001b[1;32mNone\u001b[0m\u001b[1;33m,\u001b[0m\u001b[1;33m\u001b[0m\u001b[0m\n\u001b[0;32m    139\u001b[0m                                               fit_params)\n\u001b[1;32m--> 140\u001b[1;33m                       for train, test in cv_iter)\n\u001b[0m\u001b[0;32m    141\u001b[0m     \u001b[1;32mreturn\u001b[0m \u001b[0mnp\u001b[0m\u001b[1;33m.\u001b[0m\u001b[0marray\u001b[0m\u001b[1;33m(\u001b[0m\u001b[0mscores\u001b[0m\u001b[1;33m)\u001b[0m\u001b[1;33m[\u001b[0m\u001b[1;33m:\u001b[0m\u001b[1;33m,\u001b[0m \u001b[1;36m0\u001b[0m\u001b[1;33m]\u001b[0m\u001b[1;33m\u001b[0m\u001b[0m\n\u001b[0;32m    142\u001b[0m \u001b[1;33m\u001b[0m\u001b[0m\n",
      "\u001b[1;32mc:\\users\\chapm\\anaconda3\\lib\\site-packages\\sklearn\\externals\\joblib\\parallel.py\u001b[0m in \u001b[0;36m__call__\u001b[1;34m(self, iterable)\u001b[0m\n\u001b[0;32m    756\u001b[0m             \u001b[1;31m# was dispatched. In particular this covers the edge\u001b[0m\u001b[1;33m\u001b[0m\u001b[1;33m\u001b[0m\u001b[0m\n\u001b[0;32m    757\u001b[0m             \u001b[1;31m# case of Parallel used with an exhausted iterator.\u001b[0m\u001b[1;33m\u001b[0m\u001b[1;33m\u001b[0m\u001b[0m\n\u001b[1;32m--> 758\u001b[1;33m             \u001b[1;32mwhile\u001b[0m \u001b[0mself\u001b[0m\u001b[1;33m.\u001b[0m\u001b[0mdispatch_one_batch\u001b[0m\u001b[1;33m(\u001b[0m\u001b[0miterator\u001b[0m\u001b[1;33m)\u001b[0m\u001b[1;33m:\u001b[0m\u001b[1;33m\u001b[0m\u001b[0m\n\u001b[0m\u001b[0;32m    759\u001b[0m                 \u001b[0mself\u001b[0m\u001b[1;33m.\u001b[0m\u001b[0m_iterating\u001b[0m \u001b[1;33m=\u001b[0m \u001b[1;32mTrue\u001b[0m\u001b[1;33m\u001b[0m\u001b[0m\n\u001b[0;32m    760\u001b[0m             \u001b[1;32melse\u001b[0m\u001b[1;33m:\u001b[0m\u001b[1;33m\u001b[0m\u001b[0m\n",
      "\u001b[1;32mc:\\users\\chapm\\anaconda3\\lib\\site-packages\\sklearn\\externals\\joblib\\parallel.py\u001b[0m in \u001b[0;36mdispatch_one_batch\u001b[1;34m(self, iterator)\u001b[0m\n\u001b[0;32m    606\u001b[0m                 \u001b[1;32mreturn\u001b[0m \u001b[1;32mFalse\u001b[0m\u001b[1;33m\u001b[0m\u001b[0m\n\u001b[0;32m    607\u001b[0m             \u001b[1;32melse\u001b[0m\u001b[1;33m:\u001b[0m\u001b[1;33m\u001b[0m\u001b[0m\n\u001b[1;32m--> 608\u001b[1;33m                 \u001b[0mself\u001b[0m\u001b[1;33m.\u001b[0m\u001b[0m_dispatch\u001b[0m\u001b[1;33m(\u001b[0m\u001b[0mtasks\u001b[0m\u001b[1;33m)\u001b[0m\u001b[1;33m\u001b[0m\u001b[0m\n\u001b[0m\u001b[0;32m    609\u001b[0m                 \u001b[1;32mreturn\u001b[0m \u001b[1;32mTrue\u001b[0m\u001b[1;33m\u001b[0m\u001b[0m\n\u001b[0;32m    610\u001b[0m \u001b[1;33m\u001b[0m\u001b[0m\n",
      "\u001b[1;32mc:\\users\\chapm\\anaconda3\\lib\\site-packages\\sklearn\\externals\\joblib\\parallel.py\u001b[0m in \u001b[0;36m_dispatch\u001b[1;34m(self, batch)\u001b[0m\n\u001b[0;32m    569\u001b[0m         \u001b[0mdispatch_timestamp\u001b[0m \u001b[1;33m=\u001b[0m \u001b[0mtime\u001b[0m\u001b[1;33m.\u001b[0m\u001b[0mtime\u001b[0m\u001b[1;33m(\u001b[0m\u001b[1;33m)\u001b[0m\u001b[1;33m\u001b[0m\u001b[0m\n\u001b[0;32m    570\u001b[0m         \u001b[0mcb\u001b[0m \u001b[1;33m=\u001b[0m \u001b[0mBatchCompletionCallBack\u001b[0m\u001b[1;33m(\u001b[0m\u001b[0mdispatch_timestamp\u001b[0m\u001b[1;33m,\u001b[0m \u001b[0mlen\u001b[0m\u001b[1;33m(\u001b[0m\u001b[0mbatch\u001b[0m\u001b[1;33m)\u001b[0m\u001b[1;33m,\u001b[0m \u001b[0mself\u001b[0m\u001b[1;33m)\u001b[0m\u001b[1;33m\u001b[0m\u001b[0m\n\u001b[1;32m--> 571\u001b[1;33m         \u001b[0mjob\u001b[0m \u001b[1;33m=\u001b[0m \u001b[0mself\u001b[0m\u001b[1;33m.\u001b[0m\u001b[0m_backend\u001b[0m\u001b[1;33m.\u001b[0m\u001b[0mapply_async\u001b[0m\u001b[1;33m(\u001b[0m\u001b[0mbatch\u001b[0m\u001b[1;33m,\u001b[0m \u001b[0mcallback\u001b[0m\u001b[1;33m=\u001b[0m\u001b[0mcb\u001b[0m\u001b[1;33m)\u001b[0m\u001b[1;33m\u001b[0m\u001b[0m\n\u001b[0m\u001b[0;32m    572\u001b[0m         \u001b[0mself\u001b[0m\u001b[1;33m.\u001b[0m\u001b[0m_jobs\u001b[0m\u001b[1;33m.\u001b[0m\u001b[0mappend\u001b[0m\u001b[1;33m(\u001b[0m\u001b[0mjob\u001b[0m\u001b[1;33m)\u001b[0m\u001b[1;33m\u001b[0m\u001b[0m\n\u001b[0;32m    573\u001b[0m \u001b[1;33m\u001b[0m\u001b[0m\n",
      "\u001b[1;32mc:\\users\\chapm\\anaconda3\\lib\\site-packages\\sklearn\\externals\\joblib\\_parallel_backends.py\u001b[0m in \u001b[0;36mapply_async\u001b[1;34m(self, func, callback)\u001b[0m\n\u001b[0;32m    107\u001b[0m     \u001b[1;32mdef\u001b[0m \u001b[0mapply_async\u001b[0m\u001b[1;33m(\u001b[0m\u001b[0mself\u001b[0m\u001b[1;33m,\u001b[0m \u001b[0mfunc\u001b[0m\u001b[1;33m,\u001b[0m \u001b[0mcallback\u001b[0m\u001b[1;33m=\u001b[0m\u001b[1;32mNone\u001b[0m\u001b[1;33m)\u001b[0m\u001b[1;33m:\u001b[0m\u001b[1;33m\u001b[0m\u001b[0m\n\u001b[0;32m    108\u001b[0m         \u001b[1;34m\"\"\"Schedule a func to be run\"\"\"\u001b[0m\u001b[1;33m\u001b[0m\u001b[0m\n\u001b[1;32m--> 109\u001b[1;33m         \u001b[0mresult\u001b[0m \u001b[1;33m=\u001b[0m \u001b[0mImmediateResult\u001b[0m\u001b[1;33m(\u001b[0m\u001b[0mfunc\u001b[0m\u001b[1;33m)\u001b[0m\u001b[1;33m\u001b[0m\u001b[0m\n\u001b[0m\u001b[0;32m    110\u001b[0m         \u001b[1;32mif\u001b[0m \u001b[0mcallback\u001b[0m\u001b[1;33m:\u001b[0m\u001b[1;33m\u001b[0m\u001b[0m\n\u001b[0;32m    111\u001b[0m             \u001b[0mcallback\u001b[0m\u001b[1;33m(\u001b[0m\u001b[0mresult\u001b[0m\u001b[1;33m)\u001b[0m\u001b[1;33m\u001b[0m\u001b[0m\n",
      "\u001b[1;32mc:\\users\\chapm\\anaconda3\\lib\\site-packages\\sklearn\\externals\\joblib\\_parallel_backends.py\u001b[0m in \u001b[0;36m__init__\u001b[1;34m(self, batch)\u001b[0m\n\u001b[0;32m    324\u001b[0m         \u001b[1;31m# Don't delay the application, to avoid keeping the input\u001b[0m\u001b[1;33m\u001b[0m\u001b[1;33m\u001b[0m\u001b[0m\n\u001b[0;32m    325\u001b[0m         \u001b[1;31m# arguments in memory\u001b[0m\u001b[1;33m\u001b[0m\u001b[1;33m\u001b[0m\u001b[0m\n\u001b[1;32m--> 326\u001b[1;33m         \u001b[0mself\u001b[0m\u001b[1;33m.\u001b[0m\u001b[0mresults\u001b[0m \u001b[1;33m=\u001b[0m \u001b[0mbatch\u001b[0m\u001b[1;33m(\u001b[0m\u001b[1;33m)\u001b[0m\u001b[1;33m\u001b[0m\u001b[0m\n\u001b[0m\u001b[0;32m    327\u001b[0m \u001b[1;33m\u001b[0m\u001b[0m\n\u001b[0;32m    328\u001b[0m     \u001b[1;32mdef\u001b[0m \u001b[0mget\u001b[0m\u001b[1;33m(\u001b[0m\u001b[0mself\u001b[0m\u001b[1;33m)\u001b[0m\u001b[1;33m:\u001b[0m\u001b[1;33m\u001b[0m\u001b[0m\n",
      "\u001b[1;32mc:\\users\\chapm\\anaconda3\\lib\\site-packages\\sklearn\\externals\\joblib\\parallel.py\u001b[0m in \u001b[0;36m__call__\u001b[1;34m(self)\u001b[0m\n\u001b[0;32m    129\u001b[0m \u001b[1;33m\u001b[0m\u001b[0m\n\u001b[0;32m    130\u001b[0m     \u001b[1;32mdef\u001b[0m \u001b[0m__call__\u001b[0m\u001b[1;33m(\u001b[0m\u001b[0mself\u001b[0m\u001b[1;33m)\u001b[0m\u001b[1;33m:\u001b[0m\u001b[1;33m\u001b[0m\u001b[0m\n\u001b[1;32m--> 131\u001b[1;33m         \u001b[1;32mreturn\u001b[0m \u001b[1;33m[\u001b[0m\u001b[0mfunc\u001b[0m\u001b[1;33m(\u001b[0m\u001b[1;33m*\u001b[0m\u001b[0margs\u001b[0m\u001b[1;33m,\u001b[0m \u001b[1;33m**\u001b[0m\u001b[0mkwargs\u001b[0m\u001b[1;33m)\u001b[0m \u001b[1;32mfor\u001b[0m \u001b[0mfunc\u001b[0m\u001b[1;33m,\u001b[0m \u001b[0margs\u001b[0m\u001b[1;33m,\u001b[0m \u001b[0mkwargs\u001b[0m \u001b[1;32min\u001b[0m \u001b[0mself\u001b[0m\u001b[1;33m.\u001b[0m\u001b[0mitems\u001b[0m\u001b[1;33m]\u001b[0m\u001b[1;33m\u001b[0m\u001b[0m\n\u001b[0m\u001b[0;32m    132\u001b[0m \u001b[1;33m\u001b[0m\u001b[0m\n\u001b[0;32m    133\u001b[0m     \u001b[1;32mdef\u001b[0m \u001b[0m__len__\u001b[0m\u001b[1;33m(\u001b[0m\u001b[0mself\u001b[0m\u001b[1;33m)\u001b[0m\u001b[1;33m:\u001b[0m\u001b[1;33m\u001b[0m\u001b[0m\n",
      "\u001b[1;32mc:\\users\\chapm\\anaconda3\\lib\\site-packages\\sklearn\\externals\\joblib\\parallel.py\u001b[0m in \u001b[0;36m<listcomp>\u001b[1;34m(.0)\u001b[0m\n\u001b[0;32m    129\u001b[0m \u001b[1;33m\u001b[0m\u001b[0m\n\u001b[0;32m    130\u001b[0m     \u001b[1;32mdef\u001b[0m \u001b[0m__call__\u001b[0m\u001b[1;33m(\u001b[0m\u001b[0mself\u001b[0m\u001b[1;33m)\u001b[0m\u001b[1;33m:\u001b[0m\u001b[1;33m\u001b[0m\u001b[0m\n\u001b[1;32m--> 131\u001b[1;33m         \u001b[1;32mreturn\u001b[0m \u001b[1;33m[\u001b[0m\u001b[0mfunc\u001b[0m\u001b[1;33m(\u001b[0m\u001b[1;33m*\u001b[0m\u001b[0margs\u001b[0m\u001b[1;33m,\u001b[0m \u001b[1;33m**\u001b[0m\u001b[0mkwargs\u001b[0m\u001b[1;33m)\u001b[0m \u001b[1;32mfor\u001b[0m \u001b[0mfunc\u001b[0m\u001b[1;33m,\u001b[0m \u001b[0margs\u001b[0m\u001b[1;33m,\u001b[0m \u001b[0mkwargs\u001b[0m \u001b[1;32min\u001b[0m \u001b[0mself\u001b[0m\u001b[1;33m.\u001b[0m\u001b[0mitems\u001b[0m\u001b[1;33m]\u001b[0m\u001b[1;33m\u001b[0m\u001b[0m\n\u001b[0m\u001b[0;32m    132\u001b[0m \u001b[1;33m\u001b[0m\u001b[0m\n\u001b[0;32m    133\u001b[0m     \u001b[1;32mdef\u001b[0m \u001b[0m__len__\u001b[0m\u001b[1;33m(\u001b[0m\u001b[0mself\u001b[0m\u001b[1;33m)\u001b[0m\u001b[1;33m:\u001b[0m\u001b[1;33m\u001b[0m\u001b[0m\n",
      "\u001b[1;32mc:\\users\\chapm\\anaconda3\\lib\\site-packages\\sklearn\\model_selection\\_validation.py\u001b[0m in \u001b[0;36m_fit_and_score\u001b[1;34m(estimator, X, y, scorer, train, test, verbose, parameters, fit_params, return_train_score, return_parameters, return_n_test_samples, return_times, error_score)\u001b[0m\n\u001b[0;32m    236\u001b[0m             \u001b[0mestimator\u001b[0m\u001b[1;33m.\u001b[0m\u001b[0mfit\u001b[0m\u001b[1;33m(\u001b[0m\u001b[0mX_train\u001b[0m\u001b[1;33m,\u001b[0m \u001b[1;33m**\u001b[0m\u001b[0mfit_params\u001b[0m\u001b[1;33m)\u001b[0m\u001b[1;33m\u001b[0m\u001b[0m\n\u001b[0;32m    237\u001b[0m         \u001b[1;32melse\u001b[0m\u001b[1;33m:\u001b[0m\u001b[1;33m\u001b[0m\u001b[0m\n\u001b[1;32m--> 238\u001b[1;33m             \u001b[0mestimator\u001b[0m\u001b[1;33m.\u001b[0m\u001b[0mfit\u001b[0m\u001b[1;33m(\u001b[0m\u001b[0mX_train\u001b[0m\u001b[1;33m,\u001b[0m \u001b[0my_train\u001b[0m\u001b[1;33m,\u001b[0m \u001b[1;33m**\u001b[0m\u001b[0mfit_params\u001b[0m\u001b[1;33m)\u001b[0m\u001b[1;33m\u001b[0m\u001b[0m\n\u001b[0m\u001b[0;32m    239\u001b[0m \u001b[1;33m\u001b[0m\u001b[0m\n\u001b[0;32m    240\u001b[0m     \u001b[1;32mexcept\u001b[0m \u001b[0mException\u001b[0m \u001b[1;32mas\u001b[0m \u001b[0me\u001b[0m\u001b[1;33m:\u001b[0m\u001b[1;33m\u001b[0m\u001b[0m\n",
      "\u001b[1;32mc:\\users\\chapm\\anaconda3\\lib\\site-packages\\sklearn\\pipeline.py\u001b[0m in \u001b[0;36mfit\u001b[1;34m(self, X, y, **fit_params)\u001b[0m\n\u001b[0;32m    266\u001b[0m             \u001b[0mThis\u001b[0m \u001b[0mestimator\u001b[0m\u001b[1;33m\u001b[0m\u001b[0m\n\u001b[0;32m    267\u001b[0m         \"\"\"\n\u001b[1;32m--> 268\u001b[1;33m         \u001b[0mXt\u001b[0m\u001b[1;33m,\u001b[0m \u001b[0mfit_params\u001b[0m \u001b[1;33m=\u001b[0m \u001b[0mself\u001b[0m\u001b[1;33m.\u001b[0m\u001b[0m_fit\u001b[0m\u001b[1;33m(\u001b[0m\u001b[0mX\u001b[0m\u001b[1;33m,\u001b[0m \u001b[0my\u001b[0m\u001b[1;33m,\u001b[0m \u001b[1;33m**\u001b[0m\u001b[0mfit_params\u001b[0m\u001b[1;33m)\u001b[0m\u001b[1;33m\u001b[0m\u001b[0m\n\u001b[0m\u001b[0;32m    269\u001b[0m         \u001b[1;32mif\u001b[0m \u001b[0mself\u001b[0m\u001b[1;33m.\u001b[0m\u001b[0m_final_estimator\u001b[0m \u001b[1;32mis\u001b[0m \u001b[1;32mnot\u001b[0m \u001b[1;32mNone\u001b[0m\u001b[1;33m:\u001b[0m\u001b[1;33m\u001b[0m\u001b[0m\n\u001b[0;32m    270\u001b[0m             \u001b[0mself\u001b[0m\u001b[1;33m.\u001b[0m\u001b[0m_final_estimator\u001b[0m\u001b[1;33m.\u001b[0m\u001b[0mfit\u001b[0m\u001b[1;33m(\u001b[0m\u001b[0mXt\u001b[0m\u001b[1;33m,\u001b[0m \u001b[0my\u001b[0m\u001b[1;33m,\u001b[0m \u001b[1;33m**\u001b[0m\u001b[0mfit_params\u001b[0m\u001b[1;33m)\u001b[0m\u001b[1;33m\u001b[0m\u001b[0m\n",
      "\u001b[1;32mc:\\users\\chapm\\anaconda3\\lib\\site-packages\\sklearn\\pipeline.py\u001b[0m in \u001b[0;36m_fit\u001b[1;34m(self, X, y, **fit_params)\u001b[0m\n\u001b[0;32m    232\u001b[0m                 \u001b[1;32mpass\u001b[0m\u001b[1;33m\u001b[0m\u001b[0m\n\u001b[0;32m    233\u001b[0m             \u001b[1;32melif\u001b[0m \u001b[0mhasattr\u001b[0m\u001b[1;33m(\u001b[0m\u001b[0mtransform\u001b[0m\u001b[1;33m,\u001b[0m \u001b[1;34m\"fit_transform\"\u001b[0m\u001b[1;33m)\u001b[0m\u001b[1;33m:\u001b[0m\u001b[1;33m\u001b[0m\u001b[0m\n\u001b[1;32m--> 234\u001b[1;33m                 \u001b[0mXt\u001b[0m \u001b[1;33m=\u001b[0m \u001b[0mtransform\u001b[0m\u001b[1;33m.\u001b[0m\u001b[0mfit_transform\u001b[0m\u001b[1;33m(\u001b[0m\u001b[0mXt\u001b[0m\u001b[1;33m,\u001b[0m \u001b[0my\u001b[0m\u001b[1;33m,\u001b[0m \u001b[1;33m**\u001b[0m\u001b[0mfit_params_steps\u001b[0m\u001b[1;33m[\u001b[0m\u001b[0mname\u001b[0m\u001b[1;33m]\u001b[0m\u001b[1;33m)\u001b[0m\u001b[1;33m\u001b[0m\u001b[0m\n\u001b[0m\u001b[0;32m    235\u001b[0m             \u001b[1;32melse\u001b[0m\u001b[1;33m:\u001b[0m\u001b[1;33m\u001b[0m\u001b[0m\n\u001b[0;32m    236\u001b[0m                 \u001b[0mXt\u001b[0m \u001b[1;33m=\u001b[0m \u001b[0mtransform\u001b[0m\u001b[1;33m.\u001b[0m\u001b[0mfit\u001b[0m\u001b[1;33m(\u001b[0m\u001b[0mXt\u001b[0m\u001b[1;33m,\u001b[0m \u001b[0my\u001b[0m\u001b[1;33m,\u001b[0m \u001b[1;33m**\u001b[0m\u001b[0mfit_params_steps\u001b[0m\u001b[1;33m[\u001b[0m\u001b[0mname\u001b[0m\u001b[1;33m]\u001b[0m\u001b[1;33m)\u001b[0m\u001b[0;31m \u001b[0m\u001b[0;31m\\\u001b[0m\u001b[1;33m\u001b[0m\u001b[0m\n",
      "\u001b[1;32mc:\\users\\chapm\\anaconda3\\lib\\site-packages\\sklearn\\base.py\u001b[0m in \u001b[0;36mfit_transform\u001b[1;34m(self, X, y, **fit_params)\u001b[0m\n\u001b[0;32m    495\u001b[0m         \u001b[1;32melse\u001b[0m\u001b[1;33m:\u001b[0m\u001b[1;33m\u001b[0m\u001b[0m\n\u001b[0;32m    496\u001b[0m             \u001b[1;31m# fit method of arity 2 (supervised transformation)\u001b[0m\u001b[1;33m\u001b[0m\u001b[1;33m\u001b[0m\u001b[0m\n\u001b[1;32m--> 497\u001b[1;33m             \u001b[1;32mreturn\u001b[0m \u001b[0mself\u001b[0m\u001b[1;33m.\u001b[0m\u001b[0mfit\u001b[0m\u001b[1;33m(\u001b[0m\u001b[0mX\u001b[0m\u001b[1;33m,\u001b[0m \u001b[0my\u001b[0m\u001b[1;33m,\u001b[0m \u001b[1;33m**\u001b[0m\u001b[0mfit_params\u001b[0m\u001b[1;33m)\u001b[0m\u001b[1;33m.\u001b[0m\u001b[0mtransform\u001b[0m\u001b[1;33m(\u001b[0m\u001b[0mX\u001b[0m\u001b[1;33m)\u001b[0m\u001b[1;33m\u001b[0m\u001b[0m\n\u001b[0m\u001b[0;32m    498\u001b[0m \u001b[1;33m\u001b[0m\u001b[0m\n\u001b[0;32m    499\u001b[0m \u001b[1;33m\u001b[0m\u001b[0m\n",
      "\u001b[1;32mC:\\Users\\chapm\\Documents\\GitHub\\RJMCMC\\autorj\\interaction.py\u001b[0m in \u001b[0;36mtransform\u001b[1;34m(self, X_df)\u001b[0m\n\u001b[0;32m     40\u001b[0m             \u001b[1;32melif\u001b[0m \u001b[0mtype\u001b[0m\u001b[1;33m(\u001b[0m\u001b[0minteraction_list\u001b[0m\u001b[1;33m[\u001b[0m\u001b[1;36m0\u001b[0m\u001b[1;33m]\u001b[0m\u001b[1;33m)\u001b[0m \u001b[1;32mis\u001b[0m \u001b[0mstr\u001b[0m\u001b[1;33m:\u001b[0m\u001b[1;33m\u001b[0m\u001b[0m\n\u001b[0;32m     41\u001b[0m                 \u001b[1;31m# check that it is str, and pull out the two (or more) columns\u001b[0m\u001b[1;33m\u001b[0m\u001b[1;33m\u001b[0m\u001b[0m\n\u001b[1;32m---> 42\u001b[1;33m                 \u001b[0mx1\u001b[0m \u001b[1;33m=\u001b[0m \u001b[0mnp\u001b[0m\u001b[1;33m.\u001b[0m\u001b[0marray\u001b[0m\u001b[1;33m(\u001b[0m\u001b[0mX\u001b[0m\u001b[1;33m[\u001b[0m\u001b[0minteraction_list\u001b[0m\u001b[1;33m]\u001b[0m\u001b[1;33m)\u001b[0m\u001b[1;33m\u001b[0m\u001b[0m\n\u001b[0m\u001b[0;32m     43\u001b[0m                 x1_interaction = reduce(np.multiply, \n\u001b[0;32m     44\u001b[0m                                         [X[idx] for idx in interaction_list])\n",
      "\u001b[1;32mc:\\users\\chapm\\anaconda3\\lib\\site-packages\\pandas\\core\\frame.py\u001b[0m in \u001b[0;36m__getitem__\u001b[1;34m(self, key)\u001b[0m\n\u001b[0;32m   2051\u001b[0m         \u001b[1;32mif\u001b[0m \u001b[0misinstance\u001b[0m\u001b[1;33m(\u001b[0m\u001b[0mkey\u001b[0m\u001b[1;33m,\u001b[0m \u001b[1;33m(\u001b[0m\u001b[0mSeries\u001b[0m\u001b[1;33m,\u001b[0m \u001b[0mnp\u001b[0m\u001b[1;33m.\u001b[0m\u001b[0mndarray\u001b[0m\u001b[1;33m,\u001b[0m \u001b[0mIndex\u001b[0m\u001b[1;33m,\u001b[0m \u001b[0mlist\u001b[0m\u001b[1;33m)\u001b[0m\u001b[1;33m)\u001b[0m\u001b[1;33m:\u001b[0m\u001b[1;33m\u001b[0m\u001b[0m\n\u001b[0;32m   2052\u001b[0m             \u001b[1;31m# either boolean or fancy integer index\u001b[0m\u001b[1;33m\u001b[0m\u001b[1;33m\u001b[0m\u001b[0m\n\u001b[1;32m-> 2053\u001b[1;33m             \u001b[1;32mreturn\u001b[0m \u001b[0mself\u001b[0m\u001b[1;33m.\u001b[0m\u001b[0m_getitem_array\u001b[0m\u001b[1;33m(\u001b[0m\u001b[0mkey\u001b[0m\u001b[1;33m)\u001b[0m\u001b[1;33m\u001b[0m\u001b[0m\n\u001b[0m\u001b[0;32m   2054\u001b[0m         \u001b[1;32melif\u001b[0m \u001b[0misinstance\u001b[0m\u001b[1;33m(\u001b[0m\u001b[0mkey\u001b[0m\u001b[1;33m,\u001b[0m \u001b[0mDataFrame\u001b[0m\u001b[1;33m)\u001b[0m\u001b[1;33m:\u001b[0m\u001b[1;33m\u001b[0m\u001b[0m\n\u001b[0;32m   2055\u001b[0m             \u001b[1;32mreturn\u001b[0m \u001b[0mself\u001b[0m\u001b[1;33m.\u001b[0m\u001b[0m_getitem_frame\u001b[0m\u001b[1;33m(\u001b[0m\u001b[0mkey\u001b[0m\u001b[1;33m)\u001b[0m\u001b[1;33m\u001b[0m\u001b[0m\n",
      "\u001b[1;32mc:\\users\\chapm\\anaconda3\\lib\\site-packages\\pandas\\core\\frame.py\u001b[0m in \u001b[0;36m_getitem_array\u001b[1;34m(self, key)\u001b[0m\n\u001b[0;32m   2095\u001b[0m             \u001b[1;32mreturn\u001b[0m \u001b[0mself\u001b[0m\u001b[1;33m.\u001b[0m\u001b[0mtake\u001b[0m\u001b[1;33m(\u001b[0m\u001b[0mindexer\u001b[0m\u001b[1;33m,\u001b[0m \u001b[0maxis\u001b[0m\u001b[1;33m=\u001b[0m\u001b[1;36m0\u001b[0m\u001b[1;33m,\u001b[0m \u001b[0mconvert\u001b[0m\u001b[1;33m=\u001b[0m\u001b[1;32mFalse\u001b[0m\u001b[1;33m)\u001b[0m\u001b[1;33m\u001b[0m\u001b[0m\n\u001b[0;32m   2096\u001b[0m         \u001b[1;32melse\u001b[0m\u001b[1;33m:\u001b[0m\u001b[1;33m\u001b[0m\u001b[0m\n\u001b[1;32m-> 2097\u001b[1;33m             \u001b[0mindexer\u001b[0m \u001b[1;33m=\u001b[0m \u001b[0mself\u001b[0m\u001b[1;33m.\u001b[0m\u001b[0mix\u001b[0m\u001b[1;33m.\u001b[0m\u001b[0m_convert_to_indexer\u001b[0m\u001b[1;33m(\u001b[0m\u001b[0mkey\u001b[0m\u001b[1;33m,\u001b[0m \u001b[0maxis\u001b[0m\u001b[1;33m=\u001b[0m\u001b[1;36m1\u001b[0m\u001b[1;33m)\u001b[0m\u001b[1;33m\u001b[0m\u001b[0m\n\u001b[0m\u001b[0;32m   2098\u001b[0m             \u001b[1;32mreturn\u001b[0m \u001b[0mself\u001b[0m\u001b[1;33m.\u001b[0m\u001b[0mtake\u001b[0m\u001b[1;33m(\u001b[0m\u001b[0mindexer\u001b[0m\u001b[1;33m,\u001b[0m \u001b[0maxis\u001b[0m\u001b[1;33m=\u001b[0m\u001b[1;36m1\u001b[0m\u001b[1;33m,\u001b[0m \u001b[0mconvert\u001b[0m\u001b[1;33m=\u001b[0m\u001b[1;32mTrue\u001b[0m\u001b[1;33m)\u001b[0m\u001b[1;33m\u001b[0m\u001b[0m\n\u001b[0;32m   2099\u001b[0m \u001b[1;33m\u001b[0m\u001b[0m\n",
      "\u001b[1;32mc:\\users\\chapm\\anaconda3\\lib\\site-packages\\pandas\\core\\indexing.py\u001b[0m in \u001b[0;36m_convert_to_indexer\u001b[1;34m(self, obj, axis, is_setter)\u001b[0m\n\u001b[0;32m   1228\u001b[0m                 \u001b[0mmask\u001b[0m \u001b[1;33m=\u001b[0m \u001b[0mcheck\u001b[0m \u001b[1;33m==\u001b[0m \u001b[1;33m-\u001b[0m\u001b[1;36m1\u001b[0m\u001b[1;33m\u001b[0m\u001b[0m\n\u001b[0;32m   1229\u001b[0m                 \u001b[1;32mif\u001b[0m \u001b[0mmask\u001b[0m\u001b[1;33m.\u001b[0m\u001b[0many\u001b[0m\u001b[1;33m(\u001b[0m\u001b[1;33m)\u001b[0m\u001b[1;33m:\u001b[0m\u001b[1;33m\u001b[0m\u001b[0m\n\u001b[1;32m-> 1230\u001b[1;33m                     \u001b[1;32mraise\u001b[0m \u001b[0mKeyError\u001b[0m\u001b[1;33m(\u001b[0m\u001b[1;34m'%s not in index'\u001b[0m \u001b[1;33m%\u001b[0m \u001b[0mobjarr\u001b[0m\u001b[1;33m[\u001b[0m\u001b[0mmask\u001b[0m\u001b[1;33m]\u001b[0m\u001b[1;33m)\u001b[0m\u001b[1;33m\u001b[0m\u001b[0m\n\u001b[0m\u001b[0;32m   1231\u001b[0m \u001b[1;33m\u001b[0m\u001b[0m\n\u001b[0;32m   1232\u001b[0m                 \u001b[1;32mreturn\u001b[0m \u001b[0m_values_from_object\u001b[0m\u001b[1;33m(\u001b[0m\u001b[0mindexer\u001b[0m\u001b[1;33m)\u001b[0m\u001b[1;33m\u001b[0m\u001b[0m\n",
      "\u001b[1;31mKeyError\u001b[0m: \"['base_19_poshinge'] not in index\""
     ]
    }
   ],
   "source": [
    "iters = 20\n",
    "\n",
    "G_list = [graph_to_dict(G)]\n",
    "transform_list = []\n",
    "\n",
    "for i in range(iters):\n",
    "    print(i)\n",
    "    G_list_temp, transform_list_temp = mh_iter(G_list[:], transform_list[:])\n",
    "    G_list = G_list_temp[:]\n",
    "    transform_list = transform_list_temp[:]\n"
   ]
  },
  {
   "cell_type": "code",
   "execution_count": 34,
   "metadata": {
    "scrolled": true
   },
   "outputs": [
    {
     "name": "stdout",
     "output_type": "stream",
     "text": [
      "Performance at pipeline: 0 is \n",
      "\t0.6719999999999999\n",
      "\n"
     ]
    }
   ],
   "source": [
    "# evaluate performance so far...\n",
    "\n",
    "for pipeline in range(len(transform_list)+1):   \n",
    "    curr_pipeline = transform_list[:pipeline]\n",
    "    spawn_pipeline = spawn_new_pipeline(curr_pipeline)\n",
    "    #print(\"Evaluating pipeline: {}\".format(spawn_pipeline))\n",
    "    perf = eval_pipeline(additional_feats=spawn_pipeline, X=X_df, verbose=False)\n",
    "    print(\"Performance at pipeline: {} is \\n\\t{}\\n\".format(pipeline, perf))"
   ]
  }
 ],
 "metadata": {
  "kernelspec": {
   "display_name": "Python [default]",
   "language": "python",
   "name": "python3"
  },
  "language_info": {
   "codemirror_mode": {
    "name": "ipython",
    "version": 3
   },
   "file_extension": ".py",
   "mimetype": "text/x-python",
   "name": "python",
   "nbconvert_exporter": "python",
   "pygments_lexer": "ipython3",
   "version": "3.5.2"
  }
 },
 "nbformat": 4,
 "nbformat_minor": 2
}
