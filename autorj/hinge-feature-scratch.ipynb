{
 "cells": [
  {
   "cell_type": "code",
   "execution_count": 1,
   "metadata": {
    "collapsed": true
   },
   "outputs": [],
   "source": [
    "import numpy as np\n",
    "\n",
    "from sklearn.base import BaseEstimator, TransformerMixin\n"
   ]
  },
  {
   "cell_type": "code",
   "execution_count": 2,
   "metadata": {
    "collapsed": true
   },
   "outputs": [],
   "source": [
    "# get best split by metric??\n",
    "\n",
    "def get_classification(y):\n",
    "    \"\"\"\n",
    "    Calculates the misclassification\n",
    "    \n",
    "    returns total correct, total size, accuracy    \n",
    "    \"\"\"\n",
    "    if len(y) == 0:\n",
    "        return 0\n",
    "    from collections import Counter\n",
    "    c_y = Counter(y)\n",
    "    best = max(c_y, key=c_y.get)\n",
    "    return c_y[best]\n",
    "\n",
    "def error_on_split(x, y, split):\n",
    "    \"\"\"\n",
    "    parameters:\n",
    "    \n",
    "    x : 1d vector of a particular predictor\n",
    "    y : 1d vector of the response (categorical)\n",
    "    split: split point of interest\n",
    "    \n",
    "    returns the classification error based on this split\n",
    "    \n",
    "    Example:\n",
    "    \n",
    "    ```py\n",
    "    error_on_split(list(range(10)), [0,0,0,0,0,1,1,1,1,1], -1)\n",
    "    error_on_split(list(range(10)), [0,0,0,0,0,1,1,1,1,1], 4.5)\n",
    "    ```\n",
    "    \"\"\"\n",
    "    x = np.array(x)\n",
    "    y = np.array(y)\n",
    "    \n",
    "    split1 = np.where(x <  split)\n",
    "    split2 = np.where(x >= split)\n",
    "    \n",
    "    # check if \"legal\" split\n",
    "    # this is an extra condition so that the model doesn't have any splits with \n",
    "    # too few in one group...\n",
    "    min_group_size = min(len(split1[0]), len(split2[0]))\n",
    "    if float(min_group_size)/len(y) < 0.10 :\n",
    "        return 1\n",
    "    \n",
    "    total1 = get_classification(y[split1])\n",
    "    total2 = get_classification(y[split2])\n",
    "    \n",
    "    return 1-(float(total1+total2)/len(y))\n"
   ]
  },
  {
   "cell_type": "code",
   "execution_count": 3,
   "metadata": {
    "collapsed": true
   },
   "outputs": [],
   "source": [
    "def best_split(x, y, psplit=error_on_split):\n",
    "    \"\"\"\n",
    "    parameters:\n",
    "    \n",
    "    x : 1d vector of a particular predictor\n",
    "    y : 1d vector of the response (categorical)\n",
    "    \n",
    "    return the best split based on classification error\n",
    "    \n",
    "    tuple: split, metric score\n",
    "    \n",
    "    usage:\n",
    "    best_split(list(range(10)), [0,0,0,0,0,1,1,1,1,1])\n",
    "    \"\"\"\n",
    "    x = np.array(x)\n",
    "    y = np.array(y)\n",
    "    \n",
    "    pos_split = sorted(list(set(x)))[1:-1] \n",
    "    best_split = {split:error_on_split(x, y, split) for split in pos_split}\n",
    "    split = min(best_split, key=best_split.get) \n",
    "    split1 = np.where(x <  split)\n",
    "    split2 = np.where(x >=  split)\n",
    "    \n",
    "    return (split, best_split[split], len(split1[0]), len(split2[0]))"
   ]
  },
  {
   "cell_type": "code",
   "execution_count": 4,
   "metadata": {
    "collapsed": true
   },
   "outputs": [],
   "source": [
    "def best_feature_split(x, y):\n",
    "    \"\"\"\n",
    "    parameters:\n",
    "    \n",
    "    x : 1d vector of a particular predictor\n",
    "    y : 1d vector of the response (categorical)\n",
    "    \n",
    "    return the best split based on classification error\n",
    "    \n",
    "    usage:\n",
    "    \n",
    "    ```py\n",
    "    import numpy as np\n",
    "    from sklearn import datasets\n",
    "    \n",
    "    iris = datasets.load_iris()\n",
    "    \n",
    "    X = iris.data[:100, :]\n",
    "    y = iris.target[:100]\n",
    "    best_feature_split(X[:, :], y)\n",
    "    ```\n",
    "    \"\"\"\n",
    "    if x.ndim > 1:\n",
    "        feature_cols = x.shape[1]\n",
    "        feat_split = {col: best_split(x[:, col], y) for col in range(feature_cols)}\n",
    "        rpart = min(feat_split.items(), key=lambda x: x[1][1])\n",
    "        return {\n",
    "            'column': rpart[0],\n",
    "            'node': rpart[1][0],\n",
    "            'metric': rpart[1][1],\n",
    "            'split_size': (rpart[1][2],rpart[1][3])\n",
    "        }\n",
    "    else:\n",
    "        node, val, splitl, splitr = best_split(x, y)\n",
    "        return {\n",
    "            'column':0,\n",
    "            'node': node, \n",
    "            'metric': val,\n",
    "            'split_size': (splitl, splitr)\n",
    "        }"
   ]
  },
  {
   "cell_type": "code",
   "execution_count": 5,
   "metadata": {},
   "outputs": [
    {
     "data": {
      "text/plain": [
       "array([ 0.,  0.,  0.,  0.,  1.,  2.])"
      ]
     },
     "execution_count": 5,
     "metadata": {},
     "output_type": "execute_result"
    }
   ],
   "source": [
    "a = np.array([1,2,3,4,5,6])\n",
    "np.maximum.reduce([a-4, np.zeros(a.shape)])\n",
    "\n",
    "\n"
   ]
  },
  {
   "cell_type": "code",
   "execution_count": 6,
   "metadata": {
    "collapsed": true
   },
   "outputs": [],
   "source": [
    "\n",
    "class Hinge(BaseEstimator, TransformerMixin):\n",
    "    \"\"\"\n",
    "    Parameters\n",
    "    ----------\n",
    "    \n",
    "    This class should be fixed up to handle pandas dataframes...\n",
    "    \n",
    "    mask: the column indices to keep\n",
    "    hinge: the hinge point to calculate    \n",
    "    \"\"\"\n",
    "    \n",
    "    def _best_split(self, x, y, psplit, search_min):\n",
    "        \"\"\"\n",
    "        parameters:\n",
    "\n",
    "        x : 1d vector of a particular predictor\n",
    "        y : 1d vector of the response (categorical)\n",
    "\n",
    "        return the best split based on classification error\n",
    "\n",
    "        tuple: split, metric score\n",
    "\n",
    "        usage:\n",
    "        best_split(list(range(10)), [0,0,0,0,0,1,1,1,1,1])\n",
    "        \"\"\"\n",
    "        x = np.array(x)\n",
    "        y = np.array(y)\n",
    "\n",
    "        pos_split = sorted(list(set(x)))[1:-1] \n",
    "        best_split = {split:psplit(x, y, split) for split in pos_split}\n",
    "        if search_min:\n",
    "            split = min(best_split, key=best_split.get) \n",
    "        else:\n",
    "            split = max(best_split, key=best_split.get) \n",
    "        split1 = np.where(x <  split)\n",
    "        split2 = np.where(x >=  split)\n",
    "\n",
    "        return (split, best_split[split], len(split1[0]), len(split2[0]))\n",
    "    \n",
    "    def __init__(self, mask=0, hinge=None, psplit=error_on_split, search_min=True):\n",
    "        \"\"\"\n",
    "        psplit: is a function which determines how things should be split, \n",
    "        an example is provided in this file. \n",
    "        \n",
    "        search_min: determines if the function to be search is minimimized (error) or maximized (auc)\n",
    "        \"\"\"\n",
    "        self.mask = mask\n",
    "        self.hinge = hinge\n",
    "        self.psplit = psplit\n",
    "        self.search_min = search_min\n",
    "    \n",
    "    def fit(self, x, y=None):\n",
    "        \"\"\"\n",
    "        please fix this up\n",
    "        \"\"\"\n",
    "        if type(self.mask) is str:\n",
    "            x = np.array(x[self.mask])\n",
    "        else:\n",
    "            x = x[:, self.mask] \n",
    "        \n",
    "        hinge_point, metric, _, _ = self._best_split(x, y, self.psplit, self.search_min)\n",
    "        self.hinge = hinge_point\n",
    "        return self\n",
    "    \n",
    "    def transform(self, x_df, transform=\"both\"):\n",
    "        \"\"\"\n",
    "        very ugly code, please fix up        \n",
    "        \"\"\"\n",
    "        x = x_df.copy()\n",
    "        if type(self.mask) is str:\n",
    "            x1 = np.array(x[self.mask])\n",
    "        else:\n",
    "            x1 = x[:, self.mask] \n",
    "        x1_shape = x1.shape\n",
    "        pos_hinge = np.maximum.reduce([x1-self.hinge, np.zeros(x1_shape)])\n",
    "        neg_hinge = np.maximum.reduce([self.hinge-x1, np.zeros(x1_shape)])\n",
    "                \n",
    "        if type(self.mask) is str:\n",
    "            knot_point = \"{0:.2f}\".format(round(self.hinge,2))\n",
    "            knot_point = knot_point.replace(\".\", \"_\")\n",
    "            pos_name = \"{}_poshinge\".format(self.mask)\n",
    "            neg_name = \"{}_neghinge\".format(self.mask)\n",
    "            x[pos_name] = pos_hinge\n",
    "            x[neg_name] = neg_hinge\n",
    "            return x\n",
    "        else:\n",
    "            if transform == \"both\":\n",
    "                return np.hstack([x, pos_hinge.reshape(-1, 1), neg_hinge.reshape(-1, 1)])\n",
    "            elif transform == \"positive\":\n",
    "                return np.hstack([x, pos_hinge.reshape(-1, 1)])\n",
    "            else:\n",
    "                return np.hstack([x, neg_hinge.reshape(-1, 1)])"
   ]
  },
  {
   "cell_type": "code",
   "execution_count": 7,
   "metadata": {},
   "outputs": [
    {
     "data": {
      "text/plain": [
       "Hinge(hinge=5.5, mask=0,\n",
       "   psplit=<function error_on_split at 0x000001F55997E378>, search_min=True)"
      ]
     },
     "execution_count": 7,
     "metadata": {},
     "output_type": "execute_result"
    }
   ],
   "source": [
    "import numpy as np\n",
    "from sklearn import datasets\n",
    "\n",
    "iris = datasets.load_iris()\n",
    "\n",
    "X = iris.data[:100, :]\n",
    "y = iris.target[:100]\n",
    "\n",
    "hinge = Hinge()\n",
    "hinge.fit(X, y)"
   ]
  },
  {
   "cell_type": "code",
   "execution_count": 8,
   "metadata": {},
   "outputs": [
    {
     "data": {
      "text/plain": [
       "5.5"
      ]
     },
     "execution_count": 8,
     "metadata": {},
     "output_type": "execute_result"
    }
   ],
   "source": [
    "hinge.hinge"
   ]
  },
  {
   "cell_type": "code",
   "execution_count": 9,
   "metadata": {},
   "outputs": [
    {
     "data": {
      "text/plain": [
       "array([[ 5.1,  3.5,  1.4,  0.2,  0. ,  0.4],\n",
       "       [ 4.9,  3. ,  1.4,  0.2,  0. ,  0.6],\n",
       "       [ 4.7,  3.2,  1.3,  0.2,  0. ,  0.8],\n",
       "       [ 4.6,  3.1,  1.5,  0.2,  0. ,  0.9],\n",
       "       [ 5. ,  3.6,  1.4,  0.2,  0. ,  0.5],\n",
       "       [ 5.4,  3.9,  1.7,  0.4,  0. ,  0.1],\n",
       "       [ 4.6,  3.4,  1.4,  0.3,  0. ,  0.9],\n",
       "       [ 5. ,  3.4,  1.5,  0.2,  0. ,  0.5],\n",
       "       [ 4.4,  2.9,  1.4,  0.2,  0. ,  1.1],\n",
       "       [ 4.9,  3.1,  1.5,  0.1,  0. ,  0.6],\n",
       "       [ 5.4,  3.7,  1.5,  0.2,  0. ,  0.1],\n",
       "       [ 4.8,  3.4,  1.6,  0.2,  0. ,  0.7],\n",
       "       [ 4.8,  3. ,  1.4,  0.1,  0. ,  0.7],\n",
       "       [ 4.3,  3. ,  1.1,  0.1,  0. ,  1.2],\n",
       "       [ 5.8,  4. ,  1.2,  0.2,  0.3,  0. ],\n",
       "       [ 5.7,  4.4,  1.5,  0.4,  0.2,  0. ],\n",
       "       [ 5.4,  3.9,  1.3,  0.4,  0. ,  0.1],\n",
       "       [ 5.1,  3.5,  1.4,  0.3,  0. ,  0.4],\n",
       "       [ 5.7,  3.8,  1.7,  0.3,  0.2,  0. ],\n",
       "       [ 5.1,  3.8,  1.5,  0.3,  0. ,  0.4],\n",
       "       [ 5.4,  3.4,  1.7,  0.2,  0. ,  0.1],\n",
       "       [ 5.1,  3.7,  1.5,  0.4,  0. ,  0.4],\n",
       "       [ 4.6,  3.6,  1. ,  0.2,  0. ,  0.9],\n",
       "       [ 5.1,  3.3,  1.7,  0.5,  0. ,  0.4],\n",
       "       [ 4.8,  3.4,  1.9,  0.2,  0. ,  0.7],\n",
       "       [ 5. ,  3. ,  1.6,  0.2,  0. ,  0.5],\n",
       "       [ 5. ,  3.4,  1.6,  0.4,  0. ,  0.5],\n",
       "       [ 5.2,  3.5,  1.5,  0.2,  0. ,  0.3],\n",
       "       [ 5.2,  3.4,  1.4,  0.2,  0. ,  0.3],\n",
       "       [ 4.7,  3.2,  1.6,  0.2,  0. ,  0.8],\n",
       "       [ 4.8,  3.1,  1.6,  0.2,  0. ,  0.7],\n",
       "       [ 5.4,  3.4,  1.5,  0.4,  0. ,  0.1],\n",
       "       [ 5.2,  4.1,  1.5,  0.1,  0. ,  0.3],\n",
       "       [ 5.5,  4.2,  1.4,  0.2,  0. ,  0. ],\n",
       "       [ 4.9,  3.1,  1.5,  0.1,  0. ,  0.6],\n",
       "       [ 5. ,  3.2,  1.2,  0.2,  0. ,  0.5],\n",
       "       [ 5.5,  3.5,  1.3,  0.2,  0. ,  0. ],\n",
       "       [ 4.9,  3.1,  1.5,  0.1,  0. ,  0.6],\n",
       "       [ 4.4,  3. ,  1.3,  0.2,  0. ,  1.1],\n",
       "       [ 5.1,  3.4,  1.5,  0.2,  0. ,  0.4],\n",
       "       [ 5. ,  3.5,  1.3,  0.3,  0. ,  0.5],\n",
       "       [ 4.5,  2.3,  1.3,  0.3,  0. ,  1. ],\n",
       "       [ 4.4,  3.2,  1.3,  0.2,  0. ,  1.1],\n",
       "       [ 5. ,  3.5,  1.6,  0.6,  0. ,  0.5],\n",
       "       [ 5.1,  3.8,  1.9,  0.4,  0. ,  0.4],\n",
       "       [ 4.8,  3. ,  1.4,  0.3,  0. ,  0.7],\n",
       "       [ 5.1,  3.8,  1.6,  0.2,  0. ,  0.4],\n",
       "       [ 4.6,  3.2,  1.4,  0.2,  0. ,  0.9],\n",
       "       [ 5.3,  3.7,  1.5,  0.2,  0. ,  0.2],\n",
       "       [ 5. ,  3.3,  1.4,  0.2,  0. ,  0.5],\n",
       "       [ 7. ,  3.2,  4.7,  1.4,  1.5,  0. ],\n",
       "       [ 6.4,  3.2,  4.5,  1.5,  0.9,  0. ],\n",
       "       [ 6.9,  3.1,  4.9,  1.5,  1.4,  0. ],\n",
       "       [ 5.5,  2.3,  4. ,  1.3,  0. ,  0. ],\n",
       "       [ 6.5,  2.8,  4.6,  1.5,  1. ,  0. ],\n",
       "       [ 5.7,  2.8,  4.5,  1.3,  0.2,  0. ],\n",
       "       [ 6.3,  3.3,  4.7,  1.6,  0.8,  0. ],\n",
       "       [ 4.9,  2.4,  3.3,  1. ,  0. ,  0.6],\n",
       "       [ 6.6,  2.9,  4.6,  1.3,  1.1,  0. ],\n",
       "       [ 5.2,  2.7,  3.9,  1.4,  0. ,  0.3],\n",
       "       [ 5. ,  2. ,  3.5,  1. ,  0. ,  0.5],\n",
       "       [ 5.9,  3. ,  4.2,  1.5,  0.4,  0. ],\n",
       "       [ 6. ,  2.2,  4. ,  1. ,  0.5,  0. ],\n",
       "       [ 6.1,  2.9,  4.7,  1.4,  0.6,  0. ],\n",
       "       [ 5.6,  2.9,  3.6,  1.3,  0.1,  0. ],\n",
       "       [ 6.7,  3.1,  4.4,  1.4,  1.2,  0. ],\n",
       "       [ 5.6,  3. ,  4.5,  1.5,  0.1,  0. ],\n",
       "       [ 5.8,  2.7,  4.1,  1. ,  0.3,  0. ],\n",
       "       [ 6.2,  2.2,  4.5,  1.5,  0.7,  0. ],\n",
       "       [ 5.6,  2.5,  3.9,  1.1,  0.1,  0. ],\n",
       "       [ 5.9,  3.2,  4.8,  1.8,  0.4,  0. ],\n",
       "       [ 6.1,  2.8,  4. ,  1.3,  0.6,  0. ],\n",
       "       [ 6.3,  2.5,  4.9,  1.5,  0.8,  0. ],\n",
       "       [ 6.1,  2.8,  4.7,  1.2,  0.6,  0. ],\n",
       "       [ 6.4,  2.9,  4.3,  1.3,  0.9,  0. ],\n",
       "       [ 6.6,  3. ,  4.4,  1.4,  1.1,  0. ],\n",
       "       [ 6.8,  2.8,  4.8,  1.4,  1.3,  0. ],\n",
       "       [ 6.7,  3. ,  5. ,  1.7,  1.2,  0. ],\n",
       "       [ 6. ,  2.9,  4.5,  1.5,  0.5,  0. ],\n",
       "       [ 5.7,  2.6,  3.5,  1. ,  0.2,  0. ],\n",
       "       [ 5.5,  2.4,  3.8,  1.1,  0. ,  0. ],\n",
       "       [ 5.5,  2.4,  3.7,  1. ,  0. ,  0. ],\n",
       "       [ 5.8,  2.7,  3.9,  1.2,  0.3,  0. ],\n",
       "       [ 6. ,  2.7,  5.1,  1.6,  0.5,  0. ],\n",
       "       [ 5.4,  3. ,  4.5,  1.5,  0. ,  0.1],\n",
       "       [ 6. ,  3.4,  4.5,  1.6,  0.5,  0. ],\n",
       "       [ 6.7,  3.1,  4.7,  1.5,  1.2,  0. ],\n",
       "       [ 6.3,  2.3,  4.4,  1.3,  0.8,  0. ],\n",
       "       [ 5.6,  3. ,  4.1,  1.3,  0.1,  0. ],\n",
       "       [ 5.5,  2.5,  4. ,  1.3,  0. ,  0. ],\n",
       "       [ 5.5,  2.6,  4.4,  1.2,  0. ,  0. ],\n",
       "       [ 6.1,  3. ,  4.6,  1.4,  0.6,  0. ],\n",
       "       [ 5.8,  2.6,  4. ,  1.2,  0.3,  0. ],\n",
       "       [ 5. ,  2.3,  3.3,  1. ,  0. ,  0.5],\n",
       "       [ 5.6,  2.7,  4.2,  1.3,  0.1,  0. ],\n",
       "       [ 5.7,  3. ,  4.2,  1.2,  0.2,  0. ],\n",
       "       [ 5.7,  2.9,  4.2,  1.3,  0.2,  0. ],\n",
       "       [ 6.2,  2.9,  4.3,  1.3,  0.7,  0. ],\n",
       "       [ 5.1,  2.5,  3. ,  1.1,  0. ,  0.4],\n",
       "       [ 5.7,  2.8,  4.1,  1.3,  0.2,  0. ]])"
      ]
     },
     "execution_count": 9,
     "metadata": {},
     "output_type": "execute_result"
    }
   ],
   "source": [
    "hinge.transform(X)"
   ]
  },
  {
   "cell_type": "code",
   "execution_count": 10,
   "metadata": {},
   "outputs": [
    {
     "data": {
      "text/html": [
       "<div>\n",
       "<table border=\"1\" class=\"dataframe\">\n",
       "  <thead>\n",
       "    <tr style=\"text-align: right;\">\n",
       "      <th></th>\n",
       "      <th>base_0</th>\n",
       "      <th>base_1</th>\n",
       "      <th>base_2</th>\n",
       "      <th>base_3</th>\n",
       "    </tr>\n",
       "  </thead>\n",
       "  <tbody>\n",
       "    <tr>\n",
       "      <th>0</th>\n",
       "      <td>5.1</td>\n",
       "      <td>3.5</td>\n",
       "      <td>1.4</td>\n",
       "      <td>0.2</td>\n",
       "    </tr>\n",
       "    <tr>\n",
       "      <th>1</th>\n",
       "      <td>4.9</td>\n",
       "      <td>3.0</td>\n",
       "      <td>1.4</td>\n",
       "      <td>0.2</td>\n",
       "    </tr>\n",
       "    <tr>\n",
       "      <th>2</th>\n",
       "      <td>4.7</td>\n",
       "      <td>3.2</td>\n",
       "      <td>1.3</td>\n",
       "      <td>0.2</td>\n",
       "    </tr>\n",
       "    <tr>\n",
       "      <th>3</th>\n",
       "      <td>4.6</td>\n",
       "      <td>3.1</td>\n",
       "      <td>1.5</td>\n",
       "      <td>0.2</td>\n",
       "    </tr>\n",
       "    <tr>\n",
       "      <th>4</th>\n",
       "      <td>5.0</td>\n",
       "      <td>3.6</td>\n",
       "      <td>1.4</td>\n",
       "      <td>0.2</td>\n",
       "    </tr>\n",
       "  </tbody>\n",
       "</table>\n",
       "</div>"
      ],
      "text/plain": [
       "   base_0  base_1  base_2  base_3\n",
       "0     5.1     3.5     1.4     0.2\n",
       "1     4.9     3.0     1.4     0.2\n",
       "2     4.7     3.2     1.3     0.2\n",
       "3     4.6     3.1     1.5     0.2\n",
       "4     5.0     3.6     1.4     0.2"
      ]
     },
     "execution_count": 10,
     "metadata": {},
     "output_type": "execute_result"
    }
   ],
   "source": [
    "import pandas as pd\n",
    "X_df = pd.DataFrame(X)\n",
    "base_names = [\"base_{}\".format(x) for x in range(X.shape[1])]\n",
    "X_df.columns = base_names[:]\n",
    "X_df.head()"
   ]
  },
  {
   "cell_type": "code",
   "execution_count": 11,
   "metadata": {},
   "outputs": [
    {
     "data": {
      "text/plain": [
       "Hinge(hinge=5.5, mask='base_0',\n",
       "   psplit=<function error_on_split at 0x000001F55997E378>, search_min=True)"
      ]
     },
     "execution_count": 11,
     "metadata": {},
     "output_type": "execute_result"
    }
   ],
   "source": [
    "hinge = Hinge(mask=\"base_0\")\n",
    "hinge.fit(X_df, y)"
   ]
  },
  {
   "cell_type": "code",
   "execution_count": 12,
   "metadata": {},
   "outputs": [
    {
     "data": {
      "text/html": [
       "<div>\n",
       "<table border=\"1\" class=\"dataframe\">\n",
       "  <thead>\n",
       "    <tr style=\"text-align: right;\">\n",
       "      <th></th>\n",
       "      <th>base_0</th>\n",
       "      <th>base_1</th>\n",
       "      <th>base_2</th>\n",
       "      <th>base_3</th>\n",
       "      <th>base_0_poshinge</th>\n",
       "      <th>base_0_neghinge</th>\n",
       "    </tr>\n",
       "  </thead>\n",
       "  <tbody>\n",
       "    <tr>\n",
       "      <th>0</th>\n",
       "      <td>5.1</td>\n",
       "      <td>3.5</td>\n",
       "      <td>1.4</td>\n",
       "      <td>0.2</td>\n",
       "      <td>0.0</td>\n",
       "      <td>0.4</td>\n",
       "    </tr>\n",
       "    <tr>\n",
       "      <th>1</th>\n",
       "      <td>4.9</td>\n",
       "      <td>3.0</td>\n",
       "      <td>1.4</td>\n",
       "      <td>0.2</td>\n",
       "      <td>0.0</td>\n",
       "      <td>0.6</td>\n",
       "    </tr>\n",
       "    <tr>\n",
       "      <th>2</th>\n",
       "      <td>4.7</td>\n",
       "      <td>3.2</td>\n",
       "      <td>1.3</td>\n",
       "      <td>0.2</td>\n",
       "      <td>0.0</td>\n",
       "      <td>0.8</td>\n",
       "    </tr>\n",
       "    <tr>\n",
       "      <th>3</th>\n",
       "      <td>4.6</td>\n",
       "      <td>3.1</td>\n",
       "      <td>1.5</td>\n",
       "      <td>0.2</td>\n",
       "      <td>0.0</td>\n",
       "      <td>0.9</td>\n",
       "    </tr>\n",
       "    <tr>\n",
       "      <th>4</th>\n",
       "      <td>5.0</td>\n",
       "      <td>3.6</td>\n",
       "      <td>1.4</td>\n",
       "      <td>0.2</td>\n",
       "      <td>0.0</td>\n",
       "      <td>0.5</td>\n",
       "    </tr>\n",
       "  </tbody>\n",
       "</table>\n",
       "</div>"
      ],
      "text/plain": [
       "   base_0  base_1  base_2  base_3  base_0_poshinge  base_0_neghinge\n",
       "0     5.1     3.5     1.4     0.2              0.0              0.4\n",
       "1     4.9     3.0     1.4     0.2              0.0              0.6\n",
       "2     4.7     3.2     1.3     0.2              0.0              0.8\n",
       "3     4.6     3.1     1.5     0.2              0.0              0.9\n",
       "4     5.0     3.6     1.4     0.2              0.0              0.5"
      ]
     },
     "execution_count": 12,
     "metadata": {},
     "output_type": "execute_result"
    }
   ],
   "source": [
    "hinge.transform(X_df).head()"
   ]
  },
  {
   "cell_type": "code",
   "execution_count": null,
   "metadata": {
    "collapsed": true
   },
   "outputs": [],
   "source": []
  }
 ],
 "metadata": {
  "kernelspec": {
   "display_name": "Python [default]",
   "language": "python",
   "name": "python3"
  },
  "language_info": {
   "codemirror_mode": {
    "name": "ipython",
    "version": 3
   },
   "file_extension": ".py",
   "mimetype": "text/x-python",
   "name": "python",
   "nbconvert_exporter": "python",
   "pygments_lexer": "ipython3",
   "version": "3.5.2"
  }
 },
 "nbformat": 4,
 "nbformat_minor": 2
}
